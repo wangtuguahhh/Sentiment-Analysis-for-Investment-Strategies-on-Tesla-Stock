{
 "cells": [
  {
   "cell_type": "markdown",
   "id": "b7456f1f-d9b6-402c-9156-6bacd285f9e7",
   "metadata": {},
   "source": [
    "# Fine-Tuning BERT for:\n",
    "* Text classification to tell if the news is directly related to Tesla or not\n",
    "* Sentiment analysis on news"
   ]
  },
  {
   "cell_type": "code",
   "execution_count": 205,
   "id": "e4065960-736f-4dbd-bcb4-ac610220bf43",
   "metadata": {},
   "outputs": [],
   "source": [
    "import pandas as pd\n",
    "import matplotlib.pyplot as plt\n",
    "import seaborn as sns\n",
    "\n",
    "import torch\n",
    "from torch.utils.data import Dataset, DataLoader\n",
    "\n",
    "from transformers import AutoTokenizer, AutoModelForSequenceClassification, Trainer, TrainingArguments, EvalPrediction\n",
    "\n",
    "from sklearn.metrics import f1_score, roc_auc_score, accuracy_score"
   ]
  },
  {
   "cell_type": "markdown",
   "id": "b04fcc49-f0c9-43b6-bffc-78474c0dfaf6",
   "metadata": {},
   "source": [
    "## Data Preperation"
   ]
  },
  {
   "cell_type": "code",
   "execution_count": 9,
   "id": "07c0b422-c5d2-4254-b5f6-a09c2dd0c234",
   "metadata": {},
   "outputs": [
    {
     "data": {
      "text/html": [
       "<div>\n",
       "<style scoped>\n",
       "    .dataframe tbody tr th:only-of-type {\n",
       "        vertical-align: middle;\n",
       "    }\n",
       "\n",
       "    .dataframe tbody tr th {\n",
       "        vertical-align: top;\n",
       "    }\n",
       "\n",
       "    .dataframe thead th {\n",
       "        text-align: right;\n",
       "    }\n",
       "</style>\n",
       "<table border=\"1\" class=\"dataframe\">\n",
       "  <thead>\n",
       "    <tr style=\"text-align: right;\">\n",
       "      <th></th>\n",
       "      <th>source_name</th>\n",
       "      <th>author</th>\n",
       "      <th>date</th>\n",
       "      <th>title</th>\n",
       "      <th>description</th>\n",
       "      <th>content</th>\n",
       "      <th>label</th>\n",
       "      <th>tesla_related</th>\n",
       "    </tr>\n",
       "  </thead>\n",
       "  <tbody>\n",
       "    <tr>\n",
       "      <th>0</th>\n",
       "      <td>Fortune</td>\n",
       "      <td>Jane Thier</td>\n",
       "      <td>9/12/2023</td>\n",
       "      <td>How Elon Musk lost a friend over AI: Google co...</td>\n",
       "      <td>After Musk tried to sabotage Googles acquisit...</td>\n",
       "      <td>Teslas Elon Musk and Googles Larry Page dont t...</td>\n",
       "      <td>neutral</td>\n",
       "      <td>yes</td>\n",
       "    </tr>\n",
       "    <tr>\n",
       "      <th>1</th>\n",
       "      <td>Next Big Future</td>\n",
       "      <td>Brian Wang</td>\n",
       "      <td>9/12/2023</td>\n",
       "      <td>Bill Gates Tries to Profit by Driving Down Tes...</td>\n",
       "      <td>Bill Gates bet billions against Tesla in a met...</td>\n",
       "      <td>Bill Gates bet billions against Tesla in a met...</td>\n",
       "      <td>negative</td>\n",
       "      <td>yes</td>\n",
       "    </tr>\n",
       "    <tr>\n",
       "      <th>2</th>\n",
       "      <td>The Jerusalem Post</td>\n",
       "      <td>By REUTERS</td>\n",
       "      <td>9/12/2023</td>\n",
       "      <td>Putin hails Elon Musk as an 'outstanding perso...</td>\n",
       "      <td>The Russian leader said Moscow planned to pers...</td>\n",
       "      <td>Russian President Vladimir Putin on Tuesday ha...</td>\n",
       "      <td>neutral</td>\n",
       "      <td>no</td>\n",
       "    </tr>\n",
       "    <tr>\n",
       "      <th>3</th>\n",
       "      <td>Fortune</td>\n",
       "      <td>Rachyl Jones</td>\n",
       "      <td>9/12/2023</td>\n",
       "      <td>What do donkeys, dragons and Hawaii have in co...</td>\n",
       "      <td>Musks purchase of Twitter fed his constant ne...</td>\n",
       "      <td>Elon Musk lives for the drama. Thats evident i...</td>\n",
       "      <td>neutral</td>\n",
       "      <td>no</td>\n",
       "    </tr>\n",
       "    <tr>\n",
       "      <th>4</th>\n",
       "      <td>Fortune</td>\n",
       "      <td>Christiaan Hetzner</td>\n",
       "      <td>9/12/2023</td>\n",
       "      <td>Elon Musks supercomputer Dojo added $70 billi...</td>\n",
       "      <td>Elon Musk's Tesla share price has jumped the e...</td>\n",
       "      <td>Teslas gonzo market cap is so enormous that it...</td>\n",
       "      <td>positive</td>\n",
       "      <td>yes</td>\n",
       "    </tr>\n",
       "  </tbody>\n",
       "</table>\n",
       "</div>"
      ],
      "text/plain": [
       "          source_name              author       date  \\\n",
       "0             Fortune          Jane Thier  9/12/2023   \n",
       "1     Next Big Future          Brian Wang  9/12/2023   \n",
       "2  The Jerusalem Post          By REUTERS  9/12/2023   \n",
       "3             Fortune        Rachyl Jones  9/12/2023   \n",
       "4             Fortune  Christiaan Hetzner  9/12/2023   \n",
       "\n",
       "                                               title  \\\n",
       "0  How Elon Musk lost a friend over AI: Google co...   \n",
       "1  Bill Gates Tries to Profit by Driving Down Tes...   \n",
       "2  Putin hails Elon Musk as an 'outstanding perso...   \n",
       "3  What do donkeys, dragons and Hawaii have in co...   \n",
       "4  Elon Musks supercomputer Dojo added $70 billi...   \n",
       "\n",
       "                                         description  \\\n",
       "0  After Musk tried to sabotage Googles acquisit...   \n",
       "1  Bill Gates bet billions against Tesla in a met...   \n",
       "2  The Russian leader said Moscow planned to pers...   \n",
       "3  Musks purchase of Twitter fed his constant ne...   \n",
       "4  Elon Musk's Tesla share price has jumped the e...   \n",
       "\n",
       "                                             content     label tesla_related  \n",
       "0  Teslas Elon Musk and Googles Larry Page dont t...   neutral           yes  \n",
       "1  Bill Gates bet billions against Tesla in a met...  negative           yes  \n",
       "2  Russian President Vladimir Putin on Tuesday ha...   neutral            no  \n",
       "3  Elon Musk lives for the drama. Thats evident i...   neutral            no  \n",
       "4  Teslas gonzo market cap is so enormous that it...  positive           yes  "
      ]
     },
     "execution_count": 9,
     "metadata": {},
     "output_type": "execute_result"
    }
   ],
   "source": [
    "# read in data with manual labels\n",
    "df_model = pd.read_csv('../data/Tesla_news_manual_labels.csv', index_col = 0, encoding = 'latin1')\n",
    "df_model.head()"
   ]
  },
  {
   "cell_type": "code",
   "execution_count": 10,
   "id": "dbbe25fb-ddea-4eb5-9a32-cc38b803eec4",
   "metadata": {},
   "outputs": [
    {
     "data": {
      "text/html": [
       "<div>\n",
       "<style scoped>\n",
       "    .dataframe tbody tr th:only-of-type {\n",
       "        vertical-align: middle;\n",
       "    }\n",
       "\n",
       "    .dataframe tbody tr th {\n",
       "        vertical-align: top;\n",
       "    }\n",
       "\n",
       "    .dataframe thead th {\n",
       "        text-align: right;\n",
       "    }\n",
       "</style>\n",
       "<table border=\"1\" class=\"dataframe\">\n",
       "  <thead>\n",
       "    <tr style=\"text-align: right;\">\n",
       "      <th></th>\n",
       "      <th>source_name</th>\n",
       "      <th>author</th>\n",
       "      <th>date</th>\n",
       "      <th>title</th>\n",
       "      <th>description</th>\n",
       "      <th>content</th>\n",
       "      <th>label</th>\n",
       "      <th>tesla_related</th>\n",
       "    </tr>\n",
       "  </thead>\n",
       "  <tbody>\n",
       "    <tr>\n",
       "      <th>202</th>\n",
       "      <td>TechRadar</td>\n",
       "      <td>Leon Poultney</td>\n",
       "      <td>10/9/2023</td>\n",
       "      <td>Tesla software update can help its car cameras...</td>\n",
       "      <td>Tesla software update 2023.32 brings with it g...</td>\n",
       "      <td>Reversing into a trashcan, squashing your neig...</td>\n",
       "      <td>positive</td>\n",
       "      <td>yes</td>\n",
       "    </tr>\n",
       "    <tr>\n",
       "      <th>203</th>\n",
       "      <td>Breitbart News</td>\n",
       "      <td>Paul Bois, Paul Bois</td>\n",
       "      <td>10/9/2023</td>\n",
       "      <td>Elon Musk Deletes Several Tweets After Promoti...</td>\n",
       "      <td>Elon Musk deleted several posts on his platfor...</td>\n",
       "      <td>Billionaire and X owner Elon Musk deleted seve...</td>\n",
       "      <td>negative</td>\n",
       "      <td>no</td>\n",
       "    </tr>\n",
       "    <tr>\n",
       "      <th>204</th>\n",
       "      <td>Business Insider</td>\n",
       "      <td>Alexa St. John</td>\n",
       "      <td>10/11/2023</td>\n",
       "      <td>Rivian CEO says he wouldn't buy the Cybertruck...</td>\n",
       "      <td>Rivian CEO RJ Scaringe spoke with GQ magazine ...</td>\n",
       "      <td>Carlos Delgado/Associated Press\\n&lt;ul&gt;&lt;li&gt;Rivia...</td>\n",
       "      <td>neutral</td>\n",
       "      <td>yes</td>\n",
       "    </tr>\n",
       "    <tr>\n",
       "      <th>205</th>\n",
       "      <td>Fortune</td>\n",
       "      <td>Prarthana Prakash</td>\n",
       "      <td>10/11/2023</td>\n",
       "      <td>Bernard Arnault, the world's second richest ma...</td>\n",
       "      <td>LVMH boss Bernard Arnault's wealth topped $200...</td>\n",
       "      <td>Big gains in luxury spending helped LVMH boss ...</td>\n",
       "      <td>neutral</td>\n",
       "      <td>no</td>\n",
       "    </tr>\n",
       "    <tr>\n",
       "      <th>206</th>\n",
       "      <td>Reuters</td>\n",
       "      <td>Giulio Piovaccari</td>\n",
       "      <td>10/11/2023</td>\n",
       "      <td>Ford, Hyundai turn to Italian casting machine ...</td>\n",
       "      <td>Idra, an Italian aluminium casting machine mak...</td>\n",
       "      <td>TRAVAGLIATO, Italy, Oct 11 (Reuters) - Idra, a...</td>\n",
       "      <td>neutral</td>\n",
       "      <td>yes</td>\n",
       "    </tr>\n",
       "  </tbody>\n",
       "</table>\n",
       "</div>"
      ],
      "text/plain": [
       "          source_name                author        date  \\\n",
       "202         TechRadar         Leon Poultney   10/9/2023   \n",
       "203    Breitbart News  Paul Bois, Paul Bois   10/9/2023   \n",
       "204  Business Insider        Alexa St. John  10/11/2023   \n",
       "205           Fortune     Prarthana Prakash  10/11/2023   \n",
       "206           Reuters     Giulio Piovaccari  10/11/2023   \n",
       "\n",
       "                                                 title  \\\n",
       "202  Tesla software update can help its car cameras...   \n",
       "203  Elon Musk Deletes Several Tweets After Promoti...   \n",
       "204  Rivian CEO says he wouldn't buy the Cybertruck...   \n",
       "205  Bernard Arnault, the world's second richest ma...   \n",
       "206  Ford, Hyundai turn to Italian casting machine ...   \n",
       "\n",
       "                                           description  \\\n",
       "202  Tesla software update 2023.32 brings with it g...   \n",
       "203  Elon Musk deleted several posts on his platfor...   \n",
       "204  Rivian CEO RJ Scaringe spoke with GQ magazine ...   \n",
       "205  LVMH boss Bernard Arnault's wealth topped $200...   \n",
       "206  Idra, an Italian aluminium casting machine mak...   \n",
       "\n",
       "                                               content     label tesla_related  \n",
       "202  Reversing into a trashcan, squashing your neig...  positive           yes  \n",
       "203  Billionaire and X owner Elon Musk deleted seve...  negative            no  \n",
       "204  Carlos Delgado/Associated Press\\n<ul><li>Rivia...   neutral           yes  \n",
       "205  Big gains in luxury spending helped LVMH boss ...   neutral            no  \n",
       "206  TRAVAGLIATO, Italy, Oct 11 (Reuters) - Idra, a...   neutral           yes  "
      ]
     },
     "execution_count": 10,
     "metadata": {},
     "output_type": "execute_result"
    }
   ],
   "source": [
    "df_model.tail()"
   ]
  },
  {
   "cell_type": "code",
   "execution_count": 13,
   "id": "10d964a0-58fc-4d7b-8ddb-9e7fead00444",
   "metadata": {},
   "outputs": [
    {
     "name": "stdout",
     "output_type": "stream",
     "text": [
      "<class 'pandas.core.frame.DataFrame'>\n",
      "Int64Index: 207 entries, 0 to 206\n",
      "Data columns (total 8 columns):\n",
      " #   Column         Non-Null Count  Dtype \n",
      "---  ------         --------------  ----- \n",
      " 0   source_name    207 non-null    object\n",
      " 1   author         207 non-null    object\n",
      " 2   date           207 non-null    object\n",
      " 3   title          207 non-null    object\n",
      " 4   description    207 non-null    object\n",
      " 5   content        207 non-null    object\n",
      " 6   label          207 non-null    object\n",
      " 7   tesla_related  207 non-null    object\n",
      "dtypes: object(8)\n",
      "memory usage: 14.6+ KB\n"
     ]
    }
   ],
   "source": [
    "# check for missing values and data types\n",
    "df_model.info()"
   ]
  },
  {
   "cell_type": "code",
   "execution_count": 15,
   "id": "05f2b5b6-a501-4a74-af28-0dd317ddae56",
   "metadata": {},
   "outputs": [
    {
     "data": {
      "text/plain": [
       "yes    116\n",
       "no      91\n",
       "Name: tesla_related, dtype: int64"
      ]
     },
     "execution_count": 15,
     "metadata": {},
     "output_type": "execute_result"
    }
   ],
   "source": [
    "# label and tesla_related were generated manually\n",
    "# first check if there were any manual errors\n",
    "df_model.tesla_related.value_counts()"
   ]
  },
  {
   "cell_type": "markdown",
   "id": "c3d95660-d3af-432c-853e-ad5395a54704",
   "metadata": {},
   "source": [
    "**Note:** \n",
    "\n",
    "Though the number of samples are limited but we have balanced classes for this binary classification."
   ]
  },
  {
   "cell_type": "code",
   "execution_count": 16,
   "id": "d4f6f3d4-2293-482a-92dd-70ec5f091c5c",
   "metadata": {},
   "outputs": [
    {
     "data": {
      "text/plain": [
       "neutral     84\n",
       "negative    63\n",
       "positive    59\n",
       "neagtive     1\n",
       "Name: label, dtype: int64"
      ]
     },
     "execution_count": 16,
     "metadata": {},
     "output_type": "execute_result"
    }
   ],
   "source": [
    "df_model.label.value_counts()"
   ]
  },
  {
   "cell_type": "code",
   "execution_count": 26,
   "id": "82ca9fcb-2769-45c4-af81-f861f39ab581",
   "metadata": {},
   "outputs": [],
   "source": [
    "# correct the mannual errors in sentiment analysis labels\n",
    "df_model['label'] = df_model['label'].replace('neagtive', 'negative')"
   ]
  },
  {
   "cell_type": "code",
   "execution_count": 27,
   "id": "35ad7ce5-941d-471b-a532-87b40a203ba6",
   "metadata": {},
   "outputs": [
    {
     "data": {
      "text/plain": [
       "neutral     84\n",
       "negative    64\n",
       "positive    59\n",
       "Name: label, dtype: int64"
      ]
     },
     "execution_count": 27,
     "metadata": {},
     "output_type": "execute_result"
    }
   ],
   "source": [
    "df_model.label.value_counts()"
   ]
  },
  {
   "cell_type": "markdown",
   "id": "80d3a1ca-53cf-40eb-a381-b5f9e361cb6d",
   "metadata": {},
   "source": [
    "**Note:**\n",
    "\n",
    "Sentiment labels are also balanced, especially between positive and negative."
   ]
  },
  {
   "cell_type": "code",
   "execution_count": 30,
   "id": "cf424cf8-ac90-4f0d-a411-eea1f9460331",
   "metadata": {},
   "outputs": [],
   "source": [
    "# next change the labels to numbers\n",
    "def binary_convert(x):\n",
    "    if x == 'yes':\n",
    "        return 1\n",
    "    else:\n",
    "        return 0"
   ]
  },
  {
   "cell_type": "code",
   "execution_count": 33,
   "id": "41fe2ab5-67c0-42cf-9b76-70a5e4043aea",
   "metadata": {},
   "outputs": [],
   "source": [
    "def sentiment_convert(x):\n",
    "    if x == 'positive':\n",
    "        return 1\n",
    "    elif x == 'negative':\n",
    "        return -1\n",
    "    else:\n",
    "        return 0"
   ]
  },
  {
   "cell_type": "code",
   "execution_count": 31,
   "id": "9f43c7d3-9932-450f-8d64-07bee0c784e0",
   "metadata": {},
   "outputs": [
    {
     "data": {
      "text/html": [
       "<div>\n",
       "<style scoped>\n",
       "    .dataframe tbody tr th:only-of-type {\n",
       "        vertical-align: middle;\n",
       "    }\n",
       "\n",
       "    .dataframe tbody tr th {\n",
       "        vertical-align: top;\n",
       "    }\n",
       "\n",
       "    .dataframe thead th {\n",
       "        text-align: right;\n",
       "    }\n",
       "</style>\n",
       "<table border=\"1\" class=\"dataframe\">\n",
       "  <thead>\n",
       "    <tr style=\"text-align: right;\">\n",
       "      <th></th>\n",
       "      <th>source_name</th>\n",
       "      <th>author</th>\n",
       "      <th>date</th>\n",
       "      <th>title</th>\n",
       "      <th>description</th>\n",
       "      <th>content</th>\n",
       "      <th>label</th>\n",
       "      <th>tesla_related</th>\n",
       "    </tr>\n",
       "  </thead>\n",
       "  <tbody>\n",
       "    <tr>\n",
       "      <th>0</th>\n",
       "      <td>Fortune</td>\n",
       "      <td>Jane Thier</td>\n",
       "      <td>9/12/2023</td>\n",
       "      <td>How Elon Musk lost a friend over AI: Google co...</td>\n",
       "      <td>After Musk tried to sabotage Googles acquisit...</td>\n",
       "      <td>Teslas Elon Musk and Googles Larry Page dont t...</td>\n",
       "      <td>neutral</td>\n",
       "      <td>1</td>\n",
       "    </tr>\n",
       "    <tr>\n",
       "      <th>1</th>\n",
       "      <td>Next Big Future</td>\n",
       "      <td>Brian Wang</td>\n",
       "      <td>9/12/2023</td>\n",
       "      <td>Bill Gates Tries to Profit by Driving Down Tes...</td>\n",
       "      <td>Bill Gates bet billions against Tesla in a met...</td>\n",
       "      <td>Bill Gates bet billions against Tesla in a met...</td>\n",
       "      <td>negative</td>\n",
       "      <td>1</td>\n",
       "    </tr>\n",
       "    <tr>\n",
       "      <th>2</th>\n",
       "      <td>The Jerusalem Post</td>\n",
       "      <td>By REUTERS</td>\n",
       "      <td>9/12/2023</td>\n",
       "      <td>Putin hails Elon Musk as an 'outstanding perso...</td>\n",
       "      <td>The Russian leader said Moscow planned to pers...</td>\n",
       "      <td>Russian President Vladimir Putin on Tuesday ha...</td>\n",
       "      <td>neutral</td>\n",
       "      <td>0</td>\n",
       "    </tr>\n",
       "    <tr>\n",
       "      <th>3</th>\n",
       "      <td>Fortune</td>\n",
       "      <td>Rachyl Jones</td>\n",
       "      <td>9/12/2023</td>\n",
       "      <td>What do donkeys, dragons and Hawaii have in co...</td>\n",
       "      <td>Musks purchase of Twitter fed his constant ne...</td>\n",
       "      <td>Elon Musk lives for the drama. Thats evident i...</td>\n",
       "      <td>neutral</td>\n",
       "      <td>0</td>\n",
       "    </tr>\n",
       "    <tr>\n",
       "      <th>4</th>\n",
       "      <td>Fortune</td>\n",
       "      <td>Christiaan Hetzner</td>\n",
       "      <td>9/12/2023</td>\n",
       "      <td>Elon Musks supercomputer Dojo added $70 billi...</td>\n",
       "      <td>Elon Musk's Tesla share price has jumped the e...</td>\n",
       "      <td>Teslas gonzo market cap is so enormous that it...</td>\n",
       "      <td>positive</td>\n",
       "      <td>1</td>\n",
       "    </tr>\n",
       "  </tbody>\n",
       "</table>\n",
       "</div>"
      ],
      "text/plain": [
       "          source_name              author       date  \\\n",
       "0             Fortune          Jane Thier  9/12/2023   \n",
       "1     Next Big Future          Brian Wang  9/12/2023   \n",
       "2  The Jerusalem Post          By REUTERS  9/12/2023   \n",
       "3             Fortune        Rachyl Jones  9/12/2023   \n",
       "4             Fortune  Christiaan Hetzner  9/12/2023   \n",
       "\n",
       "                                               title  \\\n",
       "0  How Elon Musk lost a friend over AI: Google co...   \n",
       "1  Bill Gates Tries to Profit by Driving Down Tes...   \n",
       "2  Putin hails Elon Musk as an 'outstanding perso...   \n",
       "3  What do donkeys, dragons and Hawaii have in co...   \n",
       "4  Elon Musks supercomputer Dojo added $70 billi...   \n",
       "\n",
       "                                         description  \\\n",
       "0  After Musk tried to sabotage Googles acquisit...   \n",
       "1  Bill Gates bet billions against Tesla in a met...   \n",
       "2  The Russian leader said Moscow planned to pers...   \n",
       "3  Musks purchase of Twitter fed his constant ne...   \n",
       "4  Elon Musk's Tesla share price has jumped the e...   \n",
       "\n",
       "                                             content     label  tesla_related  \n",
       "0  Teslas Elon Musk and Googles Larry Page dont t...   neutral              1  \n",
       "1  Bill Gates bet billions against Tesla in a met...  negative              1  \n",
       "2  Russian President Vladimir Putin on Tuesday ha...   neutral              0  \n",
       "3  Elon Musk lives for the drama. Thats evident i...   neutral              0  \n",
       "4  Teslas gonzo market cap is so enormous that it...  positive              1  "
      ]
     },
     "execution_count": 31,
     "metadata": {},
     "output_type": "execute_result"
    }
   ],
   "source": [
    "df_model['tesla_related'] = df_model['tesla_related'].apply(binary_convert)\n",
    "df_model.head()"
   ]
  },
  {
   "cell_type": "code",
   "execution_count": 34,
   "id": "3df1fce1-ccf7-49dc-a14f-5e14ed5b7a04",
   "metadata": {},
   "outputs": [
    {
     "data": {
      "text/html": [
       "<div>\n",
       "<style scoped>\n",
       "    .dataframe tbody tr th:only-of-type {\n",
       "        vertical-align: middle;\n",
       "    }\n",
       "\n",
       "    .dataframe tbody tr th {\n",
       "        vertical-align: top;\n",
       "    }\n",
       "\n",
       "    .dataframe thead th {\n",
       "        text-align: right;\n",
       "    }\n",
       "</style>\n",
       "<table border=\"1\" class=\"dataframe\">\n",
       "  <thead>\n",
       "    <tr style=\"text-align: right;\">\n",
       "      <th></th>\n",
       "      <th>source_name</th>\n",
       "      <th>author</th>\n",
       "      <th>date</th>\n",
       "      <th>title</th>\n",
       "      <th>description</th>\n",
       "      <th>content</th>\n",
       "      <th>label</th>\n",
       "      <th>tesla_related</th>\n",
       "      <th>sentiment_label</th>\n",
       "    </tr>\n",
       "  </thead>\n",
       "  <tbody>\n",
       "    <tr>\n",
       "      <th>0</th>\n",
       "      <td>Fortune</td>\n",
       "      <td>Jane Thier</td>\n",
       "      <td>9/12/2023</td>\n",
       "      <td>How Elon Musk lost a friend over AI: Google co...</td>\n",
       "      <td>After Musk tried to sabotage Googles acquisit...</td>\n",
       "      <td>Teslas Elon Musk and Googles Larry Page dont t...</td>\n",
       "      <td>neutral</td>\n",
       "      <td>1</td>\n",
       "      <td>0</td>\n",
       "    </tr>\n",
       "    <tr>\n",
       "      <th>1</th>\n",
       "      <td>Next Big Future</td>\n",
       "      <td>Brian Wang</td>\n",
       "      <td>9/12/2023</td>\n",
       "      <td>Bill Gates Tries to Profit by Driving Down Tes...</td>\n",
       "      <td>Bill Gates bet billions against Tesla in a met...</td>\n",
       "      <td>Bill Gates bet billions against Tesla in a met...</td>\n",
       "      <td>negative</td>\n",
       "      <td>1</td>\n",
       "      <td>-1</td>\n",
       "    </tr>\n",
       "    <tr>\n",
       "      <th>2</th>\n",
       "      <td>The Jerusalem Post</td>\n",
       "      <td>By REUTERS</td>\n",
       "      <td>9/12/2023</td>\n",
       "      <td>Putin hails Elon Musk as an 'outstanding perso...</td>\n",
       "      <td>The Russian leader said Moscow planned to pers...</td>\n",
       "      <td>Russian President Vladimir Putin on Tuesday ha...</td>\n",
       "      <td>neutral</td>\n",
       "      <td>0</td>\n",
       "      <td>0</td>\n",
       "    </tr>\n",
       "    <tr>\n",
       "      <th>3</th>\n",
       "      <td>Fortune</td>\n",
       "      <td>Rachyl Jones</td>\n",
       "      <td>9/12/2023</td>\n",
       "      <td>What do donkeys, dragons and Hawaii have in co...</td>\n",
       "      <td>Musks purchase of Twitter fed his constant ne...</td>\n",
       "      <td>Elon Musk lives for the drama. Thats evident i...</td>\n",
       "      <td>neutral</td>\n",
       "      <td>0</td>\n",
       "      <td>0</td>\n",
       "    </tr>\n",
       "    <tr>\n",
       "      <th>4</th>\n",
       "      <td>Fortune</td>\n",
       "      <td>Christiaan Hetzner</td>\n",
       "      <td>9/12/2023</td>\n",
       "      <td>Elon Musks supercomputer Dojo added $70 billi...</td>\n",
       "      <td>Elon Musk's Tesla share price has jumped the e...</td>\n",
       "      <td>Teslas gonzo market cap is so enormous that it...</td>\n",
       "      <td>positive</td>\n",
       "      <td>1</td>\n",
       "      <td>1</td>\n",
       "    </tr>\n",
       "  </tbody>\n",
       "</table>\n",
       "</div>"
      ],
      "text/plain": [
       "          source_name              author       date  \\\n",
       "0             Fortune          Jane Thier  9/12/2023   \n",
       "1     Next Big Future          Brian Wang  9/12/2023   \n",
       "2  The Jerusalem Post          By REUTERS  9/12/2023   \n",
       "3             Fortune        Rachyl Jones  9/12/2023   \n",
       "4             Fortune  Christiaan Hetzner  9/12/2023   \n",
       "\n",
       "                                               title  \\\n",
       "0  How Elon Musk lost a friend over AI: Google co...   \n",
       "1  Bill Gates Tries to Profit by Driving Down Tes...   \n",
       "2  Putin hails Elon Musk as an 'outstanding perso...   \n",
       "3  What do donkeys, dragons and Hawaii have in co...   \n",
       "4  Elon Musks supercomputer Dojo added $70 billi...   \n",
       "\n",
       "                                         description  \\\n",
       "0  After Musk tried to sabotage Googles acquisit...   \n",
       "1  Bill Gates bet billions against Tesla in a met...   \n",
       "2  The Russian leader said Moscow planned to pers...   \n",
       "3  Musks purchase of Twitter fed his constant ne...   \n",
       "4  Elon Musk's Tesla share price has jumped the e...   \n",
       "\n",
       "                                             content     label  tesla_related  \\\n",
       "0  Teslas Elon Musk and Googles Larry Page dont t...   neutral              1   \n",
       "1  Bill Gates bet billions against Tesla in a met...  negative              1   \n",
       "2  Russian President Vladimir Putin on Tuesday ha...   neutral              0   \n",
       "3  Elon Musk lives for the drama. Thats evident i...   neutral              0   \n",
       "4  Teslas gonzo market cap is so enormous that it...  positive              1   \n",
       "\n",
       "   sentiment_label  \n",
       "0                0  \n",
       "1               -1  \n",
       "2                0  \n",
       "3                0  \n",
       "4                1  "
      ]
     },
     "execution_count": 34,
     "metadata": {},
     "output_type": "execute_result"
    }
   ],
   "source": [
    "df_model['sentiment_label'] = df_model['label'].apply(sentiment_convert)\n",
    "df_model.head()"
   ]
  },
  {
   "cell_type": "code",
   "execution_count": 43,
   "id": "c8252f33-948c-46c5-b2c9-e873fd46bc0c",
   "metadata": {},
   "outputs": [
    {
     "data": {
      "text/html": [
       "<div>\n",
       "<style scoped>\n",
       "    .dataframe tbody tr th:only-of-type {\n",
       "        vertical-align: middle;\n",
       "    }\n",
       "\n",
       "    .dataframe tbody tr th {\n",
       "        vertical-align: top;\n",
       "    }\n",
       "\n",
       "    .dataframe thead th {\n",
       "        text-align: right;\n",
       "    }\n",
       "</style>\n",
       "<table border=\"1\" class=\"dataframe\">\n",
       "  <thead>\n",
       "    <tr style=\"text-align: right;\">\n",
       "      <th></th>\n",
       "      <th>source_name</th>\n",
       "      <th>author</th>\n",
       "      <th>date</th>\n",
       "      <th>title</th>\n",
       "      <th>description</th>\n",
       "      <th>content</th>\n",
       "      <th>label</th>\n",
       "      <th>tesla_related</th>\n",
       "      <th>sentiment_label</th>\n",
       "      <th>title_desc</th>\n",
       "    </tr>\n",
       "  </thead>\n",
       "  <tbody>\n",
       "    <tr>\n",
       "      <th>0</th>\n",
       "      <td>Fortune</td>\n",
       "      <td>Jane Thier</td>\n",
       "      <td>9/12/2023</td>\n",
       "      <td>How Elon Musk lost a friend over AI: Google co...</td>\n",
       "      <td>After Musk tried to sabotage Googles acquisit...</td>\n",
       "      <td>Teslas Elon Musk and Googles Larry Page dont t...</td>\n",
       "      <td>neutral</td>\n",
       "      <td>1</td>\n",
       "      <td>0</td>\n",
       "      <td>How Elon Musk lost a friend over AI: Google co...</td>\n",
       "    </tr>\n",
       "    <tr>\n",
       "      <th>1</th>\n",
       "      <td>Next Big Future</td>\n",
       "      <td>Brian Wang</td>\n",
       "      <td>9/12/2023</td>\n",
       "      <td>Bill Gates Tries to Profit by Driving Down Tes...</td>\n",
       "      <td>Bill Gates bet billions against Tesla in a met...</td>\n",
       "      <td>Bill Gates bet billions against Tesla in a met...</td>\n",
       "      <td>negative</td>\n",
       "      <td>1</td>\n",
       "      <td>-1</td>\n",
       "      <td>Bill Gates Tries to Profit by Driving Down Tes...</td>\n",
       "    </tr>\n",
       "    <tr>\n",
       "      <th>2</th>\n",
       "      <td>The Jerusalem Post</td>\n",
       "      <td>By REUTERS</td>\n",
       "      <td>9/12/2023</td>\n",
       "      <td>Putin hails Elon Musk as an 'outstanding perso...</td>\n",
       "      <td>The Russian leader said Moscow planned to pers...</td>\n",
       "      <td>Russian President Vladimir Putin on Tuesday ha...</td>\n",
       "      <td>neutral</td>\n",
       "      <td>0</td>\n",
       "      <td>0</td>\n",
       "      <td>Putin hails Elon Musk as an 'outstanding perso...</td>\n",
       "    </tr>\n",
       "    <tr>\n",
       "      <th>3</th>\n",
       "      <td>Fortune</td>\n",
       "      <td>Rachyl Jones</td>\n",
       "      <td>9/12/2023</td>\n",
       "      <td>What do donkeys, dragons and Hawaii have in co...</td>\n",
       "      <td>Musks purchase of Twitter fed his constant ne...</td>\n",
       "      <td>Elon Musk lives for the drama. Thats evident i...</td>\n",
       "      <td>neutral</td>\n",
       "      <td>0</td>\n",
       "      <td>0</td>\n",
       "      <td>What do donkeys, dragons and Hawaii have in co...</td>\n",
       "    </tr>\n",
       "    <tr>\n",
       "      <th>4</th>\n",
       "      <td>Fortune</td>\n",
       "      <td>Christiaan Hetzner</td>\n",
       "      <td>9/12/2023</td>\n",
       "      <td>Elon Musks supercomputer Dojo added $70 billi...</td>\n",
       "      <td>Elon Musk's Tesla share price has jumped the e...</td>\n",
       "      <td>Teslas gonzo market cap is so enormous that it...</td>\n",
       "      <td>positive</td>\n",
       "      <td>1</td>\n",
       "      <td>1</td>\n",
       "      <td>Elon Musks supercomputer Dojo added $70 billi...</td>\n",
       "    </tr>\n",
       "  </tbody>\n",
       "</table>\n",
       "</div>"
      ],
      "text/plain": [
       "          source_name              author       date  \\\n",
       "0             Fortune          Jane Thier  9/12/2023   \n",
       "1     Next Big Future          Brian Wang  9/12/2023   \n",
       "2  The Jerusalem Post          By REUTERS  9/12/2023   \n",
       "3             Fortune        Rachyl Jones  9/12/2023   \n",
       "4             Fortune  Christiaan Hetzner  9/12/2023   \n",
       "\n",
       "                                               title  \\\n",
       "0  How Elon Musk lost a friend over AI: Google co...   \n",
       "1  Bill Gates Tries to Profit by Driving Down Tes...   \n",
       "2  Putin hails Elon Musk as an 'outstanding perso...   \n",
       "3  What do donkeys, dragons and Hawaii have in co...   \n",
       "4  Elon Musks supercomputer Dojo added $70 billi...   \n",
       "\n",
       "                                         description  \\\n",
       "0  After Musk tried to sabotage Googles acquisit...   \n",
       "1  Bill Gates bet billions against Tesla in a met...   \n",
       "2  The Russian leader said Moscow planned to pers...   \n",
       "3  Musks purchase of Twitter fed his constant ne...   \n",
       "4  Elon Musk's Tesla share price has jumped the e...   \n",
       "\n",
       "                                             content     label  tesla_related  \\\n",
       "0  Teslas Elon Musk and Googles Larry Page dont t...   neutral              1   \n",
       "1  Bill Gates bet billions against Tesla in a met...  negative              1   \n",
       "2  Russian President Vladimir Putin on Tuesday ha...   neutral              0   \n",
       "3  Elon Musk lives for the drama. Thats evident i...   neutral              0   \n",
       "4  Teslas gonzo market cap is so enormous that it...  positive              1   \n",
       "\n",
       "   sentiment_label                                         title_desc  \n",
       "0                0  How Elon Musk lost a friend over AI: Google co...  \n",
       "1               -1  Bill Gates Tries to Profit by Driving Down Tes...  \n",
       "2                0  Putin hails Elon Musk as an 'outstanding perso...  \n",
       "3                0  What do donkeys, dragons and Hawaii have in co...  \n",
       "4                1  Elon Musks supercomputer Dojo added $70 billi...  "
      ]
     },
     "execution_count": 43,
     "metadata": {},
     "output_type": "execute_result"
    }
   ],
   "source": [
    "# the manual labeling is mainly based on title and description\n",
    "# create title + description for the classification task\n",
    "df_model['title_desc'] = df_model['title'].map(str) + ' ' + df_model['description'].map(str)\n",
    "df_model.head()"
   ]
  },
  {
   "cell_type": "code",
   "execution_count": 35,
   "id": "d264d738-56c0-490b-a052-83107269246b",
   "metadata": {},
   "outputs": [
    {
     "name": "stdout",
     "output_type": "stream",
     "text": [
      "<class 'pandas.core.frame.DataFrame'>\n",
      "Int64Index: 207 entries, 0 to 206\n",
      "Data columns (total 9 columns):\n",
      " #   Column           Non-Null Count  Dtype \n",
      "---  ------           --------------  ----- \n",
      " 0   source_name      207 non-null    object\n",
      " 1   author           207 non-null    object\n",
      " 2   date             207 non-null    object\n",
      " 3   title            207 non-null    object\n",
      " 4   description      207 non-null    object\n",
      " 5   content          207 non-null    object\n",
      " 6   label            207 non-null    object\n",
      " 7   tesla_related    207 non-null    int64 \n",
      " 8   sentiment_label  207 non-null    int64 \n",
      "dtypes: int64(2), object(7)\n",
      "memory usage: 16.2+ KB\n"
     ]
    }
   ],
   "source": [
    "df_model.info()"
   ]
  },
  {
   "cell_type": "code",
   "execution_count": 104,
   "id": "a9f29f59-d165-43cf-8a8b-19f8af7e9433",
   "metadata": {},
   "outputs": [
    {
     "data": {
      "image/png": "[encoded data removed]",
      "text/plain": [
       "<Figure size 900x600 with 1 Axes>"
      ]
     },
     "metadata": {},
     "output_type": "display_data"
    }
   ],
   "source": [
    "# plot the counts for each label\n",
    "plt.figure(figsize= (9, 6))\n",
    "\n",
    "ax = sns.countplot(data = df_model, y = 'label')\n",
    "\n",
    "for patch in ax.patches:\n",
    "    width = patch.get_width()\n",
    "    ax.text(width+1,\n",
    "            patch.get_y() + patch.get_height() / 2,\n",
    "            format(width, '1.0f'),\n",
    "            va = 'center')\n",
    "plt.title('Sentiment Distribution in Training Data', fontsize = 14, pad = 10)    \n",
    "plt.ylabel('News Sentiments', fontsize = 14)\n",
    "plt.xlabel('Counts', fontsize = 14)\n",
    "plt.show()"
   ]
  },
  {
   "cell_type": "code",
   "execution_count": 100,
   "id": "a972736f-e742-4b7c-a620-abb463166258",
   "metadata": {},
   "outputs": [
    {
     "data": {
      "image/png": "[encoded data removed]",
      "text/plain": [
       "<Figure size 900x400 with 1 Axes>"
      ]
     },
     "metadata": {},
     "output_type": "display_data"
    }
   ],
   "source": [
    "# plot the counts for each label\n",
    "plt.figure(figsize = (9, 4))\n",
    "\n",
    "ax = sns.countplot(data = df_model, y = 'tesla_related')\n",
    "\n",
    "for patch in ax.patches:\n",
    "    width = patch.get_width()\n",
    "    ax.text(width + 1,\n",
    "            patch.get_y() + patch.get_height() / 2,\n",
    "            format(width, '1.0f'),\n",
    "            va = 'center')\n",
    "\n",
    "plt.title('Tesla News and None-Tesla News Counts in Training Data', pad = 10)    \n",
    "plt.yticks([0, 1], ['None-Tesla', 'Tesla'])\n",
    "plt.ylabel(None)\n",
    "plt.xlabel('Number of News')\n",
    "plt.show()"
   ]
  },
  {
   "cell_type": "markdown",
   "id": "da893341-68c6-4a0d-87f9-02e84c5281d2",
   "metadata": {},
   "source": [
    "## Train / Validation Split"
   ]
  },
  {
   "cell_type": "code",
   "execution_count": 46,
   "id": "a149dd4b-4d5b-4141-adb4-0299c211a20d",
   "metadata": {},
   "outputs": [
    {
     "data": {
      "text/plain": [
       "((165, 3), (42, 3))"
      ]
     },
     "execution_count": 46,
     "metadata": {},
     "output_type": "execute_result"
    }
   ],
   "source": [
    "# randomize the data before splitting\n",
    "df_train = df_model[['title_desc', 'tesla_related', 'sentiment_label']].sample(n = int(df_model.shape[0]*0.8), random_state = 21)\n",
    "df_val = df_model[['title_desc', 'tesla_related', 'sentiment_label']].drop(df_train.index)\n",
    "df_train.shape, df_val.shape"
   ]
  },
  {
   "cell_type": "code",
   "execution_count": 47,
   "id": "ce5da2c7-113b-40c1-b65a-03aef28dd5ef",
   "metadata": {},
   "outputs": [
    {
     "data": {
      "text/plain": [
       " 0    67\n",
       "-1    53\n",
       " 1    45\n",
       "Name: sentiment_label, dtype: int64"
      ]
     },
     "execution_count": 47,
     "metadata": {},
     "output_type": "execute_result"
    }
   ],
   "source": [
    "df_train.sentiment_label.value_counts()"
   ]
  },
  {
   "cell_type": "code",
   "execution_count": 48,
   "id": "970e8256-af5c-40b5-9de4-51524cb20c30",
   "metadata": {},
   "outputs": [
    {
     "data": {
      "text/plain": [
       " 0    17\n",
       " 1    14\n",
       "-1    11\n",
       "Name: sentiment_label, dtype: int64"
      ]
     },
     "execution_count": 48,
     "metadata": {},
     "output_type": "execute_result"
    }
   ],
   "source": [
    "df_val.sentiment_label.value_counts()"
   ]
  },
  {
   "cell_type": "code",
   "execution_count": 49,
   "id": "369a7953-39b5-4c77-9581-b5e75c191977",
   "metadata": {},
   "outputs": [
    {
     "data": {
      "text/plain": [
       "1    96\n",
       "0    69\n",
       "Name: tesla_related, dtype: int64"
      ]
     },
     "execution_count": 49,
     "metadata": {},
     "output_type": "execute_result"
    }
   ],
   "source": [
    "df_train.tesla_related.value_counts()"
   ]
  },
  {
   "cell_type": "code",
   "execution_count": 50,
   "id": "6d2d4692-ec2a-4cef-a36e-7df473ce95bb",
   "metadata": {},
   "outputs": [
    {
     "data": {
      "text/plain": [
       "0    22\n",
       "1    20\n",
       "Name: tesla_related, dtype: int64"
      ]
     },
     "execution_count": 50,
     "metadata": {},
     "output_type": "execute_result"
    }
   ],
   "source": [
    "df_val.tesla_related.value_counts()"
   ]
  },
  {
   "cell_type": "code",
   "execution_count": 58,
   "id": "797ac42b-7a60-4b16-a066-c89800ce8e20",
   "metadata": {},
   "outputs": [
    {
     "data": {
      "text/html": [
       "<div>\n",
       "<style scoped>\n",
       "    .dataframe tbody tr th:only-of-type {\n",
       "        vertical-align: middle;\n",
       "    }\n",
       "\n",
       "    .dataframe tbody tr th {\n",
       "        vertical-align: top;\n",
       "    }\n",
       "\n",
       "    .dataframe thead th {\n",
       "        text-align: right;\n",
       "    }\n",
       "</style>\n",
       "<table border=\"1\" class=\"dataframe\">\n",
       "  <thead>\n",
       "    <tr style=\"text-align: right;\">\n",
       "      <th></th>\n",
       "      <th>title_desc</th>\n",
       "      <th>tesla_related</th>\n",
       "      <th>sentiment_label</th>\n",
       "    </tr>\n",
       "  </thead>\n",
       "  <tbody>\n",
       "    <tr>\n",
       "      <th>111</th>\n",
       "      <td>AOC says she's looking to trade in her Tesla f...</td>\n",
       "      <td>1</td>\n",
       "      <td>-1</td>\n",
       "    </tr>\n",
       "    <tr>\n",
       "      <th>17</th>\n",
       "      <td>Mercedes-Benz's $100,000 electric SUV is an aw...</td>\n",
       "      <td>1</td>\n",
       "      <td>0</td>\n",
       "    </tr>\n",
       "    <tr>\n",
       "      <th>116</th>\n",
       "      <td>Where is the phone?' Huawei keeps quiet about ...</td>\n",
       "      <td>1</td>\n",
       "      <td>0</td>\n",
       "    </tr>\n",
       "    <tr>\n",
       "      <th>6</th>\n",
       "      <td>Elon Musk sent a graphic mid-childbirth pictur...</td>\n",
       "      <td>0</td>\n",
       "      <td>0</td>\n",
       "    </tr>\n",
       "    <tr>\n",
       "      <th>9</th>\n",
       "      <td>Did Elon Musk Turn Off Starlink for Ukraine? W...</td>\n",
       "      <td>0</td>\n",
       "      <td>0</td>\n",
       "    </tr>\n",
       "  </tbody>\n",
       "</table>\n",
       "</div>"
      ],
      "text/plain": [
       "                                            title_desc  tesla_related  \\\n",
       "111  AOC says she's looking to trade in her Tesla f...              1   \n",
       "17   Mercedes-Benz's $100,000 electric SUV is an aw...              1   \n",
       "116  Where is the phone?' Huawei keeps quiet about ...              1   \n",
       "6    Elon Musk sent a graphic mid-childbirth pictur...              0   \n",
       "9    Did Elon Musk Turn Off Starlink for Ukraine? W...              0   \n",
       "\n",
       "     sentiment_label  \n",
       "111               -1  \n",
       "17                 0  \n",
       "116                0  \n",
       "6                  0  \n",
       "9                  0  "
      ]
     },
     "execution_count": 58,
     "metadata": {},
     "output_type": "execute_result"
    }
   ],
   "source": [
    "df_train.head()"
   ]
  },
  {
   "cell_type": "code",
   "execution_count": 59,
   "id": "e0d01c59-d62c-4565-a7f4-0ab6a2ed1d64",
   "metadata": {},
   "outputs": [
    {
     "data": {
      "text/html": [
       "<div>\n",
       "<style scoped>\n",
       "    .dataframe tbody tr th:only-of-type {\n",
       "        vertical-align: middle;\n",
       "    }\n",
       "\n",
       "    .dataframe tbody tr th {\n",
       "        vertical-align: top;\n",
       "    }\n",
       "\n",
       "    .dataframe thead th {\n",
       "        text-align: right;\n",
       "    }\n",
       "</style>\n",
       "<table border=\"1\" class=\"dataframe\">\n",
       "  <thead>\n",
       "    <tr style=\"text-align: right;\">\n",
       "      <th></th>\n",
       "      <th>title_desc</th>\n",
       "      <th>tesla_related</th>\n",
       "      <th>sentiment_label</th>\n",
       "    </tr>\n",
       "  </thead>\n",
       "  <tbody>\n",
       "    <tr>\n",
       "      <th>4</th>\n",
       "      <td>Elon Musks supercomputer Dojo added $70 billi...</td>\n",
       "      <td>1</td>\n",
       "      <td>1</td>\n",
       "    </tr>\n",
       "    <tr>\n",
       "      <th>5</th>\n",
       "      <td>Elon Musk's biographer says Musk has 'multiple...</td>\n",
       "      <td>0</td>\n",
       "      <td>0</td>\n",
       "    </tr>\n",
       "    <tr>\n",
       "      <th>12</th>\n",
       "      <td>Elon Musk biography contains inaccurate tale o...</td>\n",
       "      <td>0</td>\n",
       "      <td>0</td>\n",
       "    </tr>\n",
       "    <tr>\n",
       "      <th>15</th>\n",
       "      <td>During the most concentrated pain in his lif...</td>\n",
       "      <td>1</td>\n",
       "      <td>1</td>\n",
       "    </tr>\n",
       "    <tr>\n",
       "      <th>18</th>\n",
       "      <td>Tesla Semi Shows Real World Payload and Range ...</td>\n",
       "      <td>1</td>\n",
       "      <td>1</td>\n",
       "    </tr>\n",
       "  </tbody>\n",
       "</table>\n",
       "</div>"
      ],
      "text/plain": [
       "                                           title_desc  tesla_related  \\\n",
       "4   Elon Musks supercomputer Dojo added $70 billi...              1   \n",
       "5   Elon Musk's biographer says Musk has 'multiple...              0   \n",
       "12  Elon Musk biography contains inaccurate tale o...              0   \n",
       "15  During the most concentrated pain in his lif...              1   \n",
       "18  Tesla Semi Shows Real World Payload and Range ...              1   \n",
       "\n",
       "    sentiment_label  \n",
       "4                 1  \n",
       "5                 0  \n",
       "12                0  \n",
       "15                1  \n",
       "18                1  "
      ]
     },
     "execution_count": 59,
     "metadata": {},
     "output_type": "execute_result"
    }
   ],
   "source": [
    "df_val.head()"
   ]
  },
  {
   "cell_type": "markdown",
   "id": "3f6e5bf2-86c1-4625-884b-5a88c5dc3648",
   "metadata": {},
   "source": [
    "## Pytorch Dataset\n",
    "\n",
    "Trainer using Pytorch for fine-tuning BERT, the input data need to be prepared in Pytorch way.\n",
    "\n",
    "`torch.utils.data.Dataset` class sotres samples for modeling\n",
    "\n",
    "`torch.utils.data.DataLoader` class enable iterative access to `Dataset` class samples"
   ]
  },
  {
   "cell_type": "code",
   "execution_count": 116,
   "id": "772c4fe4-01bf-4332-8407-7c2290ff0d53",
   "metadata": {},
   "outputs": [],
   "source": [
    "# create a pytorch dataset class\n",
    "class BertDataset(Dataset):\n",
    "    # initialze the pytorch dataset object with input parameters\n",
    "    def __init__(self, news, labels, tokenizer):\n",
    "        self.news = news\n",
    "        self.labels = labels\n",
    "        self.tokenizer  = tokenizer\n",
    "        self.max_len    = tokenizer.model_max_length # use the max length supported by BERT model which is 512\n",
    "    # returns the number of samples\n",
    "    def __len__(self):\n",
    "        return len(self.news)\n",
    "    # loads and returns a sample from the dataset at a given index\n",
    "    def __getitem__(self, index):\n",
    "        content = str(self.news[index])\n",
    "        label = self.labels[index]\n",
    "        # encode the news using the input tokenizer\n",
    "        encoded_news = self.tokenizer.encode_plus(\n",
    "            content,\n",
    "            add_special_tokens    = True,\n",
    "            max_length            = self.max_len,\n",
    "            return_token_type_ids = False,\n",
    "            return_attention_mask = True,\n",
    "            return_tensors        = \"pt\",\n",
    "            padding               = \"max_length\",\n",
    "            truncation            = True\n",
    "        )\n",
    "        # output the input_id, the attention_mask and the corresponding label in input\n",
    "        return {\n",
    "            'input_ids': encoded_news['input_ids'][0],\n",
    "            'attention_mask': encoded_news['attention_mask'][0],\n",
    "            'labels': torch.tensor(label, dtype=torch.long)\n",
    "        }"
   ]
  },
  {
   "cell_type": "code",
   "execution_count": 57,
   "id": "2ee8d2dc-ac94-4d81-ae63-a4242b89a818",
   "metadata": {},
   "outputs": [
    {
     "data": {
      "application/vnd.jupyter.widget-view+json": {
       "model_id": "ad39643c69e94076b598db82cf2fd197",
       "version_major": 2,
       "version_minor": 0
      },
      "text/plain": [
       "Downloading:   0%|          | 0.00/28.0 [00:00<?, ?B/s]"
      ]
     },
     "metadata": {},
     "output_type": "display_data"
    },
    {
     "name": "stderr",
     "output_type": "stream",
     "text": [
      "C:\\Users\\wfei2\\anaconda3\\lib\\site-packages\\huggingface_hub\\file_download.py:123: UserWarning: `huggingface_hub` cache-system uses symlinks by default to efficiently store duplicated files but your machine does not support them in C:\\Users\\wfei2\\.cache\\huggingface\\hub. Caching files will still work but in a degraded version that might require more space on your disk. This warning can be disabled by setting the `HF_HUB_DISABLE_SYMLINKS_WARNING` environment variable. For more details, see https://huggingface.co/docs/huggingface_hub/how-to-cache#limitations.\n",
      "To support symlinks on Windows, you either need to activate Developer Mode or to run Python as an administrator. In order to see activate developer mode, see this article: https://docs.microsoft.com/en-us/windows/apps/get-started/enable-your-device-for-development\n",
      "  warnings.warn(message)\n"
     ]
    },
    {
     "data": {
      "application/vnd.jupyter.widget-view+json": {
       "model_id": "9b56ac1d38334151b637ddcd518d9111",
       "version_major": 2,
       "version_minor": 0
      },
      "text/plain": [
       "Downloading:   0%|          | 0.00/570 [00:00<?, ?B/s]"
      ]
     },
     "metadata": {},
     "output_type": "display_data"
    },
    {
     "data": {
      "application/vnd.jupyter.widget-view+json": {
       "model_id": "9751f8cb4410403194e55ca5ba48d15f",
       "version_major": 2,
       "version_minor": 0
      },
      "text/plain": [
       "Downloading:   0%|          | 0.00/232k [00:00<?, ?B/s]"
      ]
     },
     "metadata": {},
     "output_type": "display_data"
    },
    {
     "data": {
      "application/vnd.jupyter.widget-view+json": {
       "model_id": "0c81af45211e4066b02d3a834d85af95",
       "version_major": 2,
       "version_minor": 0
      },
      "text/plain": [
       "Downloading:   0%|          | 0.00/466k [00:00<?, ?B/s]"
      ]
     },
     "metadata": {},
     "output_type": "display_data"
    }
   ],
   "source": [
    "# load tokenizer from BERT\n",
    "tokenizer = AutoTokenizer.from_pretrained('bert-base-uncased')"
   ]
  },
  {
   "cell_type": "markdown",
   "id": "10fafc83-6ef2-4292-b8a6-61d323d9f424",
   "metadata": {},
   "source": [
    "## Task Defination:\n",
    "* Task 1: Binary classification for Tesla related or not\n",
    "* Task 2: Sentiment analysis for all news"
   ]
  },
  {
   "cell_type": "markdown",
   "id": "ce473afd-b1c4-45a2-87a1-aa9ee37b7563",
   "metadata": {},
   "source": [
    "# Task 1"
   ]
  },
  {
   "cell_type": "code",
   "execution_count": 152,
   "id": "265088a1-1104-4e2a-a0a9-235b3fe9e69a",
   "metadata": {},
   "outputs": [],
   "source": [
    "# create datasets\n",
    "train1_dataset = BertDataset(\n",
    "    news = df_train.title_desc.tolist(), \n",
    "    labels = df_train.tesla_related.tolist(), \n",
    "    tokenizer = tokenizer)"
   ]
  },
  {
   "cell_type": "code",
   "execution_count": 118,
   "id": "a2cf6af8-6db1-44c4-b130-30a87ccb2acd",
   "metadata": {},
   "outputs": [],
   "source": [
    "val1_dataset = BertDataset(\n",
    "    news = df_val.title_desc.tolist(), \n",
    "    labels = df_val.tesla_related.tolist(), \n",
    "    tokenizer = tokenizer)"
   ]
  },
  {
   "cell_type": "code",
   "execution_count": 153,
   "id": "572fe357-7c95-48e2-89f7-daf3419318ed",
   "metadata": {
    "tags": []
   },
   "outputs": [],
   "source": [
    "# create dataloader in order to pass samples as minibatches for training\n",
    "train1_dataloader = DataLoader(train1_dataset, batch_size = 16, shuffle = True)\n",
    "val1_dataloader = DataLoader(val1_dataset, batch_size = 16, shuffle = True)"
   ]
  },
  {
   "cell_type": "code",
   "execution_count": 154,
   "id": "0114d36c-d831-4d17-a7a5-a1d566425206",
   "metadata": {},
   "outputs": [],
   "source": [
    "# let's check an example sample in the dataloader\n",
    "sample = next(iter(train1_dataloader))\n",
    "input_ids_sample = sample['input_ids']\n",
    "attention_mask_sample = sample['attention_mask']\n",
    "labels_sample = sample['labels']"
   ]
  },
  {
   "cell_type": "code",
   "execution_count": 155,
   "id": "ff3067bf-255c-4bc2-8b25-eea1777429c0",
   "metadata": {},
   "outputs": [
    {
     "data": {
      "text/plain": [
       "(torch.Size([16, 512]), torch.Size([16, 512]), torch.Size([16]))"
      ]
     },
     "execution_count": 155,
     "metadata": {},
     "output_type": "execute_result"
    }
   ],
   "source": [
    "input_ids_sample.shape, attention_mask_sample.shape, labels_sample.shape"
   ]
  },
  {
   "cell_type": "code",
   "execution_count": 156,
   "id": "62134ad7-833c-4a61-adc7-db1bd0448160",
   "metadata": {},
   "outputs": [
    {
     "data": {
      "text/plain": [
       "tensor([  101, 25983,  2003, 11991,  2000, 26060,  1011,  2806,  6583,  6169,\n",
       "        13354,  2015,  2005,  2049, 23408,  2015,  1999,  2397, 16798,  2549,\n",
       "        25983, 23408,  2015,  2008,  2145,  2031,  1996, 10507,  2015,  2487,\n",
       "        13354,  2097,  2131,  3229,  1999, 16798,  2629,  2007,  2019, 15581,\n",
       "         2121,  1012,   102,     0,     0,     0,     0,     0,     0,     0,\n",
       "            0,     0,     0,     0,     0,     0,     0,     0,     0,     0,\n",
       "            0,     0,     0,     0,     0,     0,     0,     0,     0,     0,\n",
       "            0,     0,     0,     0,     0,     0,     0,     0,     0,     0,\n",
       "            0,     0,     0,     0,     0,     0,     0,     0,     0,     0,\n",
       "            0,     0,     0,     0,     0,     0,     0,     0,     0,     0,\n",
       "            0,     0,     0,     0,     0,     0,     0,     0,     0,     0,\n",
       "            0,     0,     0,     0,     0,     0,     0,     0,     0,     0,\n",
       "            0,     0,     0,     0,     0,     0,     0,     0,     0,     0,\n",
       "            0,     0,     0,     0,     0,     0,     0,     0,     0,     0,\n",
       "            0,     0,     0,     0,     0,     0,     0,     0,     0,     0,\n",
       "            0,     0,     0,     0,     0,     0,     0,     0,     0,     0,\n",
       "            0,     0,     0,     0,     0,     0,     0,     0,     0,     0,\n",
       "            0,     0,     0,     0,     0,     0,     0,     0,     0,     0,\n",
       "            0,     0,     0,     0,     0,     0,     0,     0,     0,     0,\n",
       "            0,     0,     0,     0,     0,     0,     0,     0,     0,     0,\n",
       "            0,     0,     0,     0,     0,     0,     0,     0,     0,     0,\n",
       "            0,     0,     0,     0,     0,     0,     0,     0,     0,     0,\n",
       "            0,     0,     0,     0,     0,     0,     0,     0,     0,     0,\n",
       "            0,     0,     0,     0,     0,     0,     0,     0,     0,     0,\n",
       "            0,     0,     0,     0,     0,     0,     0,     0,     0,     0,\n",
       "            0,     0,     0,     0,     0,     0,     0,     0,     0,     0,\n",
       "            0,     0,     0,     0,     0,     0,     0,     0,     0,     0,\n",
       "            0,     0,     0,     0,     0,     0,     0,     0,     0,     0,\n",
       "            0,     0,     0,     0,     0,     0,     0,     0,     0,     0,\n",
       "            0,     0,     0,     0,     0,     0,     0,     0,     0,     0,\n",
       "            0,     0,     0,     0,     0,     0,     0,     0,     0,     0,\n",
       "            0,     0,     0,     0,     0,     0,     0,     0,     0,     0,\n",
       "            0,     0,     0,     0,     0,     0,     0,     0,     0,     0,\n",
       "            0,     0,     0,     0,     0,     0,     0,     0,     0,     0,\n",
       "            0,     0,     0,     0,     0,     0,     0,     0,     0,     0,\n",
       "            0,     0,     0,     0,     0,     0,     0,     0,     0,     0,\n",
       "            0,     0,     0,     0,     0,     0,     0,     0,     0,     0,\n",
       "            0,     0,     0,     0,     0,     0,     0,     0,     0,     0,\n",
       "            0,     0,     0,     0,     0,     0,     0,     0,     0,     0,\n",
       "            0,     0,     0,     0,     0,     0,     0,     0,     0,     0,\n",
       "            0,     0,     0,     0,     0,     0,     0,     0,     0,     0,\n",
       "            0,     0,     0,     0,     0,     0,     0,     0,     0,     0,\n",
       "            0,     0,     0,     0,     0,     0,     0,     0,     0,     0,\n",
       "            0,     0,     0,     0,     0,     0,     0,     0,     0,     0,\n",
       "            0,     0,     0,     0,     0,     0,     0,     0,     0,     0,\n",
       "            0,     0,     0,     0,     0,     0,     0,     0,     0,     0,\n",
       "            0,     0,     0,     0,     0,     0,     0,     0,     0,     0,\n",
       "            0,     0,     0,     0,     0,     0,     0,     0,     0,     0,\n",
       "            0,     0,     0,     0,     0,     0,     0,     0,     0,     0,\n",
       "            0,     0,     0,     0,     0,     0,     0,     0,     0,     0,\n",
       "            0,     0,     0,     0,     0,     0,     0,     0,     0,     0,\n",
       "            0,     0])"
      ]
     },
     "execution_count": 156,
     "metadata": {},
     "output_type": "execute_result"
    }
   ],
   "source": [
    "# check for encoded text\n",
    "input_ids_sample[0]"
   ]
  },
  {
   "cell_type": "code",
   "execution_count": 157,
   "id": "fe68bb27-0ed7-4bb5-b54a-90cf8e355804",
   "metadata": {},
   "outputs": [
    {
     "data": {
      "text/plain": [
       "tensor([1, 1, 1, 1, 1, 1, 1, 1, 1, 1, 1, 1, 1, 1, 1, 1, 1, 1, 1, 1, 1, 1, 1, 1,\n",
       "        1, 1, 1, 1, 1, 1, 1, 1, 1, 1, 1, 1, 1, 1, 1, 1, 1, 1, 1, 0, 0, 0, 0, 0,\n",
       "        0, 0, 0, 0, 0, 0, 0, 0, 0, 0, 0, 0, 0, 0, 0, 0, 0, 0, 0, 0, 0, 0, 0, 0,\n",
       "        0, 0, 0, 0, 0, 0, 0, 0, 0, 0, 0, 0, 0, 0, 0, 0, 0, 0, 0, 0, 0, 0, 0, 0,\n",
       "        0, 0, 0, 0, 0, 0, 0, 0, 0, 0, 0, 0, 0, 0, 0, 0, 0, 0, 0, 0, 0, 0, 0, 0,\n",
       "        0, 0, 0, 0, 0, 0, 0, 0, 0, 0, 0, 0, 0, 0, 0, 0, 0, 0, 0, 0, 0, 0, 0, 0,\n",
       "        0, 0, 0, 0, 0, 0, 0, 0, 0, 0, 0, 0, 0, 0, 0, 0, 0, 0, 0, 0, 0, 0, 0, 0,\n",
       "        0, 0, 0, 0, 0, 0, 0, 0, 0, 0, 0, 0, 0, 0, 0, 0, 0, 0, 0, 0, 0, 0, 0, 0,\n",
       "        0, 0, 0, 0, 0, 0, 0, 0, 0, 0, 0, 0, 0, 0, 0, 0, 0, 0, 0, 0, 0, 0, 0, 0,\n",
       "        0, 0, 0, 0, 0, 0, 0, 0, 0, 0, 0, 0, 0, 0, 0, 0, 0, 0, 0, 0, 0, 0, 0, 0,\n",
       "        0, 0, 0, 0, 0, 0, 0, 0, 0, 0, 0, 0, 0, 0, 0, 0, 0, 0, 0, 0, 0, 0, 0, 0,\n",
       "        0, 0, 0, 0, 0, 0, 0, 0, 0, 0, 0, 0, 0, 0, 0, 0, 0, 0, 0, 0, 0, 0, 0, 0,\n",
       "        0, 0, 0, 0, 0, 0, 0, 0, 0, 0, 0, 0, 0, 0, 0, 0, 0, 0, 0, 0, 0, 0, 0, 0,\n",
       "        0, 0, 0, 0, 0, 0, 0, 0, 0, 0, 0, 0, 0, 0, 0, 0, 0, 0, 0, 0, 0, 0, 0, 0,\n",
       "        0, 0, 0, 0, 0, 0, 0, 0, 0, 0, 0, 0, 0, 0, 0, 0, 0, 0, 0, 0, 0, 0, 0, 0,\n",
       "        0, 0, 0, 0, 0, 0, 0, 0, 0, 0, 0, 0, 0, 0, 0, 0, 0, 0, 0, 0, 0, 0, 0, 0,\n",
       "        0, 0, 0, 0, 0, 0, 0, 0, 0, 0, 0, 0, 0, 0, 0, 0, 0, 0, 0, 0, 0, 0, 0, 0,\n",
       "        0, 0, 0, 0, 0, 0, 0, 0, 0, 0, 0, 0, 0, 0, 0, 0, 0, 0, 0, 0, 0, 0, 0, 0,\n",
       "        0, 0, 0, 0, 0, 0, 0, 0, 0, 0, 0, 0, 0, 0, 0, 0, 0, 0, 0, 0, 0, 0, 0, 0,\n",
       "        0, 0, 0, 0, 0, 0, 0, 0, 0, 0, 0, 0, 0, 0, 0, 0, 0, 0, 0, 0, 0, 0, 0, 0,\n",
       "        0, 0, 0, 0, 0, 0, 0, 0, 0, 0, 0, 0, 0, 0, 0, 0, 0, 0, 0, 0, 0, 0, 0, 0,\n",
       "        0, 0, 0, 0, 0, 0, 0, 0])"
      ]
     },
     "execution_count": 157,
     "metadata": {},
     "output_type": "execute_result"
    }
   ],
   "source": [
    "# check for attention mask\n",
    "# you can tell the attention mask distinguish actual tokens or just padding tokens\n",
    "attention_mask_sample[0]"
   ]
  },
  {
   "cell_type": "code",
   "execution_count": 158,
   "id": "1fa3a027-81bb-4003-8901-1722e2619c28",
   "metadata": {},
   "outputs": [
    {
     "data": {
      "text/plain": [
       "tensor([1, 0, 1, 0, 1, 1, 1, 1, 1, 1, 0, 0, 0, 1, 0, 0])"
      ]
     },
     "execution_count": 158,
     "metadata": {},
     "output_type": "execute_result"
    }
   ],
   "source": [
    "# check for label\n",
    "labels_sample"
   ]
  },
  {
   "cell_type": "markdown",
   "id": "4db75979-b5b4-4548-b50e-48276e6d9c94",
   "metadata": {},
   "source": [
    "## Trainer from Huggingface Transformers\n",
    "\n",
    "[Learn more about Trainer package](https://huggingface.co/docs/transformers/main_classes/trainer#transformers.Trainer)\n",
    "\n",
    "From the Huggingface Transformers docs: \"Trainer is a simple but feature-complete training and eval loop for PyTorch, optimized for Transformers.\""
   ]
  },
  {
   "cell_type": "markdown",
   "id": "bd5fca76-f8a9-48ec-b22a-e578ef6b7242",
   "metadata": {},
   "source": [
    "### Load Model and Freeze Parameters"
   ]
  },
  {
   "cell_type": "code",
   "execution_count": 142,
   "id": "0fdbe30c-34e8-4e1f-bd11-932818268b1b",
   "metadata": {},
   "outputs": [
    {
     "data": {
      "application/vnd.jupyter.widget-view+json": {
       "model_id": "36717e6752464b179009f54ccc5cf4ae",
       "version_major": 2,
       "version_minor": 0
      },
      "text/plain": [
       "Downloading:   0%|          | 0.00/440M [00:00<?, ?B/s]"
      ]
     },
     "metadata": {},
     "output_type": "display_data"
    },
    {
     "name": "stderr",
     "output_type": "stream",
     "text": [
      "Some weights of the model checkpoint at bert-base-uncased were not used when initializing BertForSequenceClassification: ['cls.predictions.transform.LayerNorm.bias', 'cls.predictions.decoder.weight', 'cls.predictions.transform.LayerNorm.weight', 'cls.predictions.bias', 'cls.predictions.transform.dense.bias', 'cls.predictions.transform.dense.weight', 'cls.seq_relationship.bias', 'cls.seq_relationship.weight']\n",
      "- This IS expected if you are initializing BertForSequenceClassification from the checkpoint of a model trained on another task or with another architecture (e.g. initializing a BertForSequenceClassification model from a BertForPreTraining model).\n",
      "- This IS NOT expected if you are initializing BertForSequenceClassification from the checkpoint of a model that you expect to be exactly identical (initializing a BertForSequenceClassification model from a BertForSequenceClassification model).\n",
      "Some weights of BertForSequenceClassification were not initialized from the model checkpoint at bert-base-uncased and are newly initialized: ['classifier.bias', 'classifier.weight']\n",
      "You should probably TRAIN this model on a down-stream task to be able to use it for predictions and inference.\n"
     ]
    }
   ],
   "source": [
    "# load the model\n",
    "bert_model = AutoModelForSequenceClassification.from_pretrained('bert-base-uncased')"
   ]
  },
  {
   "cell_type": "code",
   "execution_count": 144,
   "id": "ce27da46-e4e0-4937-b4a7-85673aae879a",
   "metadata": {},
   "outputs": [],
   "source": [
    "# freeze the whole BERT model and only train the last classification layer\n",
    "for name, param in bert_model.bert.named_parameters():\n",
    "    param.requires_grad = False"
   ]
  },
  {
   "cell_type": "markdown",
   "id": "5fd36db9-05bd-4db9-bc35-27a516cd72ed",
   "metadata": {},
   "source": [
    "### Compute Metrics"
   ]
  },
  {
   "cell_type": "code",
   "execution_count": 174,
   "id": "1912bdad-46d6-47f4-ba49-c9f2db8f41c7",
   "metadata": {},
   "outputs": [],
   "source": [
    "# define computing metrics for training\n",
    "def binary_metrics(pred):\n",
    "    labels = pred.label_ids\n",
    "    preds = pred.predictions.argmax(-1)\n",
    "    f1 = f1_score(labels, preds)\n",
    "    roc_auc = roc_auc_score(labels, preds)\n",
    "    accuracy = accuracy_score(labels, preds)\n",
    "    return {\n",
    "        'f1': f1,\n",
    "        'accuracy': accuracy,\n",
    "        'rocauc': roc_auc\n",
    "    }"
   ]
  },
  {
   "cell_type": "code",
   "execution_count": 206,
   "id": "07b208ef-66bf-4b84-9497-9385326a9702",
   "metadata": {},
   "outputs": [],
   "source": [
    "# print out the metrics during evaluation\n",
    "def compute_metrics(p:EvalPrediction):\n",
    "    return binary_metrics(p)"
   ]
  },
  {
   "cell_type": "markdown",
   "id": "015309eb-02c0-4cc9-9f36-96dd4b338bbe",
   "metadata": {},
   "source": [
    "### Define Training"
   ]
  },
  {
   "cell_type": "code",
   "execution_count": 207,
   "id": "ac7ec1ee-d947-494f-a90e-7e1d0529086c",
   "metadata": {},
   "outputs": [
    {
     "name": "stderr",
     "output_type": "stream",
     "text": [
      "PyTorch: setting up devices\n",
      "The default value for the training argument `--report_to` will change in v5 (from all installed integrations to none). In v5, you will need to use `--report_to all` to get the same behavior as now. You should start updating your code and make this info disappear :-).\n"
     ]
    }
   ],
   "source": [
    "# define training arguments\n",
    "train_args = TrainingArguments(\n",
    "    output_dir = './binary_training_results',  # where the model predictions and checkpoints will be written to\n",
    "    overwrite_output_dir = True,\n",
    "    evaluation_strategy = \"epoch\",  # evaluation is done at the end of each epoch.\n",
    "    per_device_train_batch_size = 4,  # batch size per core\n",
    "    per_device_eval_batch_size = 4,  # batch size per core\n",
    "    # optimizer related parameters\n",
    "    learning_rate = 2e-5,\n",
    "    weight_decay = 0.01,\n",
    "    num_train_epochs = 5,  # total number of training epochs\n",
    "    save_strategy = \"epoch\",  # save at the end of each epoch\n",
    "    load_best_model_at_end = True,  # the best checkpoint will always be saved at the end\n",
    "    metric_for_best_model = 'loss',  # use eval_loss to find the best model\n",
    "    greater_is_better = False,  # smaller eval_loss is better\n",
    ") "
   ]
  },
  {
   "cell_type": "code",
   "execution_count": 208,
   "id": "b06ce1c0-51ac-491f-a0ab-97b9d3ff1d2a",
   "metadata": {},
   "outputs": [],
   "source": [
    "# define the trainer\n",
    "trainer = Trainer(\n",
    "    model = bert_model,\n",
    "    args = train_args,\n",
    "    train_dataset = train1_dataset,\n",
    "    eval_dataset = val1_dataset,\n",
    "    compute_metrics = compute_metrics \n",
    ")"
   ]
  },
  {
   "cell_type": "markdown",
   "id": "a75dcfe6-2661-4faa-96d8-8e7c7db0e1a4",
   "metadata": {},
   "source": [
    "### Start Training"
   ]
  },
  {
   "cell_type": "code",
   "execution_count": 209,
   "id": "ca8b8954-e116-477d-8677-6757d110f26e",
   "metadata": {},
   "outputs": [
    {
     "name": "stderr",
     "output_type": "stream",
     "text": [
      "C:\\Users\\wfei2\\anaconda3\\lib\\site-packages\\transformers\\optimization.py:306: FutureWarning: This implementation of AdamW is deprecated and will be removed in a future version. Use the PyTorch implementation torch.optim.AdamW instead, or set `no_deprecation_warning=True` to disable this warning\n",
      "  warnings.warn(\n",
      "***** Running training *****\n",
      "  Num examples = 165\n",
      "  Num Epochs = 5\n",
      "  Instantaneous batch size per device = 4\n",
      "  Total train batch size (w. parallel, distributed & accumulation) = 4\n",
      "  Gradient Accumulation steps = 1\n",
      "  Total optimization steps = 210\n",
      "  Number of trainable parameters = 1538\n"
     ]
    },
    {
     "data": {
      "text/html": [
       "\n",
       "    <div>\n",
       "      \n",
       "      <progress value='210' max='210' style='width:300px; height:20px; vertical-align: middle;'></progress>\n",
       "      [210/210 15:01:17, Epoch 5/5]\n",
       "    </div>\n",
       "    <table border=\"1\" class=\"dataframe\">\n",
       "  <thead>\n",
       " <tr style=\"text-align: left;\">\n",
       "      <th>Epoch</th>\n",
       "      <th>Training Loss</th>\n",
       "      <th>Validation Loss</th>\n",
       "      <th>F1</th>\n",
       "      <th>Accuracy</th>\n",
       "      <th>Rocauc</th>\n",
       "    </tr>\n",
       "  </thead>\n",
       "  <tbody>\n",
       "    <tr>\n",
       "      <td>1</td>\n",
       "      <td>No log</td>\n",
       "      <td>0.690832</td>\n",
       "      <td>0.166667</td>\n",
       "      <td>0.523810</td>\n",
       "      <td>0.504545</td>\n",
       "    </tr>\n",
       "    <tr>\n",
       "      <td>2</td>\n",
       "      <td>No log</td>\n",
       "      <td>0.686404</td>\n",
       "      <td>0.555556</td>\n",
       "      <td>0.428571</td>\n",
       "      <td>0.443182</td>\n",
       "    </tr>\n",
       "    <tr>\n",
       "      <td>3</td>\n",
       "      <td>No log</td>\n",
       "      <td>0.686621</td>\n",
       "      <td>0.655738</td>\n",
       "      <td>0.500000</td>\n",
       "      <td>0.522727</td>\n",
       "    </tr>\n",
       "    <tr>\n",
       "      <td>4</td>\n",
       "      <td>No log</td>\n",
       "      <td>0.686904</td>\n",
       "      <td>0.655738</td>\n",
       "      <td>0.500000</td>\n",
       "      <td>0.522727</td>\n",
       "    </tr>\n",
       "    <tr>\n",
       "      <td>5</td>\n",
       "      <td>No log</td>\n",
       "      <td>0.686505</td>\n",
       "      <td>0.655738</td>\n",
       "      <td>0.500000</td>\n",
       "      <td>0.522727</td>\n",
       "    </tr>\n",
       "  </tbody>\n",
       "</table><p>"
      ],
      "text/plain": [
       "<IPython.core.display.HTML object>"
      ]
     },
     "metadata": {},
     "output_type": "display_data"
    },
    {
     "name": "stderr",
     "output_type": "stream",
     "text": [
      "***** Running Evaluation *****\n",
      "  Num examples = 42\n",
      "  Batch size = 4\n",
      "Saving model checkpoint to ./binary_training_results\\checkpoint-42\n",
      "Configuration saved in ./binary_training_results\\checkpoint-42\\config.json\n",
      "Model weights saved in ./binary_training_results\\checkpoint-42\\pytorch_model.bin\n",
      "***** Running Evaluation *****\n",
      "  Num examples = 42\n",
      "  Batch size = 4\n",
      "Saving model checkpoint to ./binary_training_results\\checkpoint-84\n",
      "Configuration saved in ./binary_training_results\\checkpoint-84\\config.json\n",
      "Model weights saved in ./binary_training_results\\checkpoint-84\\pytorch_model.bin\n",
      "***** Running Evaluation *****\n",
      "  Num examples = 42\n",
      "  Batch size = 4\n",
      "Saving model checkpoint to ./binary_training_results\\checkpoint-126\n",
      "Configuration saved in ./binary_training_results\\checkpoint-126\\config.json\n",
      "Model weights saved in ./binary_training_results\\checkpoint-126\\pytorch_model.bin\n",
      "***** Running Evaluation *****\n",
      "  Num examples = 42\n",
      "  Batch size = 4\n",
      "Saving model checkpoint to ./binary_training_results\\checkpoint-168\n",
      "Configuration saved in ./binary_training_results\\checkpoint-168\\config.json\n",
      "Model weights saved in ./binary_training_results\\checkpoint-168\\pytorch_model.bin\n",
      "***** Running Evaluation *****\n",
      "  Num examples = 42\n",
      "  Batch size = 4\n",
      "Saving model checkpoint to ./binary_training_results\\checkpoint-210\n",
      "Configuration saved in ./binary_training_results\\checkpoint-210\\config.json\n",
      "Model weights saved in ./binary_training_results\\checkpoint-210\\pytorch_model.bin\n",
      "\n",
      "\n",
      "Training completed. Do not forget to share your model on huggingface.co/models =)\n",
      "\n",
      "\n",
      "Loading best model from ./binary_training_results\\checkpoint-84 (score: 0.6864043474197388).\n"
     ]
    },
    {
     "data": {
      "text/plain": [
       "TrainOutput(global_step=210, training_loss=0.6918074108305432, metrics={'train_runtime': 54274.1063, 'train_samples_per_second': 0.015, 'train_steps_per_second': 0.004, 'total_flos': 217066620672000.0, 'train_loss': 0.6918074108305432, 'epoch': 5.0})"
      ]
     },
     "execution_count": 209,
     "metadata": {},
     "output_type": "execute_result"
    }
   ],
   "source": [
    "trainer.train()"
   ]
  },
  {
   "cell_type": "markdown",
   "id": "448369f5-2e15-48c0-b652-5e6751623823",
   "metadata": {},
   "source": [
    "<span style='color:red'>**Summary: The accuracy of the model is almost same as random guess.**<span>\n",
    "\n",
    "* Sample size is possible too small to fine-tuning the model.\n",
    "* BERT is not appropriate for this type of text classification task."
   ]
  },
  {
   "cell_type": "code",
   "execution_count": null,
   "id": "31b78af7-0061-4588-b038-b1a627f5fa45",
   "metadata": {},
   "outputs": [],
   "source": []
  },
  {
   "cell_type": "code",
   "execution_count": null,
   "id": "f62e3b2a-b93e-4e11-acce-11236702ba67",
   "metadata": {},
   "outputs": [],
   "source": []
  },
  {
   "cell_type": "code",
   "execution_count": null,
   "id": "0ff5e507-91a1-4417-8d6a-1a3953e77d0b",
   "metadata": {},
   "outputs": [],
   "source": []
  },
  {
   "cell_type": "code",
   "execution_count": null,
   "id": "06471d71-41f4-42fb-9feb-e7b26a7ecf69",
   "metadata": {},
   "outputs": [],
   "source": []
  },
  {
   "cell_type": "code",
   "execution_count": null,
   "id": "26691eee-6e16-41ae-9ccf-af769566b5ea",
   "metadata": {},
   "outputs": [],
   "source": []
  },
  {
   "cell_type": "code",
   "execution_count": null,
   "id": "1b0e0bf9-4c2a-4519-8d28-26ad54f5fbc9",
   "metadata": {},
   "outputs": [],
   "source": []
  },
  {
   "cell_type": "code",
   "execution_count": null,
   "id": "76c30456-132c-4f49-bee1-7bd5b9d1c1d2",
   "metadata": {},
   "outputs": [],
   "source": []
  },
  {
   "cell_type": "code",
   "execution_count": null,
   "id": "794607b3-06e6-4eea-8920-8230fe9a7771",
   "metadata": {},
   "outputs": [],
   "source": []
  },
  {
   "cell_type": "code",
   "execution_count": null,
   "id": "962239a8-c934-43a2-afe8-0ae483f7a822",
   "metadata": {},
   "outputs": [],
   "source": []
  },
  {
   "cell_type": "code",
   "execution_count": null,
   "id": "08a8b5eb-db37-4bde-8ed3-659e04bdc5ff",
   "metadata": {},
   "outputs": [],
   "source": []
  },
  {
   "cell_type": "code",
   "execution_count": null,
   "id": "96aeaf6f-c0fe-49fc-82ab-78d17c63867f",
   "metadata": {},
   "outputs": [],
   "source": []
  },
  {
   "cell_type": "code",
   "execution_count": null,
   "id": "2ba27e6e-56ca-4266-b615-f3d6cc3a3434",
   "metadata": {},
   "outputs": [],
   "source": []
  },
  {
   "cell_type": "code",
   "execution_count": null,
   "id": "ca37e8fd-c4ad-4667-94db-0354c2ba5699",
   "metadata": {},
   "outputs": [],
   "source": []
  },
  {
   "cell_type": "code",
   "execution_count": null,
   "id": "a6596177-965d-4fb2-8963-325cdfd43b62",
   "metadata": {},
   "outputs": [],
   "source": []
  },
  {
   "cell_type": "code",
   "execution_count": null,
   "id": "a46c8861-4c74-436a-9ee8-a44e55e2bbb1",
   "metadata": {},
   "outputs": [],
   "source": []
  },
  {
   "cell_type": "code",
   "execution_count": null,
   "id": "e55ba1cb-192c-409e-bccb-a597deb52c76",
   "metadata": {},
   "outputs": [],
   "source": []
  },
  {
   "cell_type": "markdown",
   "id": "a175bda4-6949-4a9e-bab4-f069cb556331",
   "metadata": {},
   "source": [
    "### test to find out the model prediction output format"
   ]
  },
  {
   "cell_type": "code",
   "execution_count": 189,
   "id": "346b0286-cfc2-488a-8d91-f8b2c1e29710",
   "metadata": {},
   "outputs": [],
   "source": [
    "# create datasets\n",
    "train1_small = BertDataset(\n",
    "    news = df_train.iloc[0:8, 0].tolist(), \n",
    "    labels = df_train.iloc[0:8, 1].tolist(), \n",
    "    tokenizer = tokenizer)"
   ]
  },
  {
   "cell_type": "code",
   "execution_count": 191,
   "id": "83c373fb-bc3b-4c7e-bbb3-5e0a0fca54db",
   "metadata": {},
   "outputs": [
    {
     "data": {
      "text/plain": [
       "8"
      ]
     },
     "execution_count": 191,
     "metadata": {},
     "output_type": "execute_result"
    }
   ],
   "source": [
    "len(df_train.iloc[0:8, 1].tolist())"
   ]
  },
  {
   "cell_type": "code",
   "execution_count": 187,
   "id": "51eb2f6e-8f9f-4eb2-868c-259fc5f62e09",
   "metadata": {},
   "outputs": [
    {
     "data": {
      "text/html": [
       "<div>\n",
       "<style scoped>\n",
       "    .dataframe tbody tr th:only-of-type {\n",
       "        vertical-align: middle;\n",
       "    }\n",
       "\n",
       "    .dataframe tbody tr th {\n",
       "        vertical-align: top;\n",
       "    }\n",
       "\n",
       "    .dataframe thead th {\n",
       "        text-align: right;\n",
       "    }\n",
       "</style>\n",
       "<table border=\"1\" class=\"dataframe\">\n",
       "  <thead>\n",
       "    <tr style=\"text-align: right;\">\n",
       "      <th></th>\n",
       "      <th>title_desc</th>\n",
       "      <th>tesla_related</th>\n",
       "      <th>sentiment_label</th>\n",
       "    </tr>\n",
       "  </thead>\n",
       "  <tbody>\n",
       "    <tr>\n",
       "      <th>111</th>\n",
       "      <td>AOC says she's looking to trade in her Tesla f...</td>\n",
       "      <td>1</td>\n",
       "      <td>-1</td>\n",
       "    </tr>\n",
       "    <tr>\n",
       "      <th>17</th>\n",
       "      <td>Mercedes-Benz's $100,000 electric SUV is an aw...</td>\n",
       "      <td>1</td>\n",
       "      <td>0</td>\n",
       "    </tr>\n",
       "    <tr>\n",
       "      <th>116</th>\n",
       "      <td>Where is the phone?' Huawei keeps quiet about ...</td>\n",
       "      <td>1</td>\n",
       "      <td>0</td>\n",
       "    </tr>\n",
       "    <tr>\n",
       "      <th>6</th>\n",
       "      <td>Elon Musk sent a graphic mid-childbirth pictur...</td>\n",
       "      <td>0</td>\n",
       "      <td>0</td>\n",
       "    </tr>\n",
       "    <tr>\n",
       "      <th>9</th>\n",
       "      <td>Did Elon Musk Turn Off Starlink for Ukraine? W...</td>\n",
       "      <td>0</td>\n",
       "      <td>0</td>\n",
       "    </tr>\n",
       "  </tbody>\n",
       "</table>\n",
       "</div>"
      ],
      "text/plain": [
       "                                            title_desc  tesla_related  \\\n",
       "111  AOC says she's looking to trade in her Tesla f...              1   \n",
       "17   Mercedes-Benz's $100,000 electric SUV is an aw...              1   \n",
       "116  Where is the phone?' Huawei keeps quiet about ...              1   \n",
       "6    Elon Musk sent a graphic mid-childbirth pictur...              0   \n",
       "9    Did Elon Musk Turn Off Starlink for Ukraine? W...              0   \n",
       "\n",
       "     sentiment_label  \n",
       "111               -1  \n",
       "17                 0  \n",
       "116                0  \n",
       "6                  0  \n",
       "9                  0  "
      ]
     },
     "execution_count": 187,
     "metadata": {},
     "output_type": "execute_result"
    }
   ],
   "source": [
    "df_train.head()"
   ]
  },
  {
   "cell_type": "code",
   "execution_count": 192,
   "id": "d992107e-cc1e-41e0-9a77-340e67e1fa50",
   "metadata": {},
   "outputs": [],
   "source": [
    "# define the trainer\n",
    "trainer1 = Trainer(\n",
    "    model = bert_model,\n",
    "    args = train_args,\n",
    "    compute_metrics = binary_metrics \n",
    ")"
   ]
  },
  {
   "cell_type": "code",
   "execution_count": 193,
   "id": "5c813e52-fa54-4520-8cd2-2d9da126c38d",
   "metadata": {},
   "outputs": [
    {
     "name": "stderr",
     "output_type": "stream",
     "text": [
      "***** Running Prediction *****\n",
      "  Num examples = 8\n",
      "  Batch size = 4\n"
     ]
    },
    {
     "data": {
      "text/html": [],
      "text/plain": [
       "<IPython.core.display.HTML object>"
      ]
     },
     "metadata": {},
     "output_type": "display_data"
    }
   ],
   "source": [
    "bert_train1_output = trainer1.predict(train1_small)"
   ]
  },
  {
   "cell_type": "code",
   "execution_count": 194,
   "id": "a219c942-10d8-4139-95bf-7d2aee1dbc03",
   "metadata": {},
   "outputs": [
    {
     "data": {
      "text/plain": [
       "transformers.trainer_utils.PredictionOutput"
      ]
     },
     "execution_count": 194,
     "metadata": {},
     "output_type": "execute_result"
    }
   ],
   "source": [
    "type(bert_train1_output)"
   ]
  },
  {
   "cell_type": "code",
   "execution_count": 195,
   "id": "6cc83cc4-119e-4794-8108-7365629c9237",
   "metadata": {},
   "outputs": [
    {
     "data": {
      "text/plain": [
       "PredictionOutput(predictions=array([[0.7284382 , 0.16914575],\n",
       "       [0.8083266 , 0.20289971],\n",
       "       [0.38745153, 0.08549518],\n",
       "       [0.5581102 , 0.13084072],\n",
       "       [0.5385788 , 0.37167233],\n",
       "       [0.78016263, 0.32706472],\n",
       "       [0.5805494 , 0.26181558],\n",
       "       [0.7916084 , 0.29966637]], dtype=float32), label_ids=array([1, 1, 1, 0, 0, 1, 1, 0], dtype=int64), metrics={'test_loss': 0.7888289093971252, 'test_f1': 0.0, 'test_accuracy': 0.375, 'test_rocauc': 0.5, 'test_runtime': 400.9993, 'test_samples_per_second': 0.02, 'test_steps_per_second': 0.005})"
      ]
     },
     "execution_count": 195,
     "metadata": {},
     "output_type": "execute_result"
    }
   ],
   "source": [
    "bert_train1_output"
   ]
  },
  {
   "cell_type": "code",
   "execution_count": null,
   "id": "6fc4c296-8583-4093-ac89-7039376edb1b",
   "metadata": {},
   "outputs": [],
   "source": [
    "# define computing metrics for training\n",
    "def binary_metrics(pred):\n",
    "    labels = pred.label_ids\n",
    "    preds = pred.predictions.argmax(-1)\n",
    "    f1 = f1_score(labels, preds)\n",
    "    roc_auc = roc_auc_score(labels, preds)\n",
    "    accuracy = accuracy_score(labels, preds)\n",
    "    return {\n",
    "        'f1': f1,\n",
    "        'accuracy': accuracy,\n",
    "        'rocauc': roc_auc\n",
    "    }"
   ]
  },
  {
   "cell_type": "code",
   "execution_count": 196,
   "id": "385e912c-8802-4bf5-bd46-5f9ae5b5f21a",
   "metadata": {},
   "outputs": [
    {
     "data": {
      "text/plain": [
       "array([1, 1, 1, 0, 0, 1, 1, 0], dtype=int64)"
      ]
     },
     "execution_count": 196,
     "metadata": {},
     "output_type": "execute_result"
    }
   ],
   "source": [
    "bert_train1_output.label_ids"
   ]
  },
  {
   "cell_type": "code",
   "execution_count": 199,
   "id": "a31662e6-ff0f-4f73-b55e-9ab7fc1d9ebb",
   "metadata": {},
   "outputs": [
    {
     "data": {
      "text/plain": [
       "array([[0.7284382 , 0.16914575],\n",
       "       [0.8083266 , 0.20289971],\n",
       "       [0.38745153, 0.08549518],\n",
       "       [0.5581102 , 0.13084072],\n",
       "       [0.5385788 , 0.37167233],\n",
       "       [0.78016263, 0.32706472],\n",
       "       [0.5805494 , 0.26181558],\n",
       "       [0.7916084 , 0.29966637]], dtype=float32)"
      ]
     },
     "execution_count": 199,
     "metadata": {},
     "output_type": "execute_result"
    }
   ],
   "source": [
    "bert_train1_output.predictions"
   ]
  },
  {
   "cell_type": "code",
   "execution_count": 200,
   "id": "96630707-64a3-4ded-a67e-0a0fb7654437",
   "metadata": {},
   "outputs": [
    {
     "data": {
      "text/plain": [
       "array([0, 0, 0, 0, 0, 0, 0, 0], dtype=int64)"
      ]
     },
     "execution_count": 200,
     "metadata": {},
     "output_type": "execute_result"
    }
   ],
   "source": [
    "bert_train1_output.predictions.argmax(-1)"
   ]
  },
  {
   "cell_type": "code",
   "execution_count": null,
   "id": "f2346d71-e357-44b0-88f4-7dace7753fd9",
   "metadata": {},
   "outputs": [],
   "source": []
  }
 ],
 "metadata": {
  "kernelspec": {
   "display_name": "Python 3 (ipykernel)",
   "language": "python",
   "name": "python3"
  },
  "language_info": {
   "codemirror_mode": {
    "name": "ipython",
    "version": 3
   },
   "file_extension": ".py",
   "mimetype": "text/x-python",
   "name": "python",
   "nbconvert_exporter": "python",
   "pygments_lexer": "ipython3",
   "version": "3.10.9"
  }
 },
 "nbformat": 4,
 "nbformat_minor": 5
}

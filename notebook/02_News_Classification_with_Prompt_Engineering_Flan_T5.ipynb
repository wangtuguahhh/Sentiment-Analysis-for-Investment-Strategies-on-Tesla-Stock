{
 "cells": [
  {
   "cell_type": "markdown",
   "id": "d383191f-d569-4ac4-a924-697ac609e9cd",
   "metadata": {},
   "source": [
    "# **Sentiment Analysis for Investment Strategies on Tesla Stock**"
   ]
  },
  {
   "cell_type": "markdown",
   "id": "b7456f1f-d9b6-402c-9156-6bacd285f9e7",
   "metadata": {},
   "source": [
    "# 2. News Classification with Prompt Engineering Flan-T5\n",
    "After some manual labeling work, nearly half of the news articles were not directly related to Tesla. The news from NewsAPI were extracted based on some key words, such as Tesla and Elon Musk. Therefore, there were news about Elon Musk's personal affairs, his personality, Musk's other companies and his opinion on some sensitive political issues. To me, those news were not directly related to Tesla performance and I assumed that they had subtle impact on Tesla's stock movements.\n",
    "\n",
    "A classification tool is needed here to classify if a news article is directly related to Tesla or Not. Using LLMs is a good choice for this task since they have been trained with large amount of data with a good understanding of English context. However, for this particular classification task, some additional work is required to guide the chosen LLM to provide satisfactory results. The following methods have the potential to facilitate a LLM to achieve better results for a particular task:\n",
    "* **Prompt Engineering or In-Context Learning (ICL)**\n",
    "* **Fine-tuning**\n",
    "\n",
    "Considering the limited size of data (207 news with labels), prompt engineering was tested in this notebook for the following models:\n",
    "* **BERT** <span style='color:red'>(ICL supposed not work since it doesn't have generative capabilities)</span>\n",
    "* **Flan-T5** <span style='color:green'>(ICL supposed to work)<span>"
   ]
  },
  {
   "cell_type": "code",
   "execution_count": 1,
   "id": "e4065960-736f-4dbd-bcb4-ac610220bf43",
   "metadata": {},
   "outputs": [],
   "source": [
    "import pandas as pd\n",
    "import numpy as np\n",
    "import matplotlib.pyplot as plt\n",
    "import seaborn as sns\n",
    "\n",
    "import torch\n",
    "from torch.utils.data import Dataset, DataLoader\n",
    "\n",
    "from transformers import AutoTokenizer, AutoModelForSequenceClassification, AutoModelForSeq2SeqLM, pipeline\n",
    "\n",
    "from sklearn.metrics import f1_score, roc_auc_score, accuracy_score, confusion_matrix, classification_report\n",
    "\n",
    "import time\n",
    "import random"
   ]
  },
  {
   "cell_type": "markdown",
   "id": "b04fcc49-f0c9-43b6-bffc-78474c0dfaf6",
   "metadata": {},
   "source": [
    "## 2.1. Data Preperation\n",
    "News articles with manual labels are required for ICL for LLMs.  \n",
    "\n",
    "Load the data with manual lables and perform some data wrangling as needed."
   ]
  },
  {
   "cell_type": "code",
   "execution_count": 152,
   "id": "07c0b422-c5d2-4254-b5f6-a09c2dd0c234",
   "metadata": {},
   "outputs": [
    {
     "data": {
      "text/html": [
       "<div>\n",
       "<style scoped>\n",
       "    .dataframe tbody tr th:only-of-type {\n",
       "        vertical-align: middle;\n",
       "    }\n",
       "\n",
       "    .dataframe tbody tr th {\n",
       "        vertical-align: top;\n",
       "    }\n",
       "\n",
       "    .dataframe thead th {\n",
       "        text-align: right;\n",
       "    }\n",
       "</style>\n",
       "<table border=\"1\" class=\"dataframe\">\n",
       "  <thead>\n",
       "    <tr style=\"text-align: right;\">\n",
       "      <th></th>\n",
       "      <th>source_name</th>\n",
       "      <th>author</th>\n",
       "      <th>date</th>\n",
       "      <th>title</th>\n",
       "      <th>description</th>\n",
       "      <th>content</th>\n",
       "      <th>label</th>\n",
       "      <th>tesla_related</th>\n",
       "    </tr>\n",
       "  </thead>\n",
       "  <tbody>\n",
       "    <tr>\n",
       "      <th>0</th>\n",
       "      <td>Fortune</td>\n",
       "      <td>Jane Thier</td>\n",
       "      <td>9/12/2023</td>\n",
       "      <td>How Elon Musk lost a friend over AI: Google co...</td>\n",
       "      <td>After Musk tried to sabotage Googles acquisit...</td>\n",
       "      <td>Teslas Elon Musk and Googles Larry Page dont t...</td>\n",
       "      <td>neutral</td>\n",
       "      <td>yes</td>\n",
       "    </tr>\n",
       "    <tr>\n",
       "      <th>1</th>\n",
       "      <td>Next Big Future</td>\n",
       "      <td>Brian Wang</td>\n",
       "      <td>9/12/2023</td>\n",
       "      <td>Bill Gates Tries to Profit by Driving Down Tes...</td>\n",
       "      <td>Bill Gates bet billions against Tesla in a met...</td>\n",
       "      <td>Bill Gates bet billions against Tesla in a met...</td>\n",
       "      <td>negative</td>\n",
       "      <td>yes</td>\n",
       "    </tr>\n",
       "    <tr>\n",
       "      <th>2</th>\n",
       "      <td>The Jerusalem Post</td>\n",
       "      <td>By REUTERS</td>\n",
       "      <td>9/12/2023</td>\n",
       "      <td>Putin hails Elon Musk as an 'outstanding perso...</td>\n",
       "      <td>The Russian leader said Moscow planned to pers...</td>\n",
       "      <td>Russian President Vladimir Putin on Tuesday ha...</td>\n",
       "      <td>neutral</td>\n",
       "      <td>no</td>\n",
       "    </tr>\n",
       "    <tr>\n",
       "      <th>3</th>\n",
       "      <td>Fortune</td>\n",
       "      <td>Rachyl Jones</td>\n",
       "      <td>9/12/2023</td>\n",
       "      <td>What do donkeys, dragons and Hawaii have in co...</td>\n",
       "      <td>Musks purchase of Twitter fed his constant ne...</td>\n",
       "      <td>Elon Musk lives for the drama. Thats evident i...</td>\n",
       "      <td>neutral</td>\n",
       "      <td>no</td>\n",
       "    </tr>\n",
       "    <tr>\n",
       "      <th>4</th>\n",
       "      <td>Fortune</td>\n",
       "      <td>Christiaan Hetzner</td>\n",
       "      <td>9/12/2023</td>\n",
       "      <td>Elon Musks supercomputer Dojo added $70 billi...</td>\n",
       "      <td>Elon Musk's Tesla share price has jumped the e...</td>\n",
       "      <td>Teslas gonzo market cap is so enormous that it...</td>\n",
       "      <td>positive</td>\n",
       "      <td>yes</td>\n",
       "    </tr>\n",
       "  </tbody>\n",
       "</table>\n",
       "</div>"
      ],
      "text/plain": [
       "          source_name              author       date  \\\n",
       "0             Fortune          Jane Thier  9/12/2023   \n",
       "1     Next Big Future          Brian Wang  9/12/2023   \n",
       "2  The Jerusalem Post          By REUTERS  9/12/2023   \n",
       "3             Fortune        Rachyl Jones  9/12/2023   \n",
       "4             Fortune  Christiaan Hetzner  9/12/2023   \n",
       "\n",
       "                                               title  \\\n",
       "0  How Elon Musk lost a friend over AI: Google co...   \n",
       "1  Bill Gates Tries to Profit by Driving Down Tes...   \n",
       "2  Putin hails Elon Musk as an 'outstanding perso...   \n",
       "3  What do donkeys, dragons and Hawaii have in co...   \n",
       "4  Elon Musks supercomputer Dojo added $70 billi...   \n",
       "\n",
       "                                         description  \\\n",
       "0  After Musk tried to sabotage Googles acquisit...   \n",
       "1  Bill Gates bet billions against Tesla in a met...   \n",
       "2  The Russian leader said Moscow planned to pers...   \n",
       "3  Musks purchase of Twitter fed his constant ne...   \n",
       "4  Elon Musk's Tesla share price has jumped the e...   \n",
       "\n",
       "                                             content     label tesla_related  \n",
       "0  Teslas Elon Musk and Googles Larry Page dont t...   neutral           yes  \n",
       "1  Bill Gates bet billions against Tesla in a met...  negative           yes  \n",
       "2  Russian President Vladimir Putin on Tuesday ha...   neutral            no  \n",
       "3  Elon Musk lives for the drama. Thats evident i...   neutral            no  \n",
       "4  Teslas gonzo market cap is so enormous that it...  positive           yes  "
      ]
     },
     "execution_count": 152,
     "metadata": {},
     "output_type": "execute_result"
    }
   ],
   "source": [
    "# read in data with manual labels\n",
    "df_model = pd.read_csv('../data/Tesla_news_manual_labels.csv', index_col = 0, encoding = 'latin1')\n",
    "df_model.head()"
   ]
  },
  {
   "cell_type": "code",
   "execution_count": 153,
   "id": "dbbe25fb-ddea-4eb5-9a32-cc38b803eec4",
   "metadata": {},
   "outputs": [
    {
     "data": {
      "text/html": [
       "<div>\n",
       "<style scoped>\n",
       "    .dataframe tbody tr th:only-of-type {\n",
       "        vertical-align: middle;\n",
       "    }\n",
       "\n",
       "    .dataframe tbody tr th {\n",
       "        vertical-align: top;\n",
       "    }\n",
       "\n",
       "    .dataframe thead th {\n",
       "        text-align: right;\n",
       "    }\n",
       "</style>\n",
       "<table border=\"1\" class=\"dataframe\">\n",
       "  <thead>\n",
       "    <tr style=\"text-align: right;\">\n",
       "      <th></th>\n",
       "      <th>source_name</th>\n",
       "      <th>author</th>\n",
       "      <th>date</th>\n",
       "      <th>title</th>\n",
       "      <th>description</th>\n",
       "      <th>content</th>\n",
       "      <th>label</th>\n",
       "      <th>tesla_related</th>\n",
       "    </tr>\n",
       "  </thead>\n",
       "  <tbody>\n",
       "    <tr>\n",
       "      <th>202</th>\n",
       "      <td>TechRadar</td>\n",
       "      <td>Leon Poultney</td>\n",
       "      <td>10/9/2023</td>\n",
       "      <td>Tesla software update can help its car cameras...</td>\n",
       "      <td>Tesla software update 2023.32 brings with it g...</td>\n",
       "      <td>Reversing into a trashcan, squashing your neig...</td>\n",
       "      <td>positive</td>\n",
       "      <td>yes</td>\n",
       "    </tr>\n",
       "    <tr>\n",
       "      <th>203</th>\n",
       "      <td>Breitbart News</td>\n",
       "      <td>Paul Bois, Paul Bois</td>\n",
       "      <td>10/9/2023</td>\n",
       "      <td>Elon Musk Deletes Several Tweets After Promoti...</td>\n",
       "      <td>Elon Musk deleted several posts on his platfor...</td>\n",
       "      <td>Billionaire and X owner Elon Musk deleted seve...</td>\n",
       "      <td>negative</td>\n",
       "      <td>no</td>\n",
       "    </tr>\n",
       "    <tr>\n",
       "      <th>204</th>\n",
       "      <td>Business Insider</td>\n",
       "      <td>Alexa St. John</td>\n",
       "      <td>10/11/2023</td>\n",
       "      <td>Rivian CEO says he wouldn't buy the Cybertruck...</td>\n",
       "      <td>Rivian CEO RJ Scaringe spoke with GQ magazine ...</td>\n",
       "      <td>Carlos Delgado/Associated Press\\n&lt;ul&gt;&lt;li&gt;Rivia...</td>\n",
       "      <td>neutral</td>\n",
       "      <td>yes</td>\n",
       "    </tr>\n",
       "    <tr>\n",
       "      <th>205</th>\n",
       "      <td>Fortune</td>\n",
       "      <td>Prarthana Prakash</td>\n",
       "      <td>10/11/2023</td>\n",
       "      <td>Bernard Arnault, the world's second richest ma...</td>\n",
       "      <td>LVMH boss Bernard Arnault's wealth topped $200...</td>\n",
       "      <td>Big gains in luxury spending helped LVMH boss ...</td>\n",
       "      <td>neutral</td>\n",
       "      <td>no</td>\n",
       "    </tr>\n",
       "    <tr>\n",
       "      <th>206</th>\n",
       "      <td>Reuters</td>\n",
       "      <td>Giulio Piovaccari</td>\n",
       "      <td>10/11/2023</td>\n",
       "      <td>Ford, Hyundai turn to Italian casting machine ...</td>\n",
       "      <td>Idra, an Italian aluminium casting machine mak...</td>\n",
       "      <td>TRAVAGLIATO, Italy, Oct 11 (Reuters) - Idra, a...</td>\n",
       "      <td>neutral</td>\n",
       "      <td>yes</td>\n",
       "    </tr>\n",
       "  </tbody>\n",
       "</table>\n",
       "</div>"
      ],
      "text/plain": [
       "          source_name                author        date  \\\n",
       "202         TechRadar         Leon Poultney   10/9/2023   \n",
       "203    Breitbart News  Paul Bois, Paul Bois   10/9/2023   \n",
       "204  Business Insider        Alexa St. John  10/11/2023   \n",
       "205           Fortune     Prarthana Prakash  10/11/2023   \n",
       "206           Reuters     Giulio Piovaccari  10/11/2023   \n",
       "\n",
       "                                                 title  \\\n",
       "202  Tesla software update can help its car cameras...   \n",
       "203  Elon Musk Deletes Several Tweets After Promoti...   \n",
       "204  Rivian CEO says he wouldn't buy the Cybertruck...   \n",
       "205  Bernard Arnault, the world's second richest ma...   \n",
       "206  Ford, Hyundai turn to Italian casting machine ...   \n",
       "\n",
       "                                           description  \\\n",
       "202  Tesla software update 2023.32 brings with it g...   \n",
       "203  Elon Musk deleted several posts on his platfor...   \n",
       "204  Rivian CEO RJ Scaringe spoke with GQ magazine ...   \n",
       "205  LVMH boss Bernard Arnault's wealth topped $200...   \n",
       "206  Idra, an Italian aluminium casting machine mak...   \n",
       "\n",
       "                                               content     label tesla_related  \n",
       "202  Reversing into a trashcan, squashing your neig...  positive           yes  \n",
       "203  Billionaire and X owner Elon Musk deleted seve...  negative            no  \n",
       "204  Carlos Delgado/Associated Press\\n<ul><li>Rivia...   neutral           yes  \n",
       "205  Big gains in luxury spending helped LVMH boss ...   neutral            no  \n",
       "206  TRAVAGLIATO, Italy, Oct 11 (Reuters) - Idra, a...   neutral           yes  "
      ]
     },
     "execution_count": 153,
     "metadata": {},
     "output_type": "execute_result"
    }
   ],
   "source": [
    "df_model.tail()"
   ]
  },
  {
   "cell_type": "code",
   "execution_count": 154,
   "id": "10d964a0-58fc-4d7b-8ddb-9e7fead00444",
   "metadata": {},
   "outputs": [
    {
     "name": "stdout",
     "output_type": "stream",
     "text": [
      "<class 'pandas.core.frame.DataFrame'>\n",
      "Int64Index: 207 entries, 0 to 206\n",
      "Data columns (total 8 columns):\n",
      " #   Column         Non-Null Count  Dtype \n",
      "---  ------         --------------  ----- \n",
      " 0   source_name    207 non-null    object\n",
      " 1   author         207 non-null    object\n",
      " 2   date           207 non-null    object\n",
      " 3   title          207 non-null    object\n",
      " 4   description    207 non-null    object\n",
      " 5   content        207 non-null    object\n",
      " 6   label          207 non-null    object\n",
      " 7   tesla_related  207 non-null    object\n",
      "dtypes: object(8)\n",
      "memory usage: 14.6+ KB\n"
     ]
    }
   ],
   "source": [
    "# check for missing values and data types\n",
    "df_model.info()"
   ]
  },
  {
   "cell_type": "code",
   "execution_count": 155,
   "id": "05f2b5b6-a501-4a74-af28-0dd317ddae56",
   "metadata": {},
   "outputs": [
    {
     "data": {
      "text/plain": [
       "yes    116\n",
       "no      91\n",
       "Name: tesla_related, dtype: int64"
      ]
     },
     "execution_count": 155,
     "metadata": {},
     "output_type": "execute_result"
    }
   ],
   "source": [
    "# label and tesla_related were generated manually\n",
    "# first check if there were any manual errors\n",
    "df_model.tesla_related.value_counts()"
   ]
  },
  {
   "cell_type": "markdown",
   "id": "c3d95660-d3af-432c-853e-ad5395a54704",
   "metadata": {
    "tags": []
   },
   "source": [
    "<span style = \"color:green\">**Note:** Though the number of samples are limited but we have balanced classes for this binary classification.</span>"
   ]
  },
  {
   "cell_type": "code",
   "execution_count": 156,
   "id": "d4f6f3d4-2293-482a-92dd-70ec5f091c5c",
   "metadata": {},
   "outputs": [
    {
     "data": {
      "text/plain": [
       "neutral     84\n",
       "negative    63\n",
       "positive    59\n",
       "neagtive     1\n",
       "Name: label, dtype: int64"
      ]
     },
     "execution_count": 156,
     "metadata": {},
     "output_type": "execute_result"
    }
   ],
   "source": [
    "df_model.label.value_counts()"
   ]
  },
  {
   "cell_type": "code",
   "execution_count": 157,
   "id": "82ca9fcb-2769-45c4-af81-f861f39ab581",
   "metadata": {},
   "outputs": [],
   "source": [
    "# correct the mannual errors in sentiment analysis labels\n",
    "df_model['label'] = df_model['label'].replace('neagtive', 'negative')"
   ]
  },
  {
   "cell_type": "code",
   "execution_count": 158,
   "id": "35ad7ce5-941d-471b-a532-87b40a203ba6",
   "metadata": {},
   "outputs": [
    {
     "data": {
      "text/plain": [
       "neutral     84\n",
       "negative    64\n",
       "positive    59\n",
       "Name: label, dtype: int64"
      ]
     },
     "execution_count": 158,
     "metadata": {},
     "output_type": "execute_result"
    }
   ],
   "source": [
    "df_model.label.value_counts()"
   ]
  },
  {
   "cell_type": "markdown",
   "id": "80d3a1ca-53cf-40eb-a381-b5f9e361cb6d",
   "metadata": {},
   "source": [
    "<span style = \"color:green\">**Note:** Sentiment labels are also overall balanced, especially between positive and negative.</span>"
   ]
  },
  {
   "cell_type": "markdown",
   "id": "778d6456-1b72-4b3c-8278-fd4d64908459",
   "metadata": {},
   "source": [
    "### Convert text labels to numeric:\n",
    "* `Related to Tesla` : 1, `Not related to Tesla` : 0\n",
    "* `positive` : 2, `neutral` : 1, `negative` : 0"
   ]
  },
  {
   "cell_type": "code",
   "execution_count": 2,
   "id": "cf424cf8-ac90-4f0d-a411-eea1f9460331",
   "metadata": {},
   "outputs": [],
   "source": [
    "# next change the labels to numbers\n",
    "def binary_convert(x):\n",
    "    if x == 'yes':\n",
    "        return 1\n",
    "    else:\n",
    "        return 0"
   ]
  },
  {
   "cell_type": "code",
   "execution_count": 3,
   "id": "41fe2ab5-67c0-42cf-9b76-70a5e4043aea",
   "metadata": {},
   "outputs": [],
   "source": [
    "def sentiment_convert(x):\n",
    "    if x == 'positive':\n",
    "        return 2\n",
    "    elif x == 'negative':\n",
    "        return 0\n",
    "    else:\n",
    "        return 1"
   ]
  },
  {
   "cell_type": "code",
   "execution_count": 161,
   "id": "9f43c7d3-9932-450f-8d64-07bee0c784e0",
   "metadata": {},
   "outputs": [
    {
     "data": {
      "text/html": [
       "<div>\n",
       "<style scoped>\n",
       "    .dataframe tbody tr th:only-of-type {\n",
       "        vertical-align: middle;\n",
       "    }\n",
       "\n",
       "    .dataframe tbody tr th {\n",
       "        vertical-align: top;\n",
       "    }\n",
       "\n",
       "    .dataframe thead th {\n",
       "        text-align: right;\n",
       "    }\n",
       "</style>\n",
       "<table border=\"1\" class=\"dataframe\">\n",
       "  <thead>\n",
       "    <tr style=\"text-align: right;\">\n",
       "      <th></th>\n",
       "      <th>source_name</th>\n",
       "      <th>author</th>\n",
       "      <th>date</th>\n",
       "      <th>title</th>\n",
       "      <th>description</th>\n",
       "      <th>content</th>\n",
       "      <th>label</th>\n",
       "      <th>tesla_related</th>\n",
       "      <th>tesla_related_num</th>\n",
       "    </tr>\n",
       "  </thead>\n",
       "  <tbody>\n",
       "    <tr>\n",
       "      <th>0</th>\n",
       "      <td>Fortune</td>\n",
       "      <td>Jane Thier</td>\n",
       "      <td>9/12/2023</td>\n",
       "      <td>How Elon Musk lost a friend over AI: Google co...</td>\n",
       "      <td>After Musk tried to sabotage Googles acquisit...</td>\n",
       "      <td>Teslas Elon Musk and Googles Larry Page dont t...</td>\n",
       "      <td>neutral</td>\n",
       "      <td>yes</td>\n",
       "      <td>1</td>\n",
       "    </tr>\n",
       "    <tr>\n",
       "      <th>1</th>\n",
       "      <td>Next Big Future</td>\n",
       "      <td>Brian Wang</td>\n",
       "      <td>9/12/2023</td>\n",
       "      <td>Bill Gates Tries to Profit by Driving Down Tes...</td>\n",
       "      <td>Bill Gates bet billions against Tesla in a met...</td>\n",
       "      <td>Bill Gates bet billions against Tesla in a met...</td>\n",
       "      <td>negative</td>\n",
       "      <td>yes</td>\n",
       "      <td>1</td>\n",
       "    </tr>\n",
       "    <tr>\n",
       "      <th>2</th>\n",
       "      <td>The Jerusalem Post</td>\n",
       "      <td>By REUTERS</td>\n",
       "      <td>9/12/2023</td>\n",
       "      <td>Putin hails Elon Musk as an 'outstanding perso...</td>\n",
       "      <td>The Russian leader said Moscow planned to pers...</td>\n",
       "      <td>Russian President Vladimir Putin on Tuesday ha...</td>\n",
       "      <td>neutral</td>\n",
       "      <td>no</td>\n",
       "      <td>0</td>\n",
       "    </tr>\n",
       "    <tr>\n",
       "      <th>3</th>\n",
       "      <td>Fortune</td>\n",
       "      <td>Rachyl Jones</td>\n",
       "      <td>9/12/2023</td>\n",
       "      <td>What do donkeys, dragons and Hawaii have in co...</td>\n",
       "      <td>Musks purchase of Twitter fed his constant ne...</td>\n",
       "      <td>Elon Musk lives for the drama. Thats evident i...</td>\n",
       "      <td>neutral</td>\n",
       "      <td>no</td>\n",
       "      <td>0</td>\n",
       "    </tr>\n",
       "    <tr>\n",
       "      <th>4</th>\n",
       "      <td>Fortune</td>\n",
       "      <td>Christiaan Hetzner</td>\n",
       "      <td>9/12/2023</td>\n",
       "      <td>Elon Musks supercomputer Dojo added $70 billi...</td>\n",
       "      <td>Elon Musk's Tesla share price has jumped the e...</td>\n",
       "      <td>Teslas gonzo market cap is so enormous that it...</td>\n",
       "      <td>positive</td>\n",
       "      <td>yes</td>\n",
       "      <td>1</td>\n",
       "    </tr>\n",
       "  </tbody>\n",
       "</table>\n",
       "</div>"
      ],
      "text/plain": [
       "          source_name              author       date  \\\n",
       "0             Fortune          Jane Thier  9/12/2023   \n",
       "1     Next Big Future          Brian Wang  9/12/2023   \n",
       "2  The Jerusalem Post          By REUTERS  9/12/2023   \n",
       "3             Fortune        Rachyl Jones  9/12/2023   \n",
       "4             Fortune  Christiaan Hetzner  9/12/2023   \n",
       "\n",
       "                                               title  \\\n",
       "0  How Elon Musk lost a friend over AI: Google co...   \n",
       "1  Bill Gates Tries to Profit by Driving Down Tes...   \n",
       "2  Putin hails Elon Musk as an 'outstanding perso...   \n",
       "3  What do donkeys, dragons and Hawaii have in co...   \n",
       "4  Elon Musks supercomputer Dojo added $70 billi...   \n",
       "\n",
       "                                         description  \\\n",
       "0  After Musk tried to sabotage Googles acquisit...   \n",
       "1  Bill Gates bet billions against Tesla in a met...   \n",
       "2  The Russian leader said Moscow planned to pers...   \n",
       "3  Musks purchase of Twitter fed his constant ne...   \n",
       "4  Elon Musk's Tesla share price has jumped the e...   \n",
       "\n",
       "                                             content     label tesla_related  \\\n",
       "0  Teslas Elon Musk and Googles Larry Page dont t...   neutral           yes   \n",
       "1  Bill Gates bet billions against Tesla in a met...  negative           yes   \n",
       "2  Russian President Vladimir Putin on Tuesday ha...   neutral            no   \n",
       "3  Elon Musk lives for the drama. Thats evident i...   neutral            no   \n",
       "4  Teslas gonzo market cap is so enormous that it...  positive           yes   \n",
       "\n",
       "   tesla_related_num  \n",
       "0                  1  \n",
       "1                  1  \n",
       "2                  0  \n",
       "3                  0  \n",
       "4                  1  "
      ]
     },
     "execution_count": 161,
     "metadata": {},
     "output_type": "execute_result"
    }
   ],
   "source": [
    "df_model['tesla_related_num'] = df_model['tesla_related'].apply(binary_convert)\n",
    "df_model.head()"
   ]
  },
  {
   "cell_type": "code",
   "execution_count": 162,
   "id": "3df1fce1-ccf7-49dc-a14f-5e14ed5b7a04",
   "metadata": {},
   "outputs": [
    {
     "data": {
      "text/html": [
       "<div>\n",
       "<style scoped>\n",
       "    .dataframe tbody tr th:only-of-type {\n",
       "        vertical-align: middle;\n",
       "    }\n",
       "\n",
       "    .dataframe tbody tr th {\n",
       "        vertical-align: top;\n",
       "    }\n",
       "\n",
       "    .dataframe thead th {\n",
       "        text-align: right;\n",
       "    }\n",
       "</style>\n",
       "<table border=\"1\" class=\"dataframe\">\n",
       "  <thead>\n",
       "    <tr style=\"text-align: right;\">\n",
       "      <th></th>\n",
       "      <th>source_name</th>\n",
       "      <th>author</th>\n",
       "      <th>date</th>\n",
       "      <th>title</th>\n",
       "      <th>description</th>\n",
       "      <th>content</th>\n",
       "      <th>label</th>\n",
       "      <th>tesla_related</th>\n",
       "      <th>tesla_related_num</th>\n",
       "      <th>sentiment_label_num</th>\n",
       "    </tr>\n",
       "  </thead>\n",
       "  <tbody>\n",
       "    <tr>\n",
       "      <th>0</th>\n",
       "      <td>Fortune</td>\n",
       "      <td>Jane Thier</td>\n",
       "      <td>9/12/2023</td>\n",
       "      <td>How Elon Musk lost a friend over AI: Google co...</td>\n",
       "      <td>After Musk tried to sabotage Googles acquisit...</td>\n",
       "      <td>Teslas Elon Musk and Googles Larry Page dont t...</td>\n",
       "      <td>neutral</td>\n",
       "      <td>yes</td>\n",
       "      <td>1</td>\n",
       "      <td>1</td>\n",
       "    </tr>\n",
       "    <tr>\n",
       "      <th>1</th>\n",
       "      <td>Next Big Future</td>\n",
       "      <td>Brian Wang</td>\n",
       "      <td>9/12/2023</td>\n",
       "      <td>Bill Gates Tries to Profit by Driving Down Tes...</td>\n",
       "      <td>Bill Gates bet billions against Tesla in a met...</td>\n",
       "      <td>Bill Gates bet billions against Tesla in a met...</td>\n",
       "      <td>negative</td>\n",
       "      <td>yes</td>\n",
       "      <td>1</td>\n",
       "      <td>0</td>\n",
       "    </tr>\n",
       "    <tr>\n",
       "      <th>2</th>\n",
       "      <td>The Jerusalem Post</td>\n",
       "      <td>By REUTERS</td>\n",
       "      <td>9/12/2023</td>\n",
       "      <td>Putin hails Elon Musk as an 'outstanding perso...</td>\n",
       "      <td>The Russian leader said Moscow planned to pers...</td>\n",
       "      <td>Russian President Vladimir Putin on Tuesday ha...</td>\n",
       "      <td>neutral</td>\n",
       "      <td>no</td>\n",
       "      <td>0</td>\n",
       "      <td>1</td>\n",
       "    </tr>\n",
       "    <tr>\n",
       "      <th>3</th>\n",
       "      <td>Fortune</td>\n",
       "      <td>Rachyl Jones</td>\n",
       "      <td>9/12/2023</td>\n",
       "      <td>What do donkeys, dragons and Hawaii have in co...</td>\n",
       "      <td>Musks purchase of Twitter fed his constant ne...</td>\n",
       "      <td>Elon Musk lives for the drama. Thats evident i...</td>\n",
       "      <td>neutral</td>\n",
       "      <td>no</td>\n",
       "      <td>0</td>\n",
       "      <td>1</td>\n",
       "    </tr>\n",
       "    <tr>\n",
       "      <th>4</th>\n",
       "      <td>Fortune</td>\n",
       "      <td>Christiaan Hetzner</td>\n",
       "      <td>9/12/2023</td>\n",
       "      <td>Elon Musks supercomputer Dojo added $70 billi...</td>\n",
       "      <td>Elon Musk's Tesla share price has jumped the e...</td>\n",
       "      <td>Teslas gonzo market cap is so enormous that it...</td>\n",
       "      <td>positive</td>\n",
       "      <td>yes</td>\n",
       "      <td>1</td>\n",
       "      <td>2</td>\n",
       "    </tr>\n",
       "  </tbody>\n",
       "</table>\n",
       "</div>"
      ],
      "text/plain": [
       "          source_name              author       date  \\\n",
       "0             Fortune          Jane Thier  9/12/2023   \n",
       "1     Next Big Future          Brian Wang  9/12/2023   \n",
       "2  The Jerusalem Post          By REUTERS  9/12/2023   \n",
       "3             Fortune        Rachyl Jones  9/12/2023   \n",
       "4             Fortune  Christiaan Hetzner  9/12/2023   \n",
       "\n",
       "                                               title  \\\n",
       "0  How Elon Musk lost a friend over AI: Google co...   \n",
       "1  Bill Gates Tries to Profit by Driving Down Tes...   \n",
       "2  Putin hails Elon Musk as an 'outstanding perso...   \n",
       "3  What do donkeys, dragons and Hawaii have in co...   \n",
       "4  Elon Musks supercomputer Dojo added $70 billi...   \n",
       "\n",
       "                                         description  \\\n",
       "0  After Musk tried to sabotage Googles acquisit...   \n",
       "1  Bill Gates bet billions against Tesla in a met...   \n",
       "2  The Russian leader said Moscow planned to pers...   \n",
       "3  Musks purchase of Twitter fed his constant ne...   \n",
       "4  Elon Musk's Tesla share price has jumped the e...   \n",
       "\n",
       "                                             content     label tesla_related  \\\n",
       "0  Teslas Elon Musk and Googles Larry Page dont t...   neutral           yes   \n",
       "1  Bill Gates bet billions against Tesla in a met...  negative           yes   \n",
       "2  Russian President Vladimir Putin on Tuesday ha...   neutral            no   \n",
       "3  Elon Musk lives for the drama. Thats evident i...   neutral            no   \n",
       "4  Teslas gonzo market cap is so enormous that it...  positive           yes   \n",
       "\n",
       "   tesla_related_num  sentiment_label_num  \n",
       "0                  1                    1  \n",
       "1                  1                    0  \n",
       "2                  0                    1  \n",
       "3                  0                    1  \n",
       "4                  1                    2  "
      ]
     },
     "execution_count": 162,
     "metadata": {},
     "output_type": "execute_result"
    }
   ],
   "source": [
    "df_model['sentiment_label_num'] = df_model['label'].apply(sentiment_convert)\n",
    "df_model.head()"
   ]
  },
  {
   "cell_type": "code",
   "execution_count": 163,
   "id": "c8252f33-948c-46c5-b2c9-e873fd46bc0c",
   "metadata": {},
   "outputs": [
    {
     "data": {
      "text/html": [
       "<div>\n",
       "<style scoped>\n",
       "    .dataframe tbody tr th:only-of-type {\n",
       "        vertical-align: middle;\n",
       "    }\n",
       "\n",
       "    .dataframe tbody tr th {\n",
       "        vertical-align: top;\n",
       "    }\n",
       "\n",
       "    .dataframe thead th {\n",
       "        text-align: right;\n",
       "    }\n",
       "</style>\n",
       "<table border=\"1\" class=\"dataframe\">\n",
       "  <thead>\n",
       "    <tr style=\"text-align: right;\">\n",
       "      <th></th>\n",
       "      <th>source_name</th>\n",
       "      <th>author</th>\n",
       "      <th>date</th>\n",
       "      <th>title</th>\n",
       "      <th>description</th>\n",
       "      <th>content</th>\n",
       "      <th>label</th>\n",
       "      <th>tesla_related</th>\n",
       "      <th>tesla_related_num</th>\n",
       "      <th>sentiment_label_num</th>\n",
       "      <th>title_desc</th>\n",
       "    </tr>\n",
       "  </thead>\n",
       "  <tbody>\n",
       "    <tr>\n",
       "      <th>0</th>\n",
       "      <td>Fortune</td>\n",
       "      <td>Jane Thier</td>\n",
       "      <td>9/12/2023</td>\n",
       "      <td>How Elon Musk lost a friend over AI: Google co...</td>\n",
       "      <td>After Musk tried to sabotage Googles acquisit...</td>\n",
       "      <td>Teslas Elon Musk and Googles Larry Page dont t...</td>\n",
       "      <td>neutral</td>\n",
       "      <td>yes</td>\n",
       "      <td>1</td>\n",
       "      <td>1</td>\n",
       "      <td>How Elon Musk lost a friend over AI: Google co...</td>\n",
       "    </tr>\n",
       "    <tr>\n",
       "      <th>1</th>\n",
       "      <td>Next Big Future</td>\n",
       "      <td>Brian Wang</td>\n",
       "      <td>9/12/2023</td>\n",
       "      <td>Bill Gates Tries to Profit by Driving Down Tes...</td>\n",
       "      <td>Bill Gates bet billions against Tesla in a met...</td>\n",
       "      <td>Bill Gates bet billions against Tesla in a met...</td>\n",
       "      <td>negative</td>\n",
       "      <td>yes</td>\n",
       "      <td>1</td>\n",
       "      <td>0</td>\n",
       "      <td>Bill Gates Tries to Profit by Driving Down Tes...</td>\n",
       "    </tr>\n",
       "    <tr>\n",
       "      <th>2</th>\n",
       "      <td>The Jerusalem Post</td>\n",
       "      <td>By REUTERS</td>\n",
       "      <td>9/12/2023</td>\n",
       "      <td>Putin hails Elon Musk as an 'outstanding perso...</td>\n",
       "      <td>The Russian leader said Moscow planned to pers...</td>\n",
       "      <td>Russian President Vladimir Putin on Tuesday ha...</td>\n",
       "      <td>neutral</td>\n",
       "      <td>no</td>\n",
       "      <td>0</td>\n",
       "      <td>1</td>\n",
       "      <td>Putin hails Elon Musk as an 'outstanding perso...</td>\n",
       "    </tr>\n",
       "    <tr>\n",
       "      <th>3</th>\n",
       "      <td>Fortune</td>\n",
       "      <td>Rachyl Jones</td>\n",
       "      <td>9/12/2023</td>\n",
       "      <td>What do donkeys, dragons and Hawaii have in co...</td>\n",
       "      <td>Musks purchase of Twitter fed his constant ne...</td>\n",
       "      <td>Elon Musk lives for the drama. Thats evident i...</td>\n",
       "      <td>neutral</td>\n",
       "      <td>no</td>\n",
       "      <td>0</td>\n",
       "      <td>1</td>\n",
       "      <td>What do donkeys, dragons and Hawaii have in co...</td>\n",
       "    </tr>\n",
       "    <tr>\n",
       "      <th>4</th>\n",
       "      <td>Fortune</td>\n",
       "      <td>Christiaan Hetzner</td>\n",
       "      <td>9/12/2023</td>\n",
       "      <td>Elon Musks supercomputer Dojo added $70 billi...</td>\n",
       "      <td>Elon Musk's Tesla share price has jumped the e...</td>\n",
       "      <td>Teslas gonzo market cap is so enormous that it...</td>\n",
       "      <td>positive</td>\n",
       "      <td>yes</td>\n",
       "      <td>1</td>\n",
       "      <td>2</td>\n",
       "      <td>Elon Musks supercomputer Dojo added $70 billi...</td>\n",
       "    </tr>\n",
       "  </tbody>\n",
       "</table>\n",
       "</div>"
      ],
      "text/plain": [
       "          source_name              author       date  \\\n",
       "0             Fortune          Jane Thier  9/12/2023   \n",
       "1     Next Big Future          Brian Wang  9/12/2023   \n",
       "2  The Jerusalem Post          By REUTERS  9/12/2023   \n",
       "3             Fortune        Rachyl Jones  9/12/2023   \n",
       "4             Fortune  Christiaan Hetzner  9/12/2023   \n",
       "\n",
       "                                               title  \\\n",
       "0  How Elon Musk lost a friend over AI: Google co...   \n",
       "1  Bill Gates Tries to Profit by Driving Down Tes...   \n",
       "2  Putin hails Elon Musk as an 'outstanding perso...   \n",
       "3  What do donkeys, dragons and Hawaii have in co...   \n",
       "4  Elon Musks supercomputer Dojo added $70 billi...   \n",
       "\n",
       "                                         description  \\\n",
       "0  After Musk tried to sabotage Googles acquisit...   \n",
       "1  Bill Gates bet billions against Tesla in a met...   \n",
       "2  The Russian leader said Moscow planned to pers...   \n",
       "3  Musks purchase of Twitter fed his constant ne...   \n",
       "4  Elon Musk's Tesla share price has jumped the e...   \n",
       "\n",
       "                                             content     label tesla_related  \\\n",
       "0  Teslas Elon Musk and Googles Larry Page dont t...   neutral           yes   \n",
       "1  Bill Gates bet billions against Tesla in a met...  negative           yes   \n",
       "2  Russian President Vladimir Putin on Tuesday ha...   neutral            no   \n",
       "3  Elon Musk lives for the drama. Thats evident i...   neutral            no   \n",
       "4  Teslas gonzo market cap is so enormous that it...  positive           yes   \n",
       "\n",
       "   tesla_related_num  sentiment_label_num  \\\n",
       "0                  1                    1   \n",
       "1                  1                    0   \n",
       "2                  0                    1   \n",
       "3                  0                    1   \n",
       "4                  1                    2   \n",
       "\n",
       "                                          title_desc  \n",
       "0  How Elon Musk lost a friend over AI: Google co...  \n",
       "1  Bill Gates Tries to Profit by Driving Down Tes...  \n",
       "2  Putin hails Elon Musk as an 'outstanding perso...  \n",
       "3  What do donkeys, dragons and Hawaii have in co...  \n",
       "4  Elon Musks supercomputer Dojo added $70 billi...  "
      ]
     },
     "execution_count": 163,
     "metadata": {},
     "output_type": "execute_result"
    }
   ],
   "source": [
    "# the manual labeling is mainly based on title and description\n",
    "# create title + description for the classification task\n",
    "df_model['title_desc'] = df_model['title'].map(str) + ' ' + df_model['description'].map(str)\n",
    "df_model.head()"
   ]
  },
  {
   "cell_type": "code",
   "execution_count": 164,
   "id": "d264d738-56c0-490b-a052-83107269246b",
   "metadata": {},
   "outputs": [
    {
     "name": "stdout",
     "output_type": "stream",
     "text": [
      "<class 'pandas.core.frame.DataFrame'>\n",
      "Int64Index: 207 entries, 0 to 206\n",
      "Data columns (total 11 columns):\n",
      " #   Column               Non-Null Count  Dtype \n",
      "---  ------               --------------  ----- \n",
      " 0   source_name          207 non-null    object\n",
      " 1   author               207 non-null    object\n",
      " 2   date                 207 non-null    object\n",
      " 3   title                207 non-null    object\n",
      " 4   description          207 non-null    object\n",
      " 5   content              207 non-null    object\n",
      " 6   label                207 non-null    object\n",
      " 7   tesla_related        207 non-null    object\n",
      " 8   tesla_related_num    207 non-null    int64 \n",
      " 9   sentiment_label_num  207 non-null    int64 \n",
      " 10  title_desc           207 non-null    object\n",
      "dtypes: int64(2), object(9)\n",
      "memory usage: 19.4+ KB\n"
     ]
    }
   ],
   "source": [
    "df_model.info()"
   ]
  },
  {
   "cell_type": "code",
   "execution_count": 15,
   "id": "a9f29f59-d165-43cf-8a8b-19f8af7e9433",
   "metadata": {
    "tags": []
   },
   "outputs": [
    {
     "data": {
      "image/png": "[encoded data removed]",
      "text/plain": [
       "<Figure size 900x600 with 1 Axes>"
      ]
     },
     "metadata": {},
     "output_type": "display_data"
    }
   ],
   "source": [
    "# plot the counts for each label\n",
    "plt.figure(figsize= (9, 6))\n",
    "\n",
    "ax = sns.countplot(data = df_model, y = 'label')\n",
    "\n",
    "for patch in ax.patches:\n",
    "    width = patch.get_width()\n",
    "    ax.text(width+1,\n",
    "            patch.get_y() + patch.get_height() / 2,\n",
    "            format(width, '1.0f'),\n",
    "            va = 'center')\n",
    "plt.title('Sentiment Distribution in Training Data', fontsize = 14, pad = 10)    \n",
    "plt.ylabel('News Sentiments', fontsize = 14)\n",
    "plt.xlabel('Counts', fontsize = 14)\n",
    "plt.show()"
   ]
  },
  {
   "cell_type": "code",
   "execution_count": 16,
   "id": "a972736f-e742-4b7c-a620-abb463166258",
   "metadata": {
    "tags": []
   },
   "outputs": [
    {
     "data": {
      "image/png": "[encoded data removed]",
      "text/plain": [
       "<Figure size 900x400 with 1 Axes>"
      ]
     },
     "metadata": {},
     "output_type": "display_data"
    }
   ],
   "source": [
    "# plot the counts for each label\n",
    "plt.figure(figsize = (9, 4))\n",
    "\n",
    "ax = sns.countplot(data = df_model, y = 'tesla_related')\n",
    "\n",
    "for patch in ax.patches:\n",
    "    width = patch.get_width()\n",
    "    ax.text(width + 1,\n",
    "            patch.get_y() + patch.get_height() / 2,\n",
    "            format(width, '1.0f'),\n",
    "            va = 'center')\n",
    "\n",
    "plt.title('Tesla News and None-Tesla News Counts in Training Data', pad = 10)    \n",
    "plt.yticks([0, 1], ['None-Tesla', 'Tesla'])\n",
    "plt.ylabel(None)\n",
    "plt.xlabel('Number of News')\n",
    "plt.show()"
   ]
  },
  {
   "cell_type": "markdown",
   "id": "da893341-68c6-4a0d-87f9-02e84c5281d2",
   "metadata": {
    "tags": []
   },
   "source": [
    "### Train / Validation Split\n",
    "\n",
    "This step is **NOT** necessary for ICL. "
   ]
  },
  {
   "cell_type": "code",
   "execution_count": 52,
   "id": "a149dd4b-4d5b-4141-adb4-0299c211a20d",
   "metadata": {
    "tags": []
   },
   "outputs": [
    {
     "data": {
      "text/plain": [
       "((165, 3), (42, 3))"
      ]
     },
     "execution_count": 52,
     "metadata": {},
     "output_type": "execute_result"
    }
   ],
   "source": [
    "# randomize the data before splitting\n",
    "df_train = df_model[['title_desc', 'tesla_related_num', 'sentiment_label_num']].sample(n = int(df_model.shape[0]*0.8), random_state = 21)\n",
    "df_val = df_model[['title_desc', 'tesla_related_num', 'sentiment_label_num']].drop(df_train.index)\n",
    "df_train.shape, df_val.shape"
   ]
  },
  {
   "cell_type": "code",
   "execution_count": 54,
   "id": "ce5da2c7-113b-40c1-b65a-03aef28dd5ef",
   "metadata": {
    "tags": []
   },
   "outputs": [
    {
     "data": {
      "text/plain": [
       "1    67\n",
       "0    53\n",
       "2    45\n",
       "Name: sentiment_label_num, dtype: int64"
      ]
     },
     "execution_count": 54,
     "metadata": {},
     "output_type": "execute_result"
    }
   ],
   "source": [
    "df_train.sentiment_label_num.value_counts()"
   ]
  },
  {
   "cell_type": "code",
   "execution_count": 55,
   "id": "970e8256-af5c-40b5-9de4-51524cb20c30",
   "metadata": {
    "tags": []
   },
   "outputs": [
    {
     "data": {
      "text/plain": [
       "1    17\n",
       "2    14\n",
       "0    11\n",
       "Name: sentiment_label_num, dtype: int64"
      ]
     },
     "execution_count": 55,
     "metadata": {},
     "output_type": "execute_result"
    }
   ],
   "source": [
    "df_val.sentiment_label_num.value_counts()"
   ]
  },
  {
   "cell_type": "code",
   "execution_count": 56,
   "id": "369a7953-39b5-4c77-9581-b5e75c191977",
   "metadata": {
    "tags": []
   },
   "outputs": [
    {
     "data": {
      "text/plain": [
       "1    96\n",
       "0    69\n",
       "Name: tesla_related_num, dtype: int64"
      ]
     },
     "execution_count": 56,
     "metadata": {},
     "output_type": "execute_result"
    }
   ],
   "source": [
    "df_train.tesla_related_num.value_counts()"
   ]
  },
  {
   "cell_type": "code",
   "execution_count": 57,
   "id": "6d2d4692-ec2a-4cef-a36e-7df473ce95bb",
   "metadata": {
    "tags": []
   },
   "outputs": [
    {
     "data": {
      "text/plain": [
       "0    22\n",
       "1    20\n",
       "Name: tesla_related_num, dtype: int64"
      ]
     },
     "execution_count": 57,
     "metadata": {},
     "output_type": "execute_result"
    }
   ],
   "source": [
    "df_val.tesla_related_num.value_counts()"
   ]
  },
  {
   "cell_type": "code",
   "execution_count": 97,
   "id": "797ac42b-7a60-4b16-a066-c89800ce8e20",
   "metadata": {
    "tags": []
   },
   "outputs": [
    {
     "data": {
      "text/html": [
       "<div>\n",
       "<style scoped>\n",
       "    .dataframe tbody tr th:only-of-type {\n",
       "        vertical-align: middle;\n",
       "    }\n",
       "\n",
       "    .dataframe tbody tr th {\n",
       "        vertical-align: top;\n",
       "    }\n",
       "\n",
       "    .dataframe thead th {\n",
       "        text-align: right;\n",
       "    }\n",
       "</style>\n",
       "<table border=\"1\" class=\"dataframe\">\n",
       "  <thead>\n",
       "    <tr style=\"text-align: right;\">\n",
       "      <th></th>\n",
       "      <th>title_desc</th>\n",
       "      <th>tesla_related_num</th>\n",
       "      <th>sentiment_label_num</th>\n",
       "    </tr>\n",
       "  </thead>\n",
       "  <tbody>\n",
       "    <tr>\n",
       "      <th>0</th>\n",
       "      <td>AOC says she's looking to trade in her Tesla f...</td>\n",
       "      <td>1</td>\n",
       "      <td>0</td>\n",
       "    </tr>\n",
       "    <tr>\n",
       "      <th>1</th>\n",
       "      <td>Mercedes-Benz's $100,000 electric SUV is an aw...</td>\n",
       "      <td>1</td>\n",
       "      <td>1</td>\n",
       "    </tr>\n",
       "    <tr>\n",
       "      <th>2</th>\n",
       "      <td>Where is the phone?' Huawei keeps quiet about ...</td>\n",
       "      <td>1</td>\n",
       "      <td>1</td>\n",
       "    </tr>\n",
       "    <tr>\n",
       "      <th>3</th>\n",
       "      <td>Elon Musk sent a graphic mid-childbirth pictur...</td>\n",
       "      <td>0</td>\n",
       "      <td>1</td>\n",
       "    </tr>\n",
       "    <tr>\n",
       "      <th>4</th>\n",
       "      <td>Did Elon Musk Turn Off Starlink for Ukraine? W...</td>\n",
       "      <td>0</td>\n",
       "      <td>1</td>\n",
       "    </tr>\n",
       "  </tbody>\n",
       "</table>\n",
       "</div>"
      ],
      "text/plain": [
       "                                          title_desc  tesla_related_num  \\\n",
       "0  AOC says she's looking to trade in her Tesla f...                  1   \n",
       "1  Mercedes-Benz's $100,000 electric SUV is an aw...                  1   \n",
       "2  Where is the phone?' Huawei keeps quiet about ...                  1   \n",
       "3  Elon Musk sent a graphic mid-childbirth pictur...                  0   \n",
       "4  Did Elon Musk Turn Off Starlink for Ukraine? W...                  0   \n",
       "\n",
       "   sentiment_label_num  \n",
       "0                    0  \n",
       "1                    1  \n",
       "2                    1  \n",
       "3                    1  \n",
       "4                    1  "
      ]
     },
     "execution_count": 97,
     "metadata": {},
     "output_type": "execute_result"
    }
   ],
   "source": [
    "df_train = df_train.reset_index(drop = True)\n",
    "df_train.head()"
   ]
  },
  {
   "cell_type": "code",
   "execution_count": 98,
   "id": "e0d01c59-d62c-4565-a7f4-0ab6a2ed1d64",
   "metadata": {
    "tags": []
   },
   "outputs": [
    {
     "data": {
      "text/html": [
       "<div>\n",
       "<style scoped>\n",
       "    .dataframe tbody tr th:only-of-type {\n",
       "        vertical-align: middle;\n",
       "    }\n",
       "\n",
       "    .dataframe tbody tr th {\n",
       "        vertical-align: top;\n",
       "    }\n",
       "\n",
       "    .dataframe thead th {\n",
       "        text-align: right;\n",
       "    }\n",
       "</style>\n",
       "<table border=\"1\" class=\"dataframe\">\n",
       "  <thead>\n",
       "    <tr style=\"text-align: right;\">\n",
       "      <th></th>\n",
       "      <th>title_desc</th>\n",
       "      <th>tesla_related_num</th>\n",
       "      <th>sentiment_label_num</th>\n",
       "    </tr>\n",
       "  </thead>\n",
       "  <tbody>\n",
       "    <tr>\n",
       "      <th>0</th>\n",
       "      <td>Elon Musks supercomputer Dojo added $70 billi...</td>\n",
       "      <td>1</td>\n",
       "      <td>2</td>\n",
       "    </tr>\n",
       "    <tr>\n",
       "      <th>1</th>\n",
       "      <td>Elon Musk's biographer says Musk has 'multiple...</td>\n",
       "      <td>0</td>\n",
       "      <td>1</td>\n",
       "    </tr>\n",
       "    <tr>\n",
       "      <th>2</th>\n",
       "      <td>Elon Musk biography contains inaccurate tale o...</td>\n",
       "      <td>0</td>\n",
       "      <td>1</td>\n",
       "    </tr>\n",
       "    <tr>\n",
       "      <th>3</th>\n",
       "      <td>During the most concentrated pain in his lif...</td>\n",
       "      <td>1</td>\n",
       "      <td>2</td>\n",
       "    </tr>\n",
       "    <tr>\n",
       "      <th>4</th>\n",
       "      <td>Tesla Semi Shows Real World Payload and Range ...</td>\n",
       "      <td>1</td>\n",
       "      <td>2</td>\n",
       "    </tr>\n",
       "  </tbody>\n",
       "</table>\n",
       "</div>"
      ],
      "text/plain": [
       "                                          title_desc  tesla_related_num  \\\n",
       "0  Elon Musks supercomputer Dojo added $70 billi...                  1   \n",
       "1  Elon Musk's biographer says Musk has 'multiple...                  0   \n",
       "2  Elon Musk biography contains inaccurate tale o...                  0   \n",
       "3  During the most concentrated pain in his lif...                  1   \n",
       "4  Tesla Semi Shows Real World Payload and Range ...                  1   \n",
       "\n",
       "   sentiment_label_num  \n",
       "0                    2  \n",
       "1                    1  \n",
       "2                    1  \n",
       "3                    2  \n",
       "4                    2  "
      ]
     },
     "execution_count": 98,
     "metadata": {},
     "output_type": "execute_result"
    }
   ],
   "source": [
    "df_val = df_val.reset_index(drop = True)\n",
    "df_val.head()"
   ]
  },
  {
   "cell_type": "markdown",
   "id": "9e6eb886-2377-46fa-97ef-2ff97f9db157",
   "metadata": {},
   "source": [
    "## 2.2. In-Context Learning for BERT\n",
    "<span style='color:red'>**ICL is not supposed to work for BERT model since it is a sequence classification model without generative capabilities.**</span>\n",
    "\n",
    "The following test proves the idea above."
   ]
  },
  {
   "cell_type": "code",
   "execution_count": 5,
   "id": "2ee8d2dc-ac94-4d81-ae63-a4242b89a818",
   "metadata": {},
   "outputs": [
    {
     "name": "stderr",
     "output_type": "stream",
     "text": [
      "Some weights of the model checkpoint at bert-base-uncased were not used when initializing BertForSequenceClassification: ['cls.predictions.transform.dense.bias', 'cls.seq_relationship.weight', 'cls.seq_relationship.bias', 'cls.predictions.bias', 'cls.predictions.transform.dense.weight', 'cls.predictions.transform.LayerNorm.bias', 'cls.predictions.transform.LayerNorm.weight', 'cls.predictions.decoder.weight']\n",
      "- This IS expected if you are initializing BertForSequenceClassification from the checkpoint of a model trained on another task or with another architecture (e.g. initializing a BertForSequenceClassification model from a BertForPreTraining model).\n",
      "- This IS NOT expected if you are initializing BertForSequenceClassification from the checkpoint of a model that you expect to be exactly identical (initializing a BertForSequenceClassification model from a BertForSequenceClassification model).\n",
      "Some weights of BertForSequenceClassification were not initialized from the model checkpoint at bert-base-uncased and are newly initialized: ['classifier.bias', 'classifier.weight']\n",
      "You should probably TRAIN this model on a down-stream task to be able to use it for predictions and inference.\n"
     ]
    }
   ],
   "source": [
    "# load tokenizer and model\n",
    "model_name = \"bert-base-uncased\"\n",
    "\n",
    "tokenizer = AutoTokenizer.from_pretrained(model_name)\n",
    "model = AutoModelForSequenceClassification.from_pretrained(model_name)"
   ]
  },
  {
   "cell_type": "code",
   "execution_count": 63,
   "id": "38688eb3-4cca-4c8b-af56-2fa2f5efae06",
   "metadata": {},
   "outputs": [],
   "source": [
    "# create a pipeline\n",
    "classification = pipeline(\"text-classification\", model = model, tokenizer = tokenizer)"
   ]
  },
  {
   "cell_type": "code",
   "execution_count": 66,
   "id": "4416c323-4e0a-4db9-98f4-30778889c361",
   "metadata": {},
   "outputs": [
    {
     "name": "stdout",
     "output_type": "stream",
     "text": [
      "--------------------------------------------------------------------------------------------------------------------------------------------------------------------------------------------------------\n",
      "News 1\n",
      "Model output: [{'label': 'LABEL_0', 'score': 0.7095326781272888}]\n",
      "True label: 1\n",
      "--------------------------------------------------------------------------------------------------------------------------------------------------------------------------------------------------------\n",
      "News 2\n",
      "Model output: [{'label': 'LABEL_0', 'score': 0.7308610081672668}]\n",
      "True label: 1\n",
      "--------------------------------------------------------------------------------------------------------------------------------------------------------------------------------------------------------\n",
      "News 3\n",
      "Model output: [{'label': 'LABEL_0', 'score': 0.6396608948707581}]\n",
      "True label: 1\n",
      "--------------------------------------------------------------------------------------------------------------------------------------------------------------------------------------------------------\n",
      "News 4\n",
      "Model output: [{'label': 'LABEL_0', 'score': 0.6676132082939148}]\n",
      "True label: 0\n",
      "--------------------------------------------------------------------------------------------------------------------------------------------------------------------------------------------------------\n",
      "News 5\n",
      "Model output: [{'label': 'LABEL_0', 'score': 0.7469030618667603}]\n",
      "True label: 0\n"
     ]
    }
   ],
   "source": [
    "# test the model on the first 5 news\n",
    "dash_line = '-'*200\n",
    "for i in range(5):\n",
    "    context = df_train.iloc[i]['title_desc']\n",
    "    true_label = df_train.iloc[i]['tesla_related_num']\n",
    "    \n",
    "    inputs = tokenizer(context, return_tensors = 'pt')\n",
    "    output = classification(context)\n",
    "    \n",
    "    print(dash_line)\n",
    "    print(f'News {i+1}')\n",
    "    print(f'Model output: {output}')\n",
    "    print(f'True label: {true_label}')"
   ]
  },
  {
   "cell_type": "code",
   "execution_count": 70,
   "id": "1b0990c5-376e-41f5-b092-3e488e41a329",
   "metadata": {},
   "outputs": [
    {
     "name": "stdout",
     "output_type": "stream",
     "text": [
      "--------------------------------------------------------------------------------------------------------------------------------------------------------------------------------------------------------\n",
      "News 1\n",
      "Model output: SequenceClassifierOutput(loss=None, logits=tensor([[ 0.8780, -0.0151]], grad_fn=<AddmmBackward0>), hidden_states=None, attentions=None)\n",
      "Model predictions: tensor([[0.7095, 0.2905]], grad_fn=<SoftmaxBackward0>)\n",
      "True label: 1\n",
      "--------------------------------------------------------------------------------------------------------------------------------------------------------------------------------------------------------\n",
      "News 2\n",
      "Model output: SequenceClassifierOutput(loss=None, logits=tensor([[ 0.9012, -0.0978]], grad_fn=<AddmmBackward0>), hidden_states=None, attentions=None)\n",
      "Model predictions: tensor([[0.7309, 0.2691]], grad_fn=<SoftmaxBackward0>)\n",
      "True label: 1\n",
      "--------------------------------------------------------------------------------------------------------------------------------------------------------------------------------------------------------\n",
      "News 3\n",
      "Model output: SequenceClassifierOutput(loss=None, logits=tensor([[ 0.4794, -0.0945]], grad_fn=<AddmmBackward0>), hidden_states=None, attentions=None)\n",
      "Model predictions: tensor([[0.6397, 0.3603]], grad_fn=<SoftmaxBackward0>)\n",
      "True label: 1\n",
      "--------------------------------------------------------------------------------------------------------------------------------------------------------------------------------------------------------\n",
      "News 4\n",
      "Model output: SequenceClassifierOutput(loss=None, logits=tensor([[ 0.5035, -0.1939]], grad_fn=<AddmmBackward0>), hidden_states=None, attentions=None)\n",
      "Model predictions: tensor([[0.6676, 0.3324]], grad_fn=<SoftmaxBackward0>)\n",
      "True label: 0\n",
      "--------------------------------------------------------------------------------------------------------------------------------------------------------------------------------------------------------\n",
      "News 5\n",
      "Model output: SequenceClassifierOutput(loss=None, logits=tensor([[ 0.9096, -0.1726]], grad_fn=<AddmmBackward0>), hidden_states=None, attentions=None)\n",
      "Model predictions: tensor([[0.7469, 0.2531]], grad_fn=<SoftmaxBackward0>)\n",
      "True label: 0\n"
     ]
    }
   ],
   "source": [
    "# test the model on the first 5 news\n",
    "dash_line = '-'*200\n",
    "for i in range(5):\n",
    "    context = df_train.iloc[i]['title_desc']\n",
    "    true_label = df_train.iloc[i]['tesla_related_num']\n",
    "    \n",
    "    inputs = tokenizer(context, return_tensors = 'pt')\n",
    "    output = model(**inputs)\n",
    "    predictions = torch.nn.functional.softmax(output.logits, dim = -1)\n",
    "    \n",
    "    print(dash_line)\n",
    "    print(f'News {i+1}')\n",
    "    print(f'Model output: {output}')\n",
    "    print(f'Model predictions: {predictions}')\n",
    "    print(f'True label: {true_label}')"
   ]
  },
  {
   "cell_type": "markdown",
   "id": "d583226d-7176-4158-8c26-56246d9bcd27",
   "metadata": {},
   "source": [
    "**Note:** \n",
    "* The pipeline directly provides the classification labels and scores after softmax.\n",
    "* Raw BERT model doesn't work well for this classification task. The predictions don't match the true labels for the majority of the test news."
   ]
  },
  {
   "cell_type": "markdown",
   "id": "a69c7254-aca0-4e07-a71f-f05c2d6a957c",
   "metadata": {},
   "source": [
    "### Zero-shot learning for BERT"
   ]
  },
  {
   "cell_type": "code",
   "execution_count": 69,
   "id": "a2652c73-5deb-464c-a9b7-c7a4af836403",
   "metadata": {},
   "outputs": [
    {
     "name": "stdout",
     "output_type": "stream",
     "text": [
      "--------------------------------------------------------------------------------------------------------------------------------------------------------------------------------------------------------\n",
      "News 1\n",
      "Model output: [{'label': 'LABEL_0', 'score': 0.7120248675346375}]\n",
      "True label: 1\n",
      "--------------------------------------------------------------------------------------------------------------------------------------------------------------------------------------------------------\n",
      "News 2\n",
      "Model output: [{'label': 'LABEL_0', 'score': 0.7431051135063171}]\n",
      "True label: 1\n",
      "--------------------------------------------------------------------------------------------------------------------------------------------------------------------------------------------------------\n",
      "News 3\n",
      "Model output: [{'label': 'LABEL_0', 'score': 0.7346608638763428}]\n",
      "True label: 1\n",
      "--------------------------------------------------------------------------------------------------------------------------------------------------------------------------------------------------------\n",
      "News 4\n",
      "Model output: [{'label': 'LABEL_0', 'score': 0.728971540927887}]\n",
      "True label: 0\n",
      "--------------------------------------------------------------------------------------------------------------------------------------------------------------------------------------------------------\n",
      "News 5\n",
      "Model output: [{'label': 'LABEL_0', 'score': 0.731213390827179}]\n",
      "True label: 0\n"
     ]
    }
   ],
   "source": [
    "# test the model on the first 5 news\n",
    "dash_line = '-'*200\n",
    "for i in range(5):\n",
    "    context = df_train.iloc[i]['title_desc']\n",
    "    true_label = df_train.iloc[i]['tesla_related_num']\n",
    "    \n",
    "    prompt = f\"\"\"\n",
    "    Classify if the news is related to Tesla or not.\n",
    "    {context}\n",
    "    Classification output:\n",
    "    \"\"\"\n",
    "    \n",
    "    output = classification(prompt)\n",
    "    \n",
    "    print(dash_line)\n",
    "    print(f'News {i+1}')\n",
    "    print(f'Model output: {output}')\n",
    "    print(f'True label: {true_label}')"
   ]
  },
  {
   "cell_type": "markdown",
   "id": "09333d16-d038-43f5-98ae-fdc270ec22e4",
   "metadata": {},
   "source": [
    "<span style='color:red'>**Zero-shot learning doesn't change the BERT predictions much.**</span>"
   ]
  },
  {
   "cell_type": "markdown",
   "id": "7d139c98-a11b-4543-af12-714081b87412",
   "metadata": {},
   "source": [
    "## 2.3. In-Context Learning for Flan-T5\n",
    "\n",
    "FLAN-T5 is a LLM developed by Google to handle text2text generation tasks, such as translation and summarization.\n",
    "\n",
    "The model size is 248M parameters.\n",
    "\n",
    "<span style='color:green'>**ICL is supposed to work for the Flan-T5 model.**</span>"
   ]
  },
  {
   "cell_type": "markdown",
   "id": "b1ff219d-1b6d-4915-a9f0-47a23bb7360a",
   "metadata": {},
   "source": [
    "### 2.3.1. Load the Tokenizer and Model"
   ]
  },
  {
   "cell_type": "code",
   "execution_count": 21,
   "id": "d25c0fd1-73c2-47fc-986f-e2a0462f54be",
   "metadata": {},
   "outputs": [],
   "source": [
    "model_name = \"google/flan-t5-base\"\n",
    "\n",
    "tokenizer = AutoTokenizer.from_pretrained(model_name)"
   ]
  },
  {
   "cell_type": "code",
   "execution_count": 22,
   "id": "0b184cee-3b24-4281-8e73-268d26658964",
   "metadata": {},
   "outputs": [],
   "source": [
    "model = AutoModelForSeq2SeqLM.from_pretrained(model_name)"
   ]
  },
  {
   "cell_type": "markdown",
   "id": "4f736434-3e19-4484-8c97-23a0b9e5ed91",
   "metadata": {},
   "source": [
    "### 2.3.2. Flan-T5 without ICL"
   ]
  },
  {
   "cell_type": "code",
   "execution_count": 77,
   "id": "8d4f8185-e1eb-4604-bb92-6d2f13960a10",
   "metadata": {},
   "outputs": [
    {
     "name": "stdout",
     "output_type": "stream",
     "text": [
      "--------------------------------------------------------------------------------------------------------------------------------------------------------------------------------------------------------\n",
      "News 1\n",
      "Model output: Elon Musk has reportedly vowed to make a \"safer\" deal\n",
      "True label: 1\n",
      "--------------------------------------------------------------------------------------------------------------------------------------------------------------------------------------------------------\n",
      "News 2\n",
      "Model output: Mercedes-Benz's EQE SUV is an awesome Tesla rival  but its \n",
      "True label: 1\n",
      "--------------------------------------------------------------------------------------------------------------------------------------------------------------------------------------------------------\n",
      "News 3\n",
      "Model output: China's rumored rumours of the Mate 60 Pro smartphone are \n",
      "True label: 1\n",
      "--------------------------------------------------------------------------------------------------------------------------------------------------------------------------------------------------------\n",
      "News 4\n",
      "Model output: Elon Musk was surprised when she got upset when she got upset when she got upset when she\n",
      "True label: 0\n",
      "--------------------------------------------------------------------------------------------------------------------------------------------------------------------------------------------------------\n",
      "News 5\n",
      "Model output: Elon Musk's new biography, \"Starlink,\" has been criticized for its \n",
      "True label: 0\n"
     ]
    }
   ],
   "source": [
    "# test the model on the first 5 news\n",
    "dash_line = '-'*200\n",
    "for i in range(5):\n",
    "    context = df_train.iloc[i]['title_desc']\n",
    "    true_label = df_train.iloc[i]['tesla_related_num']\n",
    "\n",
    "    inputs = tokenizer(context, return_tensors = 'pt')\n",
    "    output = tokenizer.decode(\n",
    "        model.generate(inputs['input_ids'])[0],\n",
    "        skip_special_tokens = True\n",
    "    )\n",
    "    \n",
    "    print(dash_line)\n",
    "    print(f'News {i+1}')\n",
    "    print(f'Model output: {output}')\n",
    "    print(f'True label: {true_label}')"
   ]
  },
  {
   "cell_type": "markdown",
   "id": "ce62c6d8-b7df-4394-8c79-cfed89328788",
   "metadata": {},
   "source": [
    "**Note: The Flan-T5 model tried to summarize the news in its outputs.**"
   ]
  },
  {
   "cell_type": "markdown",
   "id": "0f53e526-2a7f-4088-9168-0982997d8c56",
   "metadata": {},
   "source": [
    "### 2.3.3. Zero-shot Learning"
   ]
  },
  {
   "cell_type": "code",
   "execution_count": 76,
   "id": "21cf25e3-fc45-47d7-b939-e90e38e0ea47",
   "metadata": {},
   "outputs": [
    {
     "name": "stderr",
     "output_type": "stream",
     "text": [
      "C:\\Users\\wfei2\\anaconda3\\lib\\site-packages\\transformers\\generation_utils.py:1359: UserWarning: Neither `max_length` nor `max_new_tokens` has been set, `max_length` will default to 20 (`self.config.max_length`). Controlling `max_length` via the config is deprecated and `max_length` will be removed from the config in v5 of Transformers -- we recommend using `max_new_tokens` to control the maximum length of the generation.\n",
      "  warnings.warn(\n"
     ]
    },
    {
     "name": "stdout",
     "output_type": "stream",
     "text": [
      "--------------------------------------------------------------------------------------------------------------------------------------------------------------------------------------------------------\n",
      "News 1\n",
      "Model output: Not\n",
      "True label: 1\n",
      "--------------------------------------------------------------------------------------------------------------------------------------------------------------------------------------------------------\n",
      "News 2\n",
      "Model output: Not\n",
      "True label: 1\n",
      "--------------------------------------------------------------------------------------------------------------------------------------------------------------------------------------------------------\n",
      "News 3\n",
      "Model output: not\n",
      "True label: 1\n",
      "--------------------------------------------------------------------------------------------------------------------------------------------------------------------------------------------------------\n",
      "News 4\n",
      "Model output: Not\n",
      "True label: 0\n",
      "--------------------------------------------------------------------------------------------------------------------------------------------------------------------------------------------------------\n",
      "News 5\n",
      "Model output: Not\n",
      "True label: 0\n"
     ]
    }
   ],
   "source": [
    "# test the model on the first 10 news\n",
    "dash_line = '-'*200\n",
    "for i in range(5):\n",
    "    context = df_train.iloc[i]['title_desc']\n",
    "    true_label = df_train.iloc[i]['tesla_related_num']\n",
    "    \n",
    "    prompt = f\"\"\"\n",
    "    Classify if the news is related to Tesla or not.\n",
    "    {context}\n",
    "    Classification output:\n",
    "    \"\"\"\n",
    "    inputs = tokenizer(prompt, return_tensors = 'pt')\n",
    "    output = tokenizer.decode(\n",
    "        model.generate(inputs['input_ids'])[0],\n",
    "        skip_special_tokens = True\n",
    "    )\n",
    "    \n",
    "    print(dash_line)\n",
    "    print(f'News {i+1}')\n",
    "    print(f'Model output: {output}')\n",
    "    print(f'True label: {true_label}')"
   ]
  },
  {
   "cell_type": "markdown",
   "id": "1cb62aaf-69d5-4d17-a7b2-459b3e8532b5",
   "metadata": {},
   "source": [
    "**Note: Without giving any example, the model was confused with what the output should be for this classification task.**"
   ]
  },
  {
   "cell_type": "markdown",
   "id": "81bacc17-ddae-4a1b-83fd-995a658585c5",
   "metadata": {},
   "source": [
    "### 2.3.4. One-shot Learning"
   ]
  },
  {
   "cell_type": "code",
   "execution_count": 4,
   "id": "d1d27a19-252e-4fb1-b999-f460a0d56217",
   "metadata": {},
   "outputs": [],
   "source": [
    "# to do one-shot or few-shot learning\n",
    "# define a function to create the prompt\n",
    "def make_prompt(examples, new):\n",
    "    prompt = ''\n",
    "    for i in range(examples.shape[0]):\n",
    "        context = examples.iloc[i]['title_desc']\n",
    "        true_label = examples.iloc[i]['tesla_related_num']\n",
    "        if true_label == 0:\n",
    "            label = 'No, it is not related to Tesla.'\n",
    "        else:\n",
    "            label = 'Yes, it is related to Tesla.'\n",
    "            \n",
    "        prompt += f\"\"\"\n",
    "        Context from news:\n",
    "        {context}\n",
    "        Is the context related to Tesla?\n",
    "        {label}\n",
    "        \"\"\"\n",
    "    prompt += f\"\"\"\n",
    "    Context from news:\n",
    "    {new}\n",
    "    Is the context related to Tesla?\n",
    "    \"\"\"\n",
    "    return prompt"
   ]
  },
  {
   "cell_type": "code",
   "execution_count": 94,
   "id": "4dfaaf7e-b8c8-4a5f-8085-1a09af2628b3",
   "metadata": {},
   "outputs": [
    {
     "name": "stdout",
     "output_type": "stream",
     "text": [
      "--------------------------------------------------------------------------------------------------------------------------------------------------------------------------------------------------------\n",
      "News 2\n",
      "This is the prompt:\n",
      " \n",
      "        Context from news:\n",
      "        AOC says she's looking to trade in her Tesla for a union-made EV after clash with Elon Musk AOC reiterated on Face the Nation on Sunday that she wants to trade in her Tesla for a union-made EV.\n",
      "        Is the context related to Tesla?\n",
      "        Yes, it is related to Tesla.\n",
      "        \n",
      "    Context from news:\n",
      "    Mercedes-Benz's $100,000 electric SUV is an awesome Tesla rival  but its blob-like looks aren't for everyone The Mercedes EQE SUV is an awesome alternative to Tesla's Model X with controversial style.\n",
      "    Is the context related to Tesla?\n",
      "    \n",
      "Model output: Yes\n",
      "True label: 1\n",
      "--------------------------------------------------------------------------------------------------------------------------------------------------------------------------------------------------------\n",
      "News 3\n",
      "This is the prompt:\n",
      " \n",
      "        Context from news:\n",
      "        AOC says she's looking to trade in her Tesla for a union-made EV after clash with Elon Musk AOC reiterated on Face the Nation on Sunday that she wants to trade in her Tesla for a union-made EV.\n",
      "        Is the context related to Tesla?\n",
      "        Yes, it is related to Tesla.\n",
      "        \n",
      "    Context from news:\n",
      "    Where is the phone?' Huawei keeps quiet about Mate 60 Pro but takes aim at Tesla Huawei has disappointed legions of fans  and US officials  eager to know more about its Mate 60 Pro smartphone, which has quickly become a symbol of the tech rivalry between the United States and China since it went on sale last month.\n",
      "    Is the context related to Tesla?\n",
      "    \n",
      "Model output: No\n",
      "True label: 1\n",
      "--------------------------------------------------------------------------------------------------------------------------------------------------------------------------------------------------------\n",
      "News 4\n",
      "This is the prompt:\n",
      " \n",
      "        Context from news:\n",
      "        AOC says she's looking to trade in her Tesla for a union-made EV after clash with Elon Musk AOC reiterated on Face the Nation on Sunday that she wants to trade in her Tesla for a union-made EV.\n",
      "        Is the context related to Tesla?\n",
      "        Yes, it is related to Tesla.\n",
      "        \n",
      "    Context from news:\n",
      "    Elon Musk sent a graphic mid-childbirth picture of Grimes to friends and family and was surprised when she got upset When Musk shared the photo with Grimes father and brothers, she said It was his Aspergers coming out in full.\n",
      "    Is the context related to Tesla?\n",
      "    \n",
      "Model output: No\n",
      "True label: 0\n",
      "--------------------------------------------------------------------------------------------------------------------------------------------------------------------------------------------------------\n",
      "News 5\n",
      "This is the prompt:\n",
      " \n",
      "        Context from news:\n",
      "        AOC says she's looking to trade in her Tesla for a union-made EV after clash with Elon Musk AOC reiterated on Face the Nation on Sunday that she wants to trade in her Tesla for a union-made EV.\n",
      "        Is the context related to Tesla?\n",
      "        Yes, it is related to Tesla.\n",
      "        \n",
      "    Context from news:\n",
      "    Did Elon Musk Turn Off Starlink for Ukraine? What We Know Excerpt from new Elon Musk biography had said the billionaire effectively thwarted a Ukrainian sub attack\n",
      "    Is the context related to Tesla?\n",
      "    \n",
      "Model output: No\n",
      "True label: 0\n",
      "--------------------------------------------------------------------------------------------------------------------------------------------------------------------------------------------------------\n",
      "News 6\n",
      "This is the prompt:\n",
      " \n",
      "        Context from news:\n",
      "        AOC says she's looking to trade in her Tesla for a union-made EV after clash with Elon Musk AOC reiterated on Face the Nation on Sunday that she wants to trade in her Tesla for a union-made EV.\n",
      "        Is the context related to Tesla?\n",
      "        Yes, it is related to Tesla.\n",
      "        \n",
      "    Context from news:\n",
      "    US sues Tesla over alleged pervasive racial abuse against Black workers The lawsuit seeks unspecified damages, compensation and an order that Tesla curb racism at its plant in California.\n",
      "    Is the context related to Tesla?\n",
      "    \n",
      "Model output: Yes\n",
      "True label: 1\n"
     ]
    }
   ],
   "source": [
    "# test the model on the first 6 news, first one as the example\n",
    "dash_line = '-'*200\n",
    "\n",
    "for i in range(1, 6):\n",
    "    context = df_train.iloc[i]['title_desc']\n",
    "    true_label = df_train.iloc[i]['tesla_related_num']\n",
    "    \n",
    "    prompt = make_prompt(df_train.head(1), context) \n",
    "    \n",
    "    inputs = tokenizer(prompt, return_tensors = 'pt')\n",
    "    output = tokenizer.decode(\n",
    "        model.generate(inputs['input_ids'])[0],\n",
    "        skip_special_tokens = True\n",
    "    )\n",
    "    \n",
    "    print(dash_line)\n",
    "    print(f'News {i+1}')\n",
    "    print(f'This is the prompt:\\n {prompt}')\n",
    "    print(f'Model output: {output}')\n",
    "    print(f'True label: {true_label}')"
   ]
  },
  {
   "cell_type": "markdown",
   "id": "daba3c34-4bba-4a8b-be50-5f0284601a64",
   "metadata": {},
   "source": [
    "**Note: By providing one task example in the prompt, the model started to show reasonable classification outputs.**"
   ]
  },
  {
   "cell_type": "markdown",
   "id": "b2f06cf8-cf11-4ac2-84a0-dced9abb4975",
   "metadata": {},
   "source": [
    "Since one-shot learning test looks promising, Let's check out one-shot learning for all data with manual labels."
   ]
  },
  {
   "cell_type": "code",
   "execution_count": 174,
   "id": "7710ea05-6547-44e9-aaaf-92f637c12cd1",
   "metadata": {},
   "outputs": [],
   "source": [
    "# generate outputs for all training and validation data\n",
    "def one_shot_class(data, index):\n",
    "    example = data.loc[data.index.isin(index)]   \n",
    "    for i in range(data.shape[0]):\n",
    "        if i in index:\n",
    "            continue\n",
    "        try:\n",
    "            context = data.iloc[i]['title_desc']\n",
    "            true_label = data.iloc[i]['tesla_related_num']\n",
    "    \n",
    "            prompt = make_prompt(example, context) \n",
    "    \n",
    "            inputs = tokenizer(prompt, return_tensors = 'pt')\n",
    "            output = tokenizer.decode(\n",
    "                model.generate(inputs['input_ids'], max_new_tokens = 20)[0],\n",
    "                skip_special_tokens = True\n",
    "            )\n",
    "            data.loc[i, 'one_shot_class'] = output\n",
    "        except:\n",
    "            print(f'index {i} has error')\n",
    "    return data"
   ]
  },
  {
   "cell_type": "code",
   "execution_count": 179,
   "id": "49fd3013-6858-4bc8-8a08-53c66ac7126b",
   "metadata": {},
   "outputs": [
    {
     "data": {
      "text/plain": [
       "46"
      ]
     },
     "execution_count": 179,
     "metadata": {},
     "output_type": "execute_result"
    }
   ],
   "source": [
    "# select a random row as the one-shot\n",
    "index_foricl = random.randrange(df_model.shape[0])\n",
    "index_foricl"
   ]
  },
  {
   "cell_type": "code",
   "execution_count": 180,
   "id": "5c2e0373-8122-4792-9f06-b6b3318e0108",
   "metadata": {},
   "outputs": [
    {
     "data": {
      "text/html": [
       "<div>\n",
       "<style scoped>\n",
       "    .dataframe tbody tr th:only-of-type {\n",
       "        vertical-align: middle;\n",
       "    }\n",
       "\n",
       "    .dataframe tbody tr th {\n",
       "        vertical-align: top;\n",
       "    }\n",
       "\n",
       "    .dataframe thead th {\n",
       "        text-align: right;\n",
       "    }\n",
       "</style>\n",
       "<table border=\"1\" class=\"dataframe\">\n",
       "  <thead>\n",
       "    <tr style=\"text-align: right;\">\n",
       "      <th></th>\n",
       "      <th>source_name</th>\n",
       "      <th>author</th>\n",
       "      <th>date</th>\n",
       "      <th>title</th>\n",
       "      <th>description</th>\n",
       "      <th>content</th>\n",
       "      <th>label</th>\n",
       "      <th>tesla_related</th>\n",
       "      <th>tesla_related_num</th>\n",
       "      <th>sentiment_label_num</th>\n",
       "      <th>title_desc</th>\n",
       "      <th>one_shot_class</th>\n",
       "    </tr>\n",
       "  </thead>\n",
       "  <tbody>\n",
       "    <tr>\n",
       "      <th>0</th>\n",
       "      <td>Fortune</td>\n",
       "      <td>Jane Thier</td>\n",
       "      <td>9/12/2023</td>\n",
       "      <td>How Elon Musk lost a friend over AI: Google co...</td>\n",
       "      <td>After Musk tried to sabotage Googles acquisit...</td>\n",
       "      <td>Teslas Elon Musk and Googles Larry Page dont t...</td>\n",
       "      <td>neutral</td>\n",
       "      <td>yes</td>\n",
       "      <td>1</td>\n",
       "      <td>1</td>\n",
       "      <td>How Elon Musk lost a friend over AI: Google co...</td>\n",
       "      <td>Yes</td>\n",
       "    </tr>\n",
       "    <tr>\n",
       "      <th>1</th>\n",
       "      <td>Next Big Future</td>\n",
       "      <td>Brian Wang</td>\n",
       "      <td>9/12/2023</td>\n",
       "      <td>Bill Gates Tries to Profit by Driving Down Tes...</td>\n",
       "      <td>Bill Gates bet billions against Tesla in a met...</td>\n",
       "      <td>Bill Gates bet billions against Tesla in a met...</td>\n",
       "      <td>negative</td>\n",
       "      <td>yes</td>\n",
       "      <td>1</td>\n",
       "      <td>0</td>\n",
       "      <td>Bill Gates Tries to Profit by Driving Down Tes...</td>\n",
       "      <td>Yes</td>\n",
       "    </tr>\n",
       "    <tr>\n",
       "      <th>2</th>\n",
       "      <td>The Jerusalem Post</td>\n",
       "      <td>By REUTERS</td>\n",
       "      <td>9/12/2023</td>\n",
       "      <td>Putin hails Elon Musk as an 'outstanding perso...</td>\n",
       "      <td>The Russian leader said Moscow planned to pers...</td>\n",
       "      <td>Russian President Vladimir Putin on Tuesday ha...</td>\n",
       "      <td>neutral</td>\n",
       "      <td>no</td>\n",
       "      <td>0</td>\n",
       "      <td>1</td>\n",
       "      <td>Putin hails Elon Musk as an 'outstanding perso...</td>\n",
       "      <td>No</td>\n",
       "    </tr>\n",
       "    <tr>\n",
       "      <th>3</th>\n",
       "      <td>Fortune</td>\n",
       "      <td>Rachyl Jones</td>\n",
       "      <td>9/12/2023</td>\n",
       "      <td>What do donkeys, dragons and Hawaii have in co...</td>\n",
       "      <td>Musks purchase of Twitter fed his constant ne...</td>\n",
       "      <td>Elon Musk lives for the drama. Thats evident i...</td>\n",
       "      <td>neutral</td>\n",
       "      <td>no</td>\n",
       "      <td>0</td>\n",
       "      <td>1</td>\n",
       "      <td>What do donkeys, dragons and Hawaii have in co...</td>\n",
       "      <td>No</td>\n",
       "    </tr>\n",
       "    <tr>\n",
       "      <th>4</th>\n",
       "      <td>Fortune</td>\n",
       "      <td>Christiaan Hetzner</td>\n",
       "      <td>9/12/2023</td>\n",
       "      <td>Elon Musks supercomputer Dojo added $70 billi...</td>\n",
       "      <td>Elon Musk's Tesla share price has jumped the e...</td>\n",
       "      <td>Teslas gonzo market cap is so enormous that it...</td>\n",
       "      <td>positive</td>\n",
       "      <td>yes</td>\n",
       "      <td>1</td>\n",
       "      <td>2</td>\n",
       "      <td>Elon Musks supercomputer Dojo added $70 billi...</td>\n",
       "      <td>Yes</td>\n",
       "    </tr>\n",
       "  </tbody>\n",
       "</table>\n",
       "</div>"
      ],
      "text/plain": [
       "          source_name              author       date  \\\n",
       "0             Fortune          Jane Thier  9/12/2023   \n",
       "1     Next Big Future          Brian Wang  9/12/2023   \n",
       "2  The Jerusalem Post          By REUTERS  9/12/2023   \n",
       "3             Fortune        Rachyl Jones  9/12/2023   \n",
       "4             Fortune  Christiaan Hetzner  9/12/2023   \n",
       "\n",
       "                                               title  \\\n",
       "0  How Elon Musk lost a friend over AI: Google co...   \n",
       "1  Bill Gates Tries to Profit by Driving Down Tes...   \n",
       "2  Putin hails Elon Musk as an 'outstanding perso...   \n",
       "3  What do donkeys, dragons and Hawaii have in co...   \n",
       "4  Elon Musks supercomputer Dojo added $70 billi...   \n",
       "\n",
       "                                         description  \\\n",
       "0  After Musk tried to sabotage Googles acquisit...   \n",
       "1  Bill Gates bet billions against Tesla in a met...   \n",
       "2  The Russian leader said Moscow planned to pers...   \n",
       "3  Musks purchase of Twitter fed his constant ne...   \n",
       "4  Elon Musk's Tesla share price has jumped the e...   \n",
       "\n",
       "                                             content     label tesla_related  \\\n",
       "0  Teslas Elon Musk and Googles Larry Page dont t...   neutral           yes   \n",
       "1  Bill Gates bet billions against Tesla in a met...  negative           yes   \n",
       "2  Russian President Vladimir Putin on Tuesday ha...   neutral            no   \n",
       "3  Elon Musk lives for the drama. Thats evident i...   neutral            no   \n",
       "4  Teslas gonzo market cap is so enormous that it...  positive           yes   \n",
       "\n",
       "   tesla_related_num  sentiment_label_num  \\\n",
       "0                  1                    1   \n",
       "1                  1                    0   \n",
       "2                  0                    1   \n",
       "3                  0                    1   \n",
       "4                  1                    2   \n",
       "\n",
       "                                          title_desc one_shot_class  \n",
       "0  How Elon Musk lost a friend over AI: Google co...            Yes  \n",
       "1  Bill Gates Tries to Profit by Driving Down Tes...            Yes  \n",
       "2  Putin hails Elon Musk as an 'outstanding perso...             No  \n",
       "3  What do donkeys, dragons and Hawaii have in co...             No  \n",
       "4  Elon Musks supercomputer Dojo added $70 billi...            Yes  "
      ]
     },
     "execution_count": 180,
     "metadata": {},
     "output_type": "execute_result"
    }
   ],
   "source": [
    "# perform one-shot classifications for all data\n",
    "df_model = one_shot_class(df_model, [index_foricl])\n",
    "df_model.head()"
   ]
  },
  {
   "cell_type": "code",
   "execution_count": 181,
   "id": "495fd446-58e6-489a-a2bd-26ad3eb25a40",
   "metadata": {},
   "outputs": [
    {
     "name": "stdout",
     "output_type": "stream",
     "text": [
      "<class 'pandas.core.frame.DataFrame'>\n",
      "Int64Index: 207 entries, 0 to 206\n",
      "Data columns (total 12 columns):\n",
      " #   Column               Non-Null Count  Dtype \n",
      "---  ------               --------------  ----- \n",
      " 0   source_name          207 non-null    object\n",
      " 1   author               207 non-null    object\n",
      " 2   date                 207 non-null    object\n",
      " 3   title                207 non-null    object\n",
      " 4   description          207 non-null    object\n",
      " 5   content              207 non-null    object\n",
      " 6   label                207 non-null    object\n",
      " 7   tesla_related        207 non-null    object\n",
      " 8   tesla_related_num    207 non-null    int64 \n",
      " 9   sentiment_label_num  207 non-null    int64 \n",
      " 10  title_desc           207 non-null    object\n",
      " 11  one_shot_class       206 non-null    object\n",
      "dtypes: int64(2), object(10)\n",
      "memory usage: 29.1+ KB\n"
     ]
    }
   ],
   "source": [
    "df_model.info()"
   ]
  },
  {
   "cell_type": "code",
   "execution_count": 183,
   "id": "ff3ae996-b460-4eb8-a59d-31a0798461d1",
   "metadata": {},
   "outputs": [
    {
     "data": {
      "text/html": [
       "<div>\n",
       "<style scoped>\n",
       "    .dataframe tbody tr th:only-of-type {\n",
       "        vertical-align: middle;\n",
       "    }\n",
       "\n",
       "    .dataframe tbody tr th {\n",
       "        vertical-align: top;\n",
       "    }\n",
       "\n",
       "    .dataframe thead th {\n",
       "        text-align: right;\n",
       "    }\n",
       "</style>\n",
       "<table border=\"1\" class=\"dataframe\">\n",
       "  <thead>\n",
       "    <tr style=\"text-align: right;\">\n",
       "      <th></th>\n",
       "      <th>source_name</th>\n",
       "      <th>author</th>\n",
       "      <th>date</th>\n",
       "      <th>title</th>\n",
       "      <th>description</th>\n",
       "      <th>content</th>\n",
       "      <th>label</th>\n",
       "      <th>tesla_related</th>\n",
       "      <th>tesla_related_num</th>\n",
       "      <th>sentiment_label_num</th>\n",
       "      <th>title_desc</th>\n",
       "      <th>one_shot_class</th>\n",
       "    </tr>\n",
       "  </thead>\n",
       "  <tbody>\n",
       "    <tr>\n",
       "      <th>46</th>\n",
       "      <td>Next Big Future</td>\n",
       "      <td>Brian Wang</td>\n",
       "      <td>9/15/2023</td>\n",
       "      <td>Tesla Breakthrough 3D Printing With Sand For S...</td>\n",
       "      <td>Reuters reports that Tesla has combined a seri...</td>\n",
       "      <td>Reuters reports that Tesla has combined a seri...</td>\n",
       "      <td>positive</td>\n",
       "      <td>yes</td>\n",
       "      <td>1</td>\n",
       "      <td>2</td>\n",
       "      <td>Tesla Breakthrough 3D Printing With Sand For S...</td>\n",
       "      <td>NaN</td>\n",
       "    </tr>\n",
       "  </tbody>\n",
       "</table>\n",
       "</div>"
      ],
      "text/plain": [
       "        source_name      author       date  \\\n",
       "46  Next Big Future  Brian Wang  9/15/2023   \n",
       "\n",
       "                                                title  \\\n",
       "46  Tesla Breakthrough 3D Printing With Sand For S...   \n",
       "\n",
       "                                          description  \\\n",
       "46  Reuters reports that Tesla has combined a seri...   \n",
       "\n",
       "                                              content     label tesla_related  \\\n",
       "46  Reuters reports that Tesla has combined a seri...  positive           yes   \n",
       "\n",
       "    tesla_related_num  sentiment_label_num  \\\n",
       "46                  1                    2   \n",
       "\n",
       "                                           title_desc one_shot_class  \n",
       "46  Tesla Breakthrough 3D Printing With Sand For S...            NaN  "
      ]
     },
     "execution_count": 183,
     "metadata": {},
     "output_type": "execute_result"
    }
   ],
   "source": [
    "df_model[df_model.one_shot_class.isnull() == True]"
   ]
  },
  {
   "cell_type": "markdown",
   "id": "a1eab0c3-28be-4409-b3bc-0522b86031ea",
   "metadata": {},
   "source": [
    "### 2.3.5. Few-shot Learning"
   ]
  },
  {
   "cell_type": "code",
   "execution_count": 108,
   "id": "da82c659-d9b4-40b2-896e-d9dc5c340ee2",
   "metadata": {},
   "outputs": [
    {
     "name": "stderr",
     "output_type": "stream",
     "text": [
      "C:\\Users\\wfei2\\anaconda3\\lib\\site-packages\\transformers\\generation_utils.py:1359: UserWarning: Neither `max_length` nor `max_new_tokens` has been set, `max_length` will default to 20 (`self.config.max_length`). Controlling `max_length` via the config is deprecated and `max_length` will be removed from the config in v5 of Transformers -- we recommend using `max_new_tokens` to control the maximum length of the generation.\n",
      "  warnings.warn(\n"
     ]
    },
    {
     "name": "stdout",
     "output_type": "stream",
     "text": [
      "--------------------------------------------------------------------------------------------------------------------------------------------------------------------------------------------------------\n",
      "News 1\n",
      "This is the prompt:\n",
      " \n",
      "        Context from news:\n",
      "        AOC says she's looking to trade in her Tesla for a union-made EV after clash with Elon Musk AOC reiterated on Face the Nation on Sunday that she wants to trade in her Tesla for a union-made EV.\n",
      "        Is the context related to Tesla?\n",
      "        Yes, it is related to Tesla.\n",
      "        \n",
      "        Context from news:\n",
      "        Elon Musk sent a graphic mid-childbirth picture of Grimes to friends and family and was surprised when she got upset When Musk shared the photo with Grimes father and brothers, she said It was his Aspergers coming out in full.\n",
      "        Is the context related to Tesla?\n",
      "        No, it is not related to Tesla.\n",
      "        \n",
      "    Context from news:\n",
      "    Mercedes-Benz's $100,000 electric SUV is an awesome Tesla rival  but its blob-like looks aren't for everyone The Mercedes EQE SUV is an awesome alternative to Tesla's Model X with controversial style.\n",
      "    Is the context related to Tesla?\n",
      "    \n",
      "Model output: Yes\n",
      "True label: 1\n",
      "--------------------------------------------------------------------------------------------------------------------------------------------------------------------------------------------------------\n",
      "News 2\n",
      "This is the prompt:\n",
      " \n",
      "        Context from news:\n",
      "        AOC says she's looking to trade in her Tesla for a union-made EV after clash with Elon Musk AOC reiterated on Face the Nation on Sunday that she wants to trade in her Tesla for a union-made EV.\n",
      "        Is the context related to Tesla?\n",
      "        Yes, it is related to Tesla.\n",
      "        \n",
      "        Context from news:\n",
      "        Elon Musk sent a graphic mid-childbirth picture of Grimes to friends and family and was surprised when she got upset When Musk shared the photo with Grimes father and brothers, she said It was his Aspergers coming out in full.\n",
      "        Is the context related to Tesla?\n",
      "        No, it is not related to Tesla.\n",
      "        \n",
      "    Context from news:\n",
      "    Where is the phone?' Huawei keeps quiet about Mate 60 Pro but takes aim at Tesla Huawei has disappointed legions of fans  and US officials  eager to know more about its Mate 60 Pro smartphone, which has quickly become a symbol of the tech rivalry between the United States and China since it went on sale last month.\n",
      "    Is the context related to Tesla?\n",
      "    \n",
      "Model output: No\n",
      "True label: 1\n",
      "--------------------------------------------------------------------------------------------------------------------------------------------------------------------------------------------------------\n",
      "News 3\n",
      "This is the prompt:\n",
      " \n",
      "        Context from news:\n",
      "        AOC says she's looking to trade in her Tesla for a union-made EV after clash with Elon Musk AOC reiterated on Face the Nation on Sunday that she wants to trade in her Tesla for a union-made EV.\n",
      "        Is the context related to Tesla?\n",
      "        Yes, it is related to Tesla.\n",
      "        \n",
      "        Context from news:\n",
      "        Elon Musk sent a graphic mid-childbirth picture of Grimes to friends and family and was surprised when she got upset When Musk shared the photo with Grimes father and brothers, she said It was his Aspergers coming out in full.\n",
      "        Is the context related to Tesla?\n",
      "        No, it is not related to Tesla.\n",
      "        \n",
      "    Context from news:\n",
      "    Did Elon Musk Turn Off Starlink for Ukraine? What We Know Excerpt from new Elon Musk biography had said the billionaire effectively thwarted a Ukrainian sub attack\n",
      "    Is the context related to Tesla?\n",
      "    \n",
      "Model output: No\n",
      "True label: 0\n",
      "--------------------------------------------------------------------------------------------------------------------------------------------------------------------------------------------------------\n",
      "News 4\n",
      "This is the prompt:\n",
      " \n",
      "        Context from news:\n",
      "        AOC says she's looking to trade in her Tesla for a union-made EV after clash with Elon Musk AOC reiterated on Face the Nation on Sunday that she wants to trade in her Tesla for a union-made EV.\n",
      "        Is the context related to Tesla?\n",
      "        Yes, it is related to Tesla.\n",
      "        \n",
      "        Context from news:\n",
      "        Elon Musk sent a graphic mid-childbirth picture of Grimes to friends and family and was surprised when she got upset When Musk shared the photo with Grimes father and brothers, she said It was his Aspergers coming out in full.\n",
      "        Is the context related to Tesla?\n",
      "        No, it is not related to Tesla.\n",
      "        \n",
      "    Context from news:\n",
      "    US sues Tesla over alleged pervasive racial abuse against Black workers The lawsuit seeks unspecified damages, compensation and an order that Tesla curb racism at its plant in California.\n",
      "    Is the context related to Tesla?\n",
      "    \n",
      "Model output: Yes\n",
      "True label: 1\n",
      "--------------------------------------------------------------------------------------------------------------------------------------------------------------------------------------------------------\n",
      "News 5\n",
      "This is the prompt:\n",
      " \n",
      "        Context from news:\n",
      "        AOC says she's looking to trade in her Tesla for a union-made EV after clash with Elon Musk AOC reiterated on Face the Nation on Sunday that she wants to trade in her Tesla for a union-made EV.\n",
      "        Is the context related to Tesla?\n",
      "        Yes, it is related to Tesla.\n",
      "        \n",
      "        Context from news:\n",
      "        Elon Musk sent a graphic mid-childbirth picture of Grimes to friends and family and was surprised when she got upset When Musk shared the photo with Grimes father and brothers, she said It was his Aspergers coming out in full.\n",
      "        Is the context related to Tesla?\n",
      "        No, it is not related to Tesla.\n",
      "        \n",
      "    Context from news:\n",
      "    Tesla slashes prices of Model 3, Models Y vehicles in US Tesla <a href=\"https://www.reuters.com/markets/companies/TSLA.O\" target=\"_blank\">(TSLA.O)</a> has cut prices of its Model 3 compact sedan and Model Y SUV in the U.S. by about 2.7% to 4.2% to stoke demand for its electric vehicles, days after the automaker fel",
      "\n",
      "    Is the context related to Tesla?\n",
      "    \n",
      "Model output: Yes\n",
      "True label: 1\n"
     ]
    }
   ],
   "source": [
    "# test the model on the first several news\n",
    "dash_line = '-'*200\n",
    "\n",
    "example = df_train[(df_train.index==0) | (df_train.index==3)]\n",
    "df_test = df_train.drop(example.index).reset_index(drop = True)\n",
    "\n",
    "for i in range(5):\n",
    "    context = df_test.iloc[i]['title_desc']\n",
    "    true_label = df_test.iloc[i]['tesla_related_num']\n",
    "    \n",
    "    prompt = make_prompt(example, context) \n",
    "    \n",
    "    inputs = tokenizer(prompt, return_tensors = 'pt')\n",
    "    output = tokenizer.decode(\n",
    "        model.generate(inputs['input_ids'])[0],\n",
    "        skip_special_tokens = True\n",
    "    )\n",
    "    \n",
    "    print(dash_line)\n",
    "    print(f'News {i+1}')\n",
    "    print(f'This is the prompt:\\n {prompt}')\n",
    "    print(f'Model output: {output}')\n",
    "    print(f'True label: {true_label}')"
   ]
  },
  {
   "cell_type": "markdown",
   "id": "6180fdea-ea4d-417e-9f8d-133ec2b3300e",
   "metadata": {},
   "source": [
    "**Note: Few-shot learning also worked for this task. From testing on just 5 samples, few-shot (2 shots) learning accuracy was comparable to one-shot learning.**"
   ]
  },
  {
   "cell_type": "markdown",
   "id": "f81d5290-c71c-41c5-9800-5c9b0126ccc5",
   "metadata": {},
   "source": [
    "Let's try few-shot learning for all data with munual labels. \n",
    "\n",
    "Will try different shots for few-shot learning, including 2 shots, 3 shots, 4 shots and 5 shots. From other people's experience, few-shot learning doesn't see much improvements with more than 5 shots."
   ]
  },
  {
   "cell_type": "code",
   "execution_count": 191,
   "id": "2de0e80f-9b23-414f-bb21-bafa30f9f4b0",
   "metadata": {},
   "outputs": [],
   "source": [
    "# generate outputs for all training and validation data\n",
    "def few_shot_class(data, index, shots):\n",
    "    if len(index) != shots:\n",
    "        raise InputError('Inconsistent index number and shot number for learning.')\n",
    "    example = data.loc[data.index.isin(index)]   \n",
    "    for i in range(data.shape[0]):\n",
    "        if i in index:\n",
    "            continue\n",
    "        try:\n",
    "            context = data.iloc[i]['title_desc']\n",
    "            true_label = data.iloc[i]['tesla_related_num']\n",
    "    \n",
    "            prompt = make_prompt(example, context) \n",
    "    \n",
    "            inputs = tokenizer(prompt, return_tensors = 'pt')\n",
    "            output = tokenizer.decode(\n",
    "                model.generate(inputs['input_ids'], max_new_tokens = 20)[0],\n",
    "                skip_special_tokens = True\n",
    "            )\n",
    "            col = 'few_shot_class_'+str(shots)\n",
    "            data.loc[i, col] = output\n",
    "        except:\n",
    "            print(f'index {i} has error')\n",
    "    return data"
   ]
  },
  {
   "cell_type": "code",
   "execution_count": 194,
   "id": "6fafbabc-0d3c-4f1f-b3a4-b272bf4c2801",
   "metadata": {},
   "outputs": [
    {
     "name": "stdout",
     "output_type": "stream",
     "text": [
      "[43, 96]\n",
      "[66, 58, 181]\n",
      "[201, 37, 0, 98]\n",
      "[178, 192, 202, 11, 155]\n"
     ]
    },
    {
     "name": "stderr",
     "output_type": "stream",
     "text": [
      "Token indices sequence length is longer than the specified maximum sequence length for this model (540 > 512). Running this sequence through the model will result in indexing errors\n"
     ]
    },
    {
     "data": {
      "text/html": [
       "<div>\n",
       "<style scoped>\n",
       "    .dataframe tbody tr th:only-of-type {\n",
       "        vertical-align: middle;\n",
       "    }\n",
       "\n",
       "    .dataframe tbody tr th {\n",
       "        vertical-align: top;\n",
       "    }\n",
       "\n",
       "    .dataframe thead th {\n",
       "        text-align: right;\n",
       "    }\n",
       "</style>\n",
       "<table border=\"1\" class=\"dataframe\">\n",
       "  <thead>\n",
       "    <tr style=\"text-align: right;\">\n",
       "      <th></th>\n",
       "      <th>source_name</th>\n",
       "      <th>author</th>\n",
       "      <th>date</th>\n",
       "      <th>title</th>\n",
       "      <th>description</th>\n",
       "      <th>content</th>\n",
       "      <th>label</th>\n",
       "      <th>tesla_related</th>\n",
       "      <th>tesla_related_num</th>\n",
       "      <th>sentiment_label_num</th>\n",
       "      <th>title_desc</th>\n",
       "      <th>one_shot_class</th>\n",
       "      <th>few_shot_class_2</th>\n",
       "      <th>few_shot_class_3</th>\n",
       "      <th>few_shot_class_4</th>\n",
       "      <th>few_shot_class_5</th>\n",
       "    </tr>\n",
       "  </thead>\n",
       "  <tbody>\n",
       "    <tr>\n",
       "      <th>0</th>\n",
       "      <td>Fortune</td>\n",
       "      <td>Jane Thier</td>\n",
       "      <td>9/12/2023</td>\n",
       "      <td>How Elon Musk lost a friend over AI: Google co...</td>\n",
       "      <td>After Musk tried to sabotage Googles acquisit...</td>\n",
       "      <td>Teslas Elon Musk and Googles Larry Page dont t...</td>\n",
       "      <td>neutral</td>\n",
       "      <td>yes</td>\n",
       "      <td>1</td>\n",
       "      <td>1</td>\n",
       "      <td>How Elon Musk lost a friend over AI: Google co...</td>\n",
       "      <td>Yes</td>\n",
       "      <td>No, it is not related to Tesla.</td>\n",
       "      <td>Yes, it is related to Tesla.</td>\n",
       "      <td>NaN</td>\n",
       "      <td>No, it is not possible to tell</td>\n",
       "    </tr>\n",
       "    <tr>\n",
       "      <th>1</th>\n",
       "      <td>Next Big Future</td>\n",
       "      <td>Brian Wang</td>\n",
       "      <td>9/12/2023</td>\n",
       "      <td>Bill Gates Tries to Profit by Driving Down Tes...</td>\n",
       "      <td>Bill Gates bet billions against Tesla in a met...</td>\n",
       "      <td>Bill Gates bet billions against Tesla in a met...</td>\n",
       "      <td>negative</td>\n",
       "      <td>yes</td>\n",
       "      <td>1</td>\n",
       "      <td>0</td>\n",
       "      <td>Bill Gates Tries to Profit by Driving Down Tes...</td>\n",
       "      <td>Yes</td>\n",
       "      <td>No, it is not related to Tesla.</td>\n",
       "      <td>Yes, it is related to Tesla.</td>\n",
       "      <td>Yes, it is related to Tesla.</td>\n",
       "      <td>No, it is not possible to tell</td>\n",
       "    </tr>\n",
       "    <tr>\n",
       "      <th>2</th>\n",
       "      <td>The Jerusalem Post</td>\n",
       "      <td>By REUTERS</td>\n",
       "      <td>9/12/2023</td>\n",
       "      <td>Putin hails Elon Musk as an 'outstanding perso...</td>\n",
       "      <td>The Russian leader said Moscow planned to pers...</td>\n",
       "      <td>Russian President Vladimir Putin on Tuesday ha...</td>\n",
       "      <td>neutral</td>\n",
       "      <td>no</td>\n",
       "      <td>0</td>\n",
       "      <td>1</td>\n",
       "      <td>Putin hails Elon Musk as an 'outstanding perso...</td>\n",
       "      <td>No</td>\n",
       "      <td>No, it is not related to Tesla.</td>\n",
       "      <td>No</td>\n",
       "      <td>No</td>\n",
       "      <td>No</td>\n",
       "    </tr>\n",
       "    <tr>\n",
       "      <th>3</th>\n",
       "      <td>Fortune</td>\n",
       "      <td>Rachyl Jones</td>\n",
       "      <td>9/12/2023</td>\n",
       "      <td>What do donkeys, dragons and Hawaii have in co...</td>\n",
       "      <td>Musks purchase of Twitter fed his constant ne...</td>\n",
       "      <td>Elon Musk lives for the drama. Thats evident i...</td>\n",
       "      <td>neutral</td>\n",
       "      <td>no</td>\n",
       "      <td>0</td>\n",
       "      <td>1</td>\n",
       "      <td>What do donkeys, dragons and Hawaii have in co...</td>\n",
       "      <td>No</td>\n",
       "      <td>No, it is not related to Tesla.</td>\n",
       "      <td>No</td>\n",
       "      <td>No</td>\n",
       "      <td>No, it is not possible to tell</td>\n",
       "    </tr>\n",
       "    <tr>\n",
       "      <th>4</th>\n",
       "      <td>Fortune</td>\n",
       "      <td>Christiaan Hetzner</td>\n",
       "      <td>9/12/2023</td>\n",
       "      <td>Elon Musks supercomputer Dojo added $70 billi...</td>\n",
       "      <td>Elon Musk's Tesla share price has jumped the e...</td>\n",
       "      <td>Teslas gonzo market cap is so enormous that it...</td>\n",
       "      <td>positive</td>\n",
       "      <td>yes</td>\n",
       "      <td>1</td>\n",
       "      <td>2</td>\n",
       "      <td>Elon Musks supercomputer Dojo added $70 billi...</td>\n",
       "      <td>Yes</td>\n",
       "      <td>Yes</td>\n",
       "      <td>Yes, it is related to Tesla.</td>\n",
       "      <td>Yes</td>\n",
       "      <td>Yes, it is related to Tesla.</td>\n",
       "    </tr>\n",
       "  </tbody>\n",
       "</table>\n",
       "</div>"
      ],
      "text/plain": [
       "          source_name              author       date  \\\n",
       "0             Fortune          Jane Thier  9/12/2023   \n",
       "1     Next Big Future          Brian Wang  9/12/2023   \n",
       "2  The Jerusalem Post          By REUTERS  9/12/2023   \n",
       "3             Fortune        Rachyl Jones  9/12/2023   \n",
       "4             Fortune  Christiaan Hetzner  9/12/2023   \n",
       "\n",
       "                                               title  \\\n",
       "0  How Elon Musk lost a friend over AI: Google co...   \n",
       "1  Bill Gates Tries to Profit by Driving Down Tes...   \n",
       "2  Putin hails Elon Musk as an 'outstanding perso...   \n",
       "3  What do donkeys, dragons and Hawaii have in co...   \n",
       "4  Elon Musks supercomputer Dojo added $70 billi...   \n",
       "\n",
       "                                         description  \\\n",
       "0  After Musk tried to sabotage Googles acquisit...   \n",
       "1  Bill Gates bet billions against Tesla in a met...   \n",
       "2  The Russian leader said Moscow planned to pers...   \n",
       "3  Musks purchase of Twitter fed his constant ne...   \n",
       "4  Elon Musk's Tesla share price has jumped the e...   \n",
       "\n",
       "                                             content     label tesla_related  \\\n",
       "0  Teslas Elon Musk and Googles Larry Page dont t...   neutral           yes   \n",
       "1  Bill Gates bet billions against Tesla in a met...  negative           yes   \n",
       "2  Russian President Vladimir Putin on Tuesday ha...   neutral            no   \n",
       "3  Elon Musk lives for the drama. Thats evident i...   neutral            no   \n",
       "4  Teslas gonzo market cap is so enormous that it...  positive           yes   \n",
       "\n",
       "   tesla_related_num  sentiment_label_num  \\\n",
       "0                  1                    1   \n",
       "1                  1                    0   \n",
       "2                  0                    1   \n",
       "3                  0                    1   \n",
       "4                  1                    2   \n",
       "\n",
       "                                          title_desc one_shot_class  \\\n",
       "0  How Elon Musk lost a friend over AI: Google co...            Yes   \n",
       "1  Bill Gates Tries to Profit by Driving Down Tes...            Yes   \n",
       "2  Putin hails Elon Musk as an 'outstanding perso...             No   \n",
       "3  What do donkeys, dragons and Hawaii have in co...             No   \n",
       "4  Elon Musks supercomputer Dojo added $70 billi...            Yes   \n",
       "\n",
       "                  few_shot_class_2              few_shot_class_3  \\\n",
       "0  No, it is not related to Tesla.  Yes, it is related to Tesla.   \n",
       "1  No, it is not related to Tesla.  Yes, it is related to Tesla.   \n",
       "2  No, it is not related to Tesla.                            No   \n",
       "3  No, it is not related to Tesla.                            No   \n",
       "4                              Yes  Yes, it is related to Tesla.   \n",
       "\n",
       "               few_shot_class_4                few_shot_class_5  \n",
       "0                           NaN  No, it is not possible to tell  \n",
       "1  Yes, it is related to Tesla.  No, it is not possible to tell  \n",
       "2                            No                              No  \n",
       "3                            No  No, it is not possible to tell  \n",
       "4                           Yes    Yes, it is related to Tesla.  "
      ]
     },
     "execution_count": 194,
     "metadata": {},
     "output_type": "execute_result"
    }
   ],
   "source": [
    "# let check few-shots with 2 shots, 3 shots, 4 shots and 5 shots\n",
    "for shots in range(2, 6):\n",
    "    num_list = [random.randrange(df_one.shape[0]) for _ in range(shots)]\n",
    "    print(num_list)\n",
    "    df_one = few_shot_class(df_one, num_list, shots)\n",
    "df_one.head()"
   ]
  },
  {
   "cell_type": "code",
   "execution_count": 195,
   "id": "c26ad2f8-1e4d-4898-a44e-4268efd5f25d",
   "metadata": {},
   "outputs": [
    {
     "name": "stdout",
     "output_type": "stream",
     "text": [
      "<class 'pandas.core.frame.DataFrame'>\n",
      "RangeIndex: 207 entries, 0 to 206\n",
      "Data columns (total 16 columns):\n",
      " #   Column               Non-Null Count  Dtype \n",
      "---  ------               --------------  ----- \n",
      " 0   source_name          207 non-null    object\n",
      " 1   author               207 non-null    object\n",
      " 2   date                 207 non-null    object\n",
      " 3   title                207 non-null    object\n",
      " 4   description          207 non-null    object\n",
      " 5   content              207 non-null    object\n",
      " 6   label                207 non-null    object\n",
      " 7   tesla_related        207 non-null    object\n",
      " 8   tesla_related_num    207 non-null    int64 \n",
      " 9   sentiment_label_num  207 non-null    int64 \n",
      " 10  title_desc           207 non-null    object\n",
      " 11  one_shot_class       206 non-null    object\n",
      " 12  few_shot_class_2     205 non-null    object\n",
      " 13  few_shot_class_3     204 non-null    object\n",
      " 14  few_shot_class_4     203 non-null    object\n",
      " 15  few_shot_class_5     202 non-null    object\n",
      "dtypes: int64(2), object(14)\n",
      "memory usage: 26.0+ KB\n"
     ]
    }
   ],
   "source": [
    "df_one.info()"
   ]
  },
  {
   "cell_type": "code",
   "execution_count": 197,
   "id": "31b78af7-0061-4588-b038-b1a627f5fa45",
   "metadata": {},
   "outputs": [
    {
     "name": "stdout",
     "output_type": "stream",
     "text": [
      "<class 'pandas.core.frame.DataFrame'>\n",
      "RangeIndex: 207 entries, 0 to 206\n",
      "Data columns (total 16 columns):\n",
      " #   Column               Non-Null Count  Dtype \n",
      "---  ------               --------------  ----- \n",
      " 0   source_name          207 non-null    object\n",
      " 1   author               207 non-null    object\n",
      " 2   date                 207 non-null    object\n",
      " 3   title                207 non-null    object\n",
      " 4   description          207 non-null    object\n",
      " 5   content              207 non-null    object\n",
      " 6   label                207 non-null    object\n",
      " 7   tesla_related        207 non-null    object\n",
      " 8   tesla_related_num    207 non-null    int64 \n",
      " 9   sentiment_label_num  207 non-null    int64 \n",
      " 10  title_desc           207 non-null    object\n",
      " 11  one_shot_class       206 non-null    object\n",
      " 12  few_shot_class_2     205 non-null    object\n",
      " 13  few_shot_class_3     204 non-null    object\n",
      " 14  few_shot_class_4     203 non-null    object\n",
      " 15  few_shot_class_5     202 non-null    object\n",
      "dtypes: int64(2), object(14)\n",
      "memory usage: 26.0+ KB\n"
     ]
    }
   ],
   "source": [
    "df_one.to_csv('../data/Tesla_news_Flan_T5_labels.csv', index = False)\n",
    "df_one = pd.read_csv('../data/Tesla_news_Flan_T5_labels.csv')\n",
    "df_one.info()"
   ]
  },
  {
   "cell_type": "code",
   "execution_count": 6,
   "id": "f62e3b2a-b93e-4e11-acce-11236702ba67",
   "metadata": {},
   "outputs": [
    {
     "name": "stdout",
     "output_type": "stream",
     "text": [
      "<class 'pandas.core.frame.DataFrame'>\n",
      "RangeIndex: 207 entries, 0 to 206\n",
      "Data columns (total 16 columns):\n",
      " #   Column               Non-Null Count  Dtype \n",
      "---  ------               --------------  ----- \n",
      " 0   source_name          207 non-null    object\n",
      " 1   author               207 non-null    object\n",
      " 2   date                 207 non-null    object\n",
      " 3   title                207 non-null    object\n",
      " 4   description          207 non-null    object\n",
      " 5   content              207 non-null    object\n",
      " 6   label                207 non-null    object\n",
      " 7   tesla_related        207 non-null    object\n",
      " 8   tesla_related_num    207 non-null    int64 \n",
      " 9   sentiment_label_num  207 non-null    int64 \n",
      " 10  title_desc           207 non-null    object\n",
      " 11  one_shot_class       206 non-null    object\n",
      " 12  few_shot_class_2     205 non-null    object\n",
      " 13  few_shot_class_3     204 non-null    object\n",
      " 14  few_shot_class_4     203 non-null    object\n",
      " 15  few_shot_class_5     202 non-null    object\n",
      "dtypes: int64(2), object(14)\n",
      "memory usage: 26.0+ KB\n"
     ]
    }
   ],
   "source": [
    "df_one = pd.read_csv('../data/Tesla_news_Flan_T5_labels.csv')\n",
    "df_one.info()"
   ]
  },
  {
   "cell_type": "markdown",
   "id": "16e16bed-24a9-4093-b41b-47bf47f8b4db",
   "metadata": {},
   "source": [
    "## 2.4. Evaluation of Different ICLs for Flan-T5\n",
    "The following ICL results are evaluated and compared here:\n",
    "* One-shot learning\n",
    "* Few-shot learning: 2 shots, 3 shots, 4 shots, 5 shots "
   ]
  },
  {
   "cell_type": "markdown",
   "id": "04ce352a-be64-44a1-97ae-652a122a1060",
   "metadata": {},
   "source": [
    "### 2.4.1. Check for Issues and Correct Them"
   ]
  },
  {
   "cell_type": "code",
   "execution_count": 7,
   "id": "06471d71-41f4-42fb-9feb-e7b26a7ecf69",
   "metadata": {},
   "outputs": [
    {
     "data": {
      "text/plain": [
       "Yes    109\n",
       "No      96\n",
       "no       1\n",
       "Name: one_shot_class, dtype: int64"
      ]
     },
     "execution_count": 7,
     "metadata": {},
     "output_type": "execute_result"
    }
   ],
   "source": [
    "# first look at one-shot output\n",
    "df_one.one_shot_class.value_counts()"
   ]
  },
  {
   "cell_type": "code",
   "execution_count": 8,
   "id": "26691eee-6e16-41ae-9ccf-af769566b5ea",
   "metadata": {},
   "outputs": [
    {
     "data": {
      "text/plain": [
       "yes    109\n",
       "no      97\n",
       "Name: one_shot_class, dtype: int64"
      ]
     },
     "execution_count": 8,
     "metadata": {},
     "output_type": "execute_result"
    }
   ],
   "source": [
    "df_one['one_shot_class'] = df_one['one_shot_class'].replace(['Yes', 'No'], ['yes', 'no'])\n",
    "df_one.one_shot_class.value_counts()"
   ]
  },
  {
   "cell_type": "code",
   "execution_count": 9,
   "id": "76c30456-132c-4f49-bee1-7bd5b9d1c1d2",
   "metadata": {},
   "outputs": [
    {
     "data": {
      "text/plain": [
       "No, it is not related to Tesla.    112\n",
       "Yes                                 73\n",
       "No                                  14\n",
       "No, it is not possible to tell       6\n",
       "Name: few_shot_class_2, dtype: int64"
      ]
     },
     "execution_count": 9,
     "metadata": {},
     "output_type": "execute_result"
    }
   ],
   "source": [
    "# 2-shots outputs\n",
    "df_one.few_shot_class_2.value_counts()"
   ]
  },
  {
   "cell_type": "code",
   "execution_count": 10,
   "id": "a3803b35-8491-4e49-b459-1e6aa3c95bae",
   "metadata": {},
   "outputs": [
    {
     "data": {
      "text/html": [
       "<div>\n",
       "<style scoped>\n",
       "    .dataframe tbody tr th:only-of-type {\n",
       "        vertical-align: middle;\n",
       "    }\n",
       "\n",
       "    .dataframe tbody tr th {\n",
       "        vertical-align: top;\n",
       "    }\n",
       "\n",
       "    .dataframe thead th {\n",
       "        text-align: right;\n",
       "    }\n",
       "</style>\n",
       "<table border=\"1\" class=\"dataframe\">\n",
       "  <thead>\n",
       "    <tr style=\"text-align: right;\">\n",
       "      <th></th>\n",
       "      <th>source_name</th>\n",
       "      <th>author</th>\n",
       "      <th>date</th>\n",
       "      <th>title</th>\n",
       "      <th>description</th>\n",
       "      <th>content</th>\n",
       "      <th>label</th>\n",
       "      <th>tesla_related</th>\n",
       "      <th>tesla_related_num</th>\n",
       "      <th>sentiment_label_num</th>\n",
       "      <th>title_desc</th>\n",
       "      <th>one_shot_class</th>\n",
       "      <th>few_shot_class_2</th>\n",
       "      <th>few_shot_class_3</th>\n",
       "      <th>few_shot_class_4</th>\n",
       "      <th>few_shot_class_5</th>\n",
       "    </tr>\n",
       "  </thead>\n",
       "  <tbody>\n",
       "    <tr>\n",
       "      <th>66</th>\n",
       "      <td>Fortune</td>\n",
       "      <td>Christiaan Hetzner</td>\n",
       "      <td>9/18/2023</td>\n",
       "      <td>UAW boss says Big 3 can give their fair share ...</td>\n",
       "      <td>UAW boss Shawn Fain says after securing a deal...</td>\n",
       "      <td>Union leader Shawn Fain has a message for Elon...</td>\n",
       "      <td>negative</td>\n",
       "      <td>yes</td>\n",
       "      <td>1</td>\n",
       "      <td>0</td>\n",
       "      <td>UAW boss says Big 3 can give their fair share ...</td>\n",
       "      <td>yes</td>\n",
       "      <td>No, it is not possible to tell</td>\n",
       "      <td>NaN</td>\n",
       "      <td>No</td>\n",
       "      <td>No, it is not possible to tell</td>\n",
       "    </tr>\n",
       "    <tr>\n",
       "      <th>82</th>\n",
       "      <td>Time</td>\n",
       "      <td>Isabella Ward and Marissa Newman / Bloomberg</td>\n",
       "      <td>9/19/2023</td>\n",
       "      <td>Elon Musk Weighs Charging Users a Monthly Fee ...</td>\n",
       "      <td>Elon Musk said a small monthly service fee for...</td>\n",
       "      <td>Elon Musk said that a small monthly service fe...</td>\n",
       "      <td>neutral</td>\n",
       "      <td>no</td>\n",
       "      <td>0</td>\n",
       "      <td>1</td>\n",
       "      <td>Elon Musk Weighs Charging Users a Monthly Fee ...</td>\n",
       "      <td>no</td>\n",
       "      <td>No, it is not possible to tell</td>\n",
       "      <td>No</td>\n",
       "      <td>No, it is not possible to tell</td>\n",
       "      <td>No, it is not possible to tell</td>\n",
       "    </tr>\n",
       "    <tr>\n",
       "      <th>90</th>\n",
       "      <td>Business Insider</td>\n",
       "      <td>Beatrice Nolan</td>\n",
       "      <td>9/19/2023</td>\n",
       "      <td>'He simply wants to kill the platform': Some X...</td>\n",
       "      <td>Elon Musk has suggested yet another shakeup fo...</td>\n",
       "      <td>Elon Musk.Joel Saget/AFP via Getty Images\\n&lt;ul...</td>\n",
       "      <td>negative</td>\n",
       "      <td>no</td>\n",
       "      <td>0</td>\n",
       "      <td>0</td>\n",
       "      <td>'He simply wants to kill the platform': Some X...</td>\n",
       "      <td>no</td>\n",
       "      <td>No, it is not possible to tell</td>\n",
       "      <td>No, it is not possible to tell</td>\n",
       "      <td>No, it is not possible to tell</td>\n",
       "      <td>No, it is not possible to tell</td>\n",
       "    </tr>\n",
       "    <tr>\n",
       "      <th>113</th>\n",
       "      <td>Business Insider</td>\n",
       "      <td>Tim Levin</td>\n",
       "      <td>9/25/2023</td>\n",
       "      <td>AOC says she'll trade in her Tesla for a union...</td>\n",
       "      <td>There aren't many union-made electric cars on ...</td>\n",
       "      <td>Rep. Alexandria Ocasio-Cortez wants to trade i...</td>\n",
       "      <td>negative</td>\n",
       "      <td>yes</td>\n",
       "      <td>1</td>\n",
       "      <td>0</td>\n",
       "      <td>AOC says she'll trade in her Tesla for a union...</td>\n",
       "      <td>yes</td>\n",
       "      <td>No, it is not possible to tell</td>\n",
       "      <td>No</td>\n",
       "      <td>No</td>\n",
       "      <td>No</td>\n",
       "    </tr>\n",
       "    <tr>\n",
       "      <th>151</th>\n",
       "      <td>Business Insider</td>\n",
       "      <td>Grace Kay</td>\n",
       "      <td>9/30/2023</td>\n",
       "      <td>Elon Musk's dad, 77, says he'd have more kids ...</td>\n",
       "      <td>Elon Musk's father, Errol, has seven known chi...</td>\n",
       "      <td>Errol Musk, the father of Elon Musk, told Insi...</td>\n",
       "      <td>neutral</td>\n",
       "      <td>no</td>\n",
       "      <td>0</td>\n",
       "      <td>1</td>\n",
       "      <td>Elon Musk's dad, 77, says he'd have more kids ...</td>\n",
       "      <td>no</td>\n",
       "      <td>No, it is not possible to tell</td>\n",
       "      <td>No</td>\n",
       "      <td>No</td>\n",
       "      <td>No, it is not possible to tell</td>\n",
       "    </tr>\n",
       "    <tr>\n",
       "      <th>176</th>\n",
       "      <td>Business Insider</td>\n",
       "      <td>astjohn@insider.com (Alexa St. John)</td>\n",
       "      <td>10/4/2023</td>\n",
       "      <td>The founder of Tesla's biggest China rival rep...</td>\n",
       "      <td>The founder of Chinese automaker BYD, Tesla's ...</td>\n",
       "      <td>The founder of Chinese automaker BYD, Tesla's ...</td>\n",
       "      <td>neutral</td>\n",
       "      <td>yes</td>\n",
       "      <td>1</td>\n",
       "      <td>1</td>\n",
       "      <td>The founder of Tesla's biggest China rival rep...</td>\n",
       "      <td>yes</td>\n",
       "      <td>No, it is not possible to tell</td>\n",
       "      <td>Yes</td>\n",
       "      <td>Yes</td>\n",
       "      <td>Yes</td>\n",
       "    </tr>\n",
       "  </tbody>\n",
       "</table>\n",
       "</div>"
      ],
      "text/plain": [
       "          source_name                                        author  \\\n",
       "66            Fortune                            Christiaan Hetzner   \n",
       "82               Time  Isabella Ward and Marissa Newman / Bloomberg   \n",
       "90   Business Insider                                Beatrice Nolan   \n",
       "113  Business Insider                                     Tim Levin   \n",
       "151  Business Insider                                     Grace Kay   \n",
       "176  Business Insider          astjohn@insider.com (Alexa St. John)   \n",
       "\n",
       "          date                                              title  \\\n",
       "66   9/18/2023  UAW boss says Big 3 can give their fair share ...   \n",
       "82   9/19/2023  Elon Musk Weighs Charging Users a Monthly Fee ...   \n",
       "90   9/19/2023  'He simply wants to kill the platform': Some X...   \n",
       "113  9/25/2023  AOC says she'll trade in her Tesla for a union...   \n",
       "151  9/30/2023  Elon Musk's dad, 77, says he'd have more kids ...   \n",
       "176  10/4/2023  The founder of Tesla's biggest China rival rep...   \n",
       "\n",
       "                                           description  \\\n",
       "66   UAW boss Shawn Fain says after securing a deal...   \n",
       "82   Elon Musk said a small monthly service fee for...   \n",
       "90   Elon Musk has suggested yet another shakeup fo...   \n",
       "113  There aren't many union-made electric cars on ...   \n",
       "151  Elon Musk's father, Errol, has seven known chi...   \n",
       "176  The founder of Chinese automaker BYD, Tesla's ...   \n",
       "\n",
       "                                               content     label  \\\n",
       "66   Union leader Shawn Fain has a message for Elon...  negative   \n",
       "82   Elon Musk said that a small monthly service fe...   neutral   \n",
       "90   Elon Musk.Joel Saget/AFP via Getty Images\\n<ul...  negative   \n",
       "113  Rep. Alexandria Ocasio-Cortez wants to trade i...  negative   \n",
       "151  Errol Musk, the father of Elon Musk, told Insi...   neutral   \n",
       "176  The founder of Chinese automaker BYD, Tesla's ...   neutral   \n",
       "\n",
       "    tesla_related  tesla_related_num  sentiment_label_num  \\\n",
       "66            yes                  1                    0   \n",
       "82             no                  0                    1   \n",
       "90             no                  0                    0   \n",
       "113           yes                  1                    0   \n",
       "151            no                  0                    1   \n",
       "176           yes                  1                    1   \n",
       "\n",
       "                                            title_desc one_shot_class  \\\n",
       "66   UAW boss says Big 3 can give their fair share ...            yes   \n",
       "82   Elon Musk Weighs Charging Users a Monthly Fee ...             no   \n",
       "90   'He simply wants to kill the platform': Some X...             no   \n",
       "113  AOC says she'll trade in her Tesla for a union...            yes   \n",
       "151  Elon Musk's dad, 77, says he'd have more kids ...             no   \n",
       "176  The founder of Tesla's biggest China rival rep...            yes   \n",
       "\n",
       "                   few_shot_class_2                few_shot_class_3  \\\n",
       "66   No, it is not possible to tell                             NaN   \n",
       "82   No, it is not possible to tell                              No   \n",
       "90   No, it is not possible to tell  No, it is not possible to tell   \n",
       "113  No, it is not possible to tell                              No   \n",
       "151  No, it is not possible to tell                              No   \n",
       "176  No, it is not possible to tell                             Yes   \n",
       "\n",
       "                   few_shot_class_4                few_shot_class_5  \n",
       "66                               No  No, it is not possible to tell  \n",
       "82   No, it is not possible to tell  No, it is not possible to tell  \n",
       "90   No, it is not possible to tell  No, it is not possible to tell  \n",
       "113                              No                              No  \n",
       "151                              No  No, it is not possible to tell  \n",
       "176                             Yes                             Yes  "
      ]
     },
     "execution_count": 10,
     "metadata": {},
     "output_type": "execute_result"
    }
   ],
   "source": [
    "# let's take a look at those not possible to tell\n",
    "df_one[df_one.few_shot_class_2 == 'No, it is not possible to tell']"
   ]
  },
  {
   "cell_type": "markdown",
   "id": "e0b160cd-b1e7-4d22-8a58-bc3e67e5fd86",
   "metadata": {},
   "source": [
    "<span style = 'color:red'>**After few-shot learning, the model started to struggle to give correct classification results, like above.**</span>"
   ]
  },
  {
   "cell_type": "code",
   "execution_count": 109,
   "id": "794607b3-06e6-4eea-8920-8230fe9a7771",
   "metadata": {},
   "outputs": [
    {
     "data": {
      "text/plain": [
       "Yes, it is related to Tesla.       90\n",
       "No                                 75\n",
       "No, it is not possible to tell     24\n",
       "Yes                                11\n",
       "No, it is not related to Tesla.     2\n",
       "Yes, it is related to Pepsi.        2\n",
       "Name: few_shot_class_3, dtype: int64"
      ]
     },
     "execution_count": 109,
     "metadata": {},
     "output_type": "execute_result"
    }
   ],
   "source": [
    "# 3-shots outputs\n",
    "df_one.few_shot_class_3.value_counts()"
   ]
  },
  {
   "cell_type": "code",
   "execution_count": 110,
   "id": "962239a8-c934-43a2-afe8-0ae483f7a822",
   "metadata": {},
   "outputs": [
    {
     "data": {
      "text/plain": [
       "No                                 84\n",
       "Yes                                61\n",
       "Yes, it is related to Tesla.       27\n",
       "No, it is not possible to tell     27\n",
       "No, it is not related to Tesla.     2\n",
       "Yes, it is related to Pepsi.        2\n",
       "Name: few_shot_class_4, dtype: int64"
      ]
     },
     "execution_count": 110,
     "metadata": {},
     "output_type": "execute_result"
    }
   ],
   "source": [
    "# 4-shots outputs\n",
    "df_one.few_shot_class_4.value_counts()"
   ]
  },
  {
   "cell_type": "code",
   "execution_count": 111,
   "id": "08a8b5eb-db37-4bde-8ed3-659e04bdc5ff",
   "metadata": {},
   "outputs": [
    {
     "data": {
      "text/plain": [
       "No, it is not possible to tell     73\n",
       "Yes, it is related to Tesla.       73\n",
       "No                                 30\n",
       "No, it is not related to Tesla.    18\n",
       "Yes                                 5\n",
       "Yes, it is related to Pepsi.        3\n",
       "Name: few_shot_class_5, dtype: int64"
      ]
     },
     "execution_count": 111,
     "metadata": {},
     "output_type": "execute_result"
    }
   ],
   "source": [
    "# 5-shots outputs\n",
    "df_one.few_shot_class_5.value_counts()"
   ]
  },
  {
   "cell_type": "markdown",
   "id": "a1ad4d86-3d3c-446a-bf6e-a2bd1265120a",
   "metadata": {},
   "source": [
    "<span style='color:red'>**The more examples given, the model tended to be more easily confused and provided more \"not possible to tell\" outputs.**</span> "
   ]
  },
  {
   "cell_type": "markdown",
   "id": "dfa756ba-3d01-466c-8a3e-efbe412e1e8b",
   "metadata": {},
   "source": [
    "**Let's assume:**\n",
    "* all \"not possible to tell\" as \"Not related to Tesla\"\n",
    "* all \"related to Pepsi\" as \"Related to Tesla\""
   ]
  },
  {
   "cell_type": "code",
   "execution_count": 11,
   "id": "a6596177-965d-4fb2-8963-325cdfd43b62",
   "metadata": {},
   "outputs": [
    {
     "data": {
      "text/plain": [
       "no     132\n",
       "yes     73\n",
       "Name: few_shot_class_2, dtype: int64"
      ]
     },
     "execution_count": 11,
     "metadata": {},
     "output_type": "execute_result"
    }
   ],
   "source": [
    "# correct the few-shot learning outputs for evaluation\n",
    "df_one['few_shot_class_2'] = df_one['few_shot_class_2'].apply(lambda x: 'yes' if isinstance(x, str) and 'Yes' in x else ('no' if isinstance(x, str) and 'No' in x else x))\n",
    "df_one.few_shot_class_2.value_counts()"
   ]
  },
  {
   "cell_type": "code",
   "execution_count": 12,
   "id": "a46c8861-4c74-436a-9ee8-a44e55e2bbb1",
   "metadata": {},
   "outputs": [
    {
     "data": {
      "text/plain": [
       "yes    103\n",
       "no     101\n",
       "Name: few_shot_class_3, dtype: int64"
      ]
     },
     "execution_count": 12,
     "metadata": {},
     "output_type": "execute_result"
    }
   ],
   "source": [
    "df_one['few_shot_class_3'] = df_one['few_shot_class_3'].apply(lambda x: 'yes' if isinstance(x, str) and 'Yes' in x else ('no' if isinstance(x, str) and 'No' in x else x))\n",
    "df_one.few_shot_class_3.value_counts()"
   ]
  },
  {
   "cell_type": "code",
   "execution_count": 13,
   "id": "e55ba1cb-192c-409e-bccb-a597deb52c76",
   "metadata": {},
   "outputs": [
    {
     "data": {
      "text/plain": [
       "no     113\n",
       "yes     90\n",
       "Name: few_shot_class_4, dtype: int64"
      ]
     },
     "execution_count": 13,
     "metadata": {},
     "output_type": "execute_result"
    }
   ],
   "source": [
    "df_one['few_shot_class_4'] = df_one['few_shot_class_4'].apply(lambda x: 'yes' if isinstance(x, str) and 'Yes' in x else ('no' if isinstance(x, str) and 'No' in x else x))\n",
    "df_one.few_shot_class_4.value_counts()"
   ]
  },
  {
   "cell_type": "code",
   "execution_count": 14,
   "id": "f2346d71-e357-44b0-88f4-7dace7753fd9",
   "metadata": {},
   "outputs": [
    {
     "data": {
      "text/plain": [
       "no     121\n",
       "yes     81\n",
       "Name: few_shot_class_5, dtype: int64"
      ]
     },
     "execution_count": 14,
     "metadata": {},
     "output_type": "execute_result"
    }
   ],
   "source": [
    "df_one['few_shot_class_5'] = df_one['few_shot_class_5'].apply(lambda x: 'yes' if isinstance(x, str) and 'Yes' in x else ('no' if isinstance(x, str) and 'No' in x else x))\n",
    "df_one.few_shot_class_5.value_counts()"
   ]
  },
  {
   "cell_type": "markdown",
   "id": "a24f2ea2-a87f-4e7f-9dc0-ea2a5d489f19",
   "metadata": {},
   "source": [
    "### 2.4.2. Classification Report Comparison"
   ]
  },
  {
   "cell_type": "code",
   "execution_count": 130,
   "id": "c9afc268-183c-4b5e-8cee-18e1a1ee6a25",
   "metadata": {},
   "outputs": [
    {
     "name": "stdout",
     "output_type": "stream",
     "text": [
      "              precision    recall  f1-score   support\n",
      "\n",
      "          no       0.81      0.87      0.84        91\n",
      "         yes       0.89      0.84      0.87       115\n",
      "\n",
      "    accuracy                           0.85       206\n",
      "   macro avg       0.85      0.86      0.85       206\n",
      "weighted avg       0.86      0.85      0.85       206\n",
      "\n"
     ]
    }
   ],
   "source": [
    "cr_1sh = classification_report(df_one.loc[~df_one['one_shot_class'].isnull(), 'tesla_related'], df_one.loc[~df_one['one_shot_class'].isnull(), 'one_shot_class'])\n",
    "print(cr_1sh)"
   ]
  },
  {
   "cell_type": "code",
   "execution_count": 126,
   "id": "96aeaf6f-c0fe-49fc-82ab-78d17c63867f",
   "metadata": {},
   "outputs": [
    {
     "name": "stdout",
     "output_type": "stream",
     "text": [
      "              precision    recall  f1-score   support\n",
      "\n",
      "          no       0.66      0.98      0.79        89\n",
      "         yes       0.97      0.61      0.75       116\n",
      "\n",
      "    accuracy                           0.77       205\n",
      "   macro avg       0.82      0.79      0.77       205\n",
      "weighted avg       0.84      0.77      0.77       205\n",
      "\n"
     ]
    }
   ],
   "source": [
    "cr_2sh = classification_report(df_one.loc[~df_one['few_shot_class_2'].isnull(), 'tesla_related'], df_one.loc[~df_one['few_shot_class_2'].isnull(), 'few_shot_class_2'])\n",
    "print(cr_2sh)"
   ]
  },
  {
   "cell_type": "code",
   "execution_count": 127,
   "id": "7a3883ef-4eaa-4089-adab-ab471eb6bb2f",
   "metadata": {},
   "outputs": [
    {
     "name": "stdout",
     "output_type": "stream",
     "text": [
      "              precision    recall  f1-score   support\n",
      "\n",
      "          no       0.79      0.88      0.83        91\n",
      "         yes       0.89      0.81      0.85       113\n",
      "\n",
      "    accuracy                           0.84       204\n",
      "   macro avg       0.84      0.85      0.84       204\n",
      "weighted avg       0.85      0.84      0.84       204\n",
      "\n"
     ]
    }
   ],
   "source": [
    "cr_3sh = classification_report(df_one.loc[~df_one['few_shot_class_3'].isnull(), 'tesla_related'], df_one.loc[~df_one['few_shot_class_3'].isnull(), 'few_shot_class_3'])\n",
    "print(cr_3sh)"
   ]
  },
  {
   "cell_type": "code",
   "execution_count": 128,
   "id": "af82d4c3-d69c-46c5-a053-635f2f126fea",
   "metadata": {},
   "outputs": [
    {
     "name": "stdout",
     "output_type": "stream",
     "text": [
      "              precision    recall  f1-score   support\n",
      "\n",
      "          no       0.75      0.94      0.84        90\n",
      "         yes       0.94      0.75      0.84       113\n",
      "\n",
      "    accuracy                           0.84       203\n",
      "   macro avg       0.85      0.85      0.84       203\n",
      "weighted avg       0.86      0.84      0.84       203\n",
      "\n"
     ]
    }
   ],
   "source": [
    "cr_4sh = classification_report(df_one.loc[~df_one['few_shot_class_4'].isnull(), 'tesla_related'], df_one.loc[~df_one['few_shot_class_4'].isnull(), 'few_shot_class_4'])\n",
    "print(cr_4sh)"
   ]
  },
  {
   "cell_type": "code",
   "execution_count": 129,
   "id": "4dd7d7e6-97ef-4104-a54f-f459b1702946",
   "metadata": {},
   "outputs": [
    {
     "name": "stdout",
     "output_type": "stream",
     "text": [
      "              precision    recall  f1-score   support\n",
      "\n",
      "          no       0.70      0.94      0.81        90\n",
      "         yes       0.94      0.68      0.79       112\n",
      "\n",
      "    accuracy                           0.80       202\n",
      "   macro avg       0.82      0.81      0.80       202\n",
      "weighted avg       0.83      0.80      0.80       202\n",
      "\n"
     ]
    }
   ],
   "source": [
    "cr_5sh = classification_report(df_one.loc[~df_one['few_shot_class_5'].isnull(), 'tesla_related'], df_one.loc[~df_one['few_shot_class_5'].isnull(), 'few_shot_class_5'])\n",
    "print(cr_5sh)"
   ]
  },
  {
   "cell_type": "markdown",
   "id": "707f0285-1540-437b-9f73-70b9cee95a00",
   "metadata": {},
   "source": [
    "<span style='color: green'>**Summary:**</span>\n",
    "* One-shot learning showed the best performance with highest accuracy (for balanced binary classes).\n",
    "* Including more examples in the prompt (few-shot learning) didn't improve the overall accuracy.\n",
    "* Few-shot learning showed high precision for 'yes' and high recall for 'no'.\n",
    "    * high precision for 'yes' mean most predicted 'yes' are true 'yes', but there are possible true 'yes' predicted as 'no'.\n",
    "    * high recall for 'no' mean most true 'no' are predicted as 'no', but there are possible true 'yes' predicted as 'no'.\n",
    "* All few-shot learning suffered from mislabeling true 'yes' as 'no', which is a big issue for our sentiment analysis.\n",
    "* There were additional assumptions made to intepret few-shot learning model outputs.\n",
    "* For our sentiment analysis, better go with one-shot in-context learning Flan-T5 model."
   ]
  },
  {
   "cell_type": "code",
   "execution_count": 133,
   "id": "3c0d45e4-33c3-4800-aac2-b943800b8024",
   "metadata": {},
   "outputs": [
    {
     "data": {
      "text/plain": [
       "array([[79, 12],\n",
       "       [18, 97]], dtype=int64)"
      ]
     },
     "execution_count": 133,
     "metadata": {},
     "output_type": "execute_result"
    }
   ],
   "source": [
    "# plot confusion matrix for one-shot learning\n",
    "cm_1sh = confusion_matrix(df_one.loc[~df_one['one_shot_class'].isnull(), 'tesla_related'], df_one.loc[~df_one['one_shot_class'].isnull(), 'one_shot_class'])\n",
    "cm_1sh"
   ]
  },
  {
   "cell_type": "code",
   "execution_count": 140,
   "id": "6b08f2e8-ef7e-44e5-86bb-8472ef668466",
   "metadata": {},
   "outputs": [
    {
     "data": {
      "image/png": "[encoded data removed]",
      "text/plain": [
       "<Figure size 640x480 with 2 Axes>"
      ]
     },
     "metadata": {},
     "output_type": "display_data"
    }
   ],
   "source": [
    "# define a function to plot confusion matrix\n",
    "labels = ['Not related to Tesla', 'Related to Tesla']\n",
    "sns.heatmap(cm_1sh, annot = True, xticklabels = labels, yticklabels = labels)\n",
    "\n",
    "plt.xlabel('Predicted Label', fontsize = 12)\n",
    "plt.ylabel('True Label', fontsize = 12)\n",
    "plt.title('Confusion Matrix for One-shot Learning Flan-T5', pad = 10)\n",
    "\n",
    "plt.show()"
   ]
  },
  {
   "cell_type": "markdown",
   "id": "925ededc-69c8-447f-96cf-a12702734f8a",
   "metadata": {},
   "source": [
    "## 2.5. Classification for All"
   ]
  },
  {
   "cell_type": "code",
   "execution_count": 15,
   "id": "75da1c26-330e-4df7-ba29-e712937fc7a2",
   "metadata": {},
   "outputs": [
    {
     "data": {
      "text/html": [
       "<div>\n",
       "<style scoped>\n",
       "    .dataframe tbody tr th:only-of-type {\n",
       "        vertical-align: middle;\n",
       "    }\n",
       "\n",
       "    .dataframe tbody tr th {\n",
       "        vertical-align: top;\n",
       "    }\n",
       "\n",
       "    .dataframe thead th {\n",
       "        text-align: right;\n",
       "    }\n",
       "</style>\n",
       "<table border=\"1\" class=\"dataframe\">\n",
       "  <thead>\n",
       "    <tr style=\"text-align: right;\">\n",
       "      <th></th>\n",
       "      <th>source_name</th>\n",
       "      <th>author</th>\n",
       "      <th>date</th>\n",
       "      <th>title</th>\n",
       "      <th>description</th>\n",
       "      <th>content</th>\n",
       "      <th>label</th>\n",
       "      <th>tesla_related</th>\n",
       "      <th>tesla_related_num</th>\n",
       "      <th>sentiment_label_num</th>\n",
       "      <th>title_desc</th>\n",
       "      <th>one_shot_class</th>\n",
       "      <th>few_shot_class_2</th>\n",
       "      <th>few_shot_class_3</th>\n",
       "      <th>few_shot_class_4</th>\n",
       "      <th>few_shot_class_5</th>\n",
       "    </tr>\n",
       "  </thead>\n",
       "  <tbody>\n",
       "    <tr>\n",
       "      <th>46</th>\n",
       "      <td>Next Big Future</td>\n",
       "      <td>Brian Wang</td>\n",
       "      <td>9/15/2023</td>\n",
       "      <td>Tesla Breakthrough 3D Printing With Sand For S...</td>\n",
       "      <td>Reuters reports that Tesla has combined a seri...</td>\n",
       "      <td>Reuters reports that Tesla has combined a seri...</td>\n",
       "      <td>positive</td>\n",
       "      <td>yes</td>\n",
       "      <td>1</td>\n",
       "      <td>2</td>\n",
       "      <td>Tesla Breakthrough 3D Printing With Sand For S...</td>\n",
       "      <td>NaN</td>\n",
       "      <td>no</td>\n",
       "      <td>yes</td>\n",
       "      <td>yes</td>\n",
       "      <td>yes</td>\n",
       "    </tr>\n",
       "  </tbody>\n",
       "</table>\n",
       "</div>"
      ],
      "text/plain": [
       "        source_name      author       date  \\\n",
       "46  Next Big Future  Brian Wang  9/15/2023   \n",
       "\n",
       "                                                title  \\\n",
       "46  Tesla Breakthrough 3D Printing With Sand For S...   \n",
       "\n",
       "                                          description  \\\n",
       "46  Reuters reports that Tesla has combined a seri...   \n",
       "\n",
       "                                              content     label tesla_related  \\\n",
       "46  Reuters reports that Tesla has combined a seri...  positive           yes   \n",
       "\n",
       "    tesla_related_num  sentiment_label_num  \\\n",
       "46                  1                    2   \n",
       "\n",
       "                                           title_desc one_shot_class  \\\n",
       "46  Tesla Breakthrough 3D Printing With Sand For S...            NaN   \n",
       "\n",
       "   few_shot_class_2 few_shot_class_3 few_shot_class_4 few_shot_class_5  \n",
       "46               no              yes              yes              yes  "
      ]
     },
     "execution_count": 15,
     "metadata": {},
     "output_type": "execute_result"
    }
   ],
   "source": [
    "# extract the example shot\n",
    "example_shot = df_one[df_one['one_shot_class'].isnull()]\n",
    "example_shot"
   ]
  },
  {
   "cell_type": "code",
   "execution_count": 16,
   "id": "82e6f413-f455-43d4-9ef2-eca232855b5d",
   "metadata": {},
   "outputs": [],
   "source": [
    "# modify the one_shot_class function\n",
    "def one_shot_class_m(data, example):\n",
    "    for i in range(data.shape[0]):\n",
    "        try:\n",
    "            context = data.iloc[i]['title_desc']\n",
    "            prompt = make_prompt(example, context) \n",
    "    \n",
    "            inputs = tokenizer(prompt, return_tensors = 'pt')\n",
    "            output = tokenizer.decode(\n",
    "                model.generate(inputs['input_ids'], max_new_tokens = 20)[0],\n",
    "                skip_special_tokens = True\n",
    "            )\n",
    "            data.loc[i, 'one_shot_class'] = output\n",
    "        except:\n",
    "            print(f'index {i} has error')\n",
    "    return data"
   ]
  },
  {
   "cell_type": "code",
   "execution_count": 17,
   "id": "bb2e8021-bfda-4d09-a55e-2bb75823fa32",
   "metadata": {},
   "outputs": [
    {
     "data": {
      "text/html": [
       "<div>\n",
       "<style scoped>\n",
       "    .dataframe tbody tr th:only-of-type {\n",
       "        vertical-align: middle;\n",
       "    }\n",
       "\n",
       "    .dataframe tbody tr th {\n",
       "        vertical-align: top;\n",
       "    }\n",
       "\n",
       "    .dataframe thead th {\n",
       "        text-align: right;\n",
       "    }\n",
       "</style>\n",
       "<table border=\"1\" class=\"dataframe\">\n",
       "  <thead>\n",
       "    <tr style=\"text-align: right;\">\n",
       "      <th></th>\n",
       "      <th>source_name</th>\n",
       "      <th>author</th>\n",
       "      <th>date</th>\n",
       "      <th>title</th>\n",
       "      <th>description</th>\n",
       "      <th>content</th>\n",
       "    </tr>\n",
       "  </thead>\n",
       "  <tbody>\n",
       "    <tr>\n",
       "      <th>0</th>\n",
       "      <td>Business Insider</td>\n",
       "      <td>ssheth@businessinsider.com (Sonam Sheth)</td>\n",
       "      <td>9/12/2023</td>\n",
       "      <td>Elon Musk learned hypnosis as a child and mana...</td>\n",
       "      <td>Elon Musk learned magic tricks and hypnosis as...</td>\n",
       "      <td>When Elon Musk was a kid, he learned hypnosis ...</td>\n",
       "    </tr>\n",
       "    <tr>\n",
       "      <th>1</th>\n",
       "      <td>Fortune</td>\n",
       "      <td>Paige Hagy</td>\n",
       "      <td>9/12/2023</td>\n",
       "      <td>Elon Musk lives life like hes playing a video...</td>\n",
       "      <td>\"Elon Musk,\" a biography that recounts the chi...</td>\n",
       "      <td>Elon Musk had just finished playing a video ga...</td>\n",
       "    </tr>\n",
       "    <tr>\n",
       "      <th>2</th>\n",
       "      <td>CNN</td>\n",
       "      <td>Paul Glader</td>\n",
       "      <td>9/12/2023</td>\n",
       "      <td>Four takeaways from Walter Isaacson's biograph...</td>\n",
       "      <td>\"You'll never be successful,\" Errol Musk in 19...</td>\n",
       "      <td>Youll never be successful, Errol Musk in 1989 ...</td>\n",
       "    </tr>\n",
       "    <tr>\n",
       "      <th>3</th>\n",
       "      <td>Business Insider</td>\n",
       "      <td>Grace Dean</td>\n",
       "      <td>9/12/2023</td>\n",
       "      <td>After Elon Musk spoke to Neuralink director Sh...</td>\n",
       "      <td>Zilis said that choosing to have Musk as a spe...</td>\n",
       "      <td>nullChesnot/Getty Images\\n&lt;ul&gt;&lt;li&gt;Elon Musk an...</td>\n",
       "    </tr>\n",
       "    <tr>\n",
       "      <th>4</th>\n",
       "      <td>Financial Post</td>\n",
       "      <td>Bloomberg News</td>\n",
       "      <td>9/12/2023</td>\n",
       "      <td>Tesla gets $80-billion boost from analyst call...</td>\n",
       "      <td>Some investors find Tesla Inc.'s $500-billion ...</td>\n",
       "      <td>Some investors find the $500-billion projectio...</td>\n",
       "    </tr>\n",
       "  </tbody>\n",
       "</table>\n",
       "</div>"
      ],
      "text/plain": [
       "        source_name                                    author       date  \\\n",
       "0  Business Insider  ssheth@businessinsider.com (Sonam Sheth)  9/12/2023   \n",
       "1           Fortune                                Paige Hagy  9/12/2023   \n",
       "2               CNN                               Paul Glader  9/12/2023   \n",
       "3  Business Insider                                Grace Dean  9/12/2023   \n",
       "4    Financial Post                            Bloomberg News  9/12/2023   \n",
       "\n",
       "                                               title  \\\n",
       "0  Elon Musk learned hypnosis as a child and mana...   \n",
       "1  Elon Musk lives life like hes playing a video...   \n",
       "2  Four takeaways from Walter Isaacson's biograph...   \n",
       "3  After Elon Musk spoke to Neuralink director Sh...   \n",
       "4  Tesla gets $80-billion boost from analyst call...   \n",
       "\n",
       "                                         description  \\\n",
       "0  Elon Musk learned magic tricks and hypnosis as...   \n",
       "1  \"Elon Musk,\" a biography that recounts the chi...   \n",
       "2  \"You'll never be successful,\" Errol Musk in 19...   \n",
       "3  Zilis said that choosing to have Musk as a spe...   \n",
       "4  Some investors find Tesla Inc.'s $500-billion ...   \n",
       "\n",
       "                                             content  \n",
       "0  When Elon Musk was a kid, he learned hypnosis ...  \n",
       "1  Elon Musk had just finished playing a video ga...  \n",
       "2  Youll never be successful, Errol Musk in 1989 ...  \n",
       "3  nullChesnot/Getty Images\\n<ul><li>Elon Musk an...  \n",
       "4  Some investors find the $500-billion projectio...  "
      ]
     },
     "execution_count": 17,
     "metadata": {},
     "output_type": "execute_result"
    }
   ],
   "source": [
    "# read in the rest of data without manual labels\n",
    "df_rest = pd.read_csv('../data/Tesla_news_no_labels.csv', encoding = 'latin1', index_col = 0)\n",
    "df_rest.head()"
   ]
  },
  {
   "cell_type": "code",
   "execution_count": 18,
   "id": "9beecaae-fc30-44e4-b5f4-8ee29ce7ec78",
   "metadata": {},
   "outputs": [
    {
     "data": {
      "text/html": [
       "<div>\n",
       "<style scoped>\n",
       "    .dataframe tbody tr th:only-of-type {\n",
       "        vertical-align: middle;\n",
       "    }\n",
       "\n",
       "    .dataframe tbody tr th {\n",
       "        vertical-align: top;\n",
       "    }\n",
       "\n",
       "    .dataframe thead th {\n",
       "        text-align: right;\n",
       "    }\n",
       "</style>\n",
       "<table border=\"1\" class=\"dataframe\">\n",
       "  <thead>\n",
       "    <tr style=\"text-align: right;\">\n",
       "      <th></th>\n",
       "      <th>source_name</th>\n",
       "      <th>author</th>\n",
       "      <th>date</th>\n",
       "      <th>title</th>\n",
       "      <th>description</th>\n",
       "      <th>content</th>\n",
       "      <th>title_desc</th>\n",
       "    </tr>\n",
       "  </thead>\n",
       "  <tbody>\n",
       "    <tr>\n",
       "      <th>133</th>\n",
       "      <td>Newsweek</td>\n",
       "      <td>Eileen Falkenberg-Hull</td>\n",
       "      <td>10/9/2023</td>\n",
       "      <td>Partnership Has Mercedes Reimagining Space Tra...</td>\n",
       "      <td>A partnership between Mercedes-Maybach and Spa...</td>\n",
       "      <td>There's no Mercedes floating around in Space l...</td>\n",
       "      <td>Partnership Has Mercedes Reimagining Space Tra...</td>\n",
       "    </tr>\n",
       "    <tr>\n",
       "      <th>134</th>\n",
       "      <td>Reuters</td>\n",
       "      <td>Chris Prentice</td>\n",
       "      <td>10/9/2023</td>\n",
       "      <td>Analysis: Why the SEC might win its latest bat...</td>\n",
       "      <td>The U.S. Securities and Exchange Commission (S...</td>\n",
       "      <td>WASHINGTON, Oct 9 (Reuters) - The U.S. Securit...</td>\n",
       "      <td>Analysis: Why the SEC might win its latest bat...</td>\n",
       "    </tr>\n",
       "    <tr>\n",
       "      <th>135</th>\n",
       "      <td>News24</td>\n",
       "      <td>news24</td>\n",
       "      <td>10/9/2023</td>\n",
       "      <td>News24 | A list of Elon Musk's legal entanglem...</td>\n",
       "      <td>Here's a look at Elon Musk's growing legal cha...</td>\n",
       "      <td>&lt;ul&gt;&lt;li&gt;Below is a list of Elon Musk's legal e...</td>\n",
       "      <td>News24 | A list of Elon Musk's legal entanglem...</td>\n",
       "    </tr>\n",
       "    <tr>\n",
       "      <th>136</th>\n",
       "      <td>The Irish Times</td>\n",
       "      <td>Proinsias O'Mahony</td>\n",
       "      <td>10/10/2023</td>\n",
       "      <td>Magnificent seven stocks are keeping indices a...</td>\n",
       "      <td>While the S&amp;P 500 is still up 11% this year, i...</td>\n",
       "      <td>The so-called magnificent seven tech giants Ap...</td>\n",
       "      <td>Magnificent seven stocks are keeping indices a...</td>\n",
       "    </tr>\n",
       "    <tr>\n",
       "      <th>137</th>\n",
       "      <td>Business Insider</td>\n",
       "      <td>psyme@insider.com (Pete Syme)</td>\n",
       "      <td>10/11/2023</td>\n",
       "      <td>Tesla rejected a major union's claims of healt...</td>\n",
       "      <td>Tesla workers at the Berlin Gigafactory have s...</td>\n",
       "      <td>Tesla has denied accusations from a German uni...</td>\n",
       "      <td>Tesla rejected a major union's claims of healt...</td>\n",
       "    </tr>\n",
       "  </tbody>\n",
       "</table>\n",
       "</div>"
      ],
      "text/plain": [
       "          source_name                         author        date  \\\n",
       "133          Newsweek         Eileen Falkenberg-Hull   10/9/2023   \n",
       "134           Reuters                 Chris Prentice   10/9/2023   \n",
       "135            News24                         news24   10/9/2023   \n",
       "136   The Irish Times             Proinsias O'Mahony  10/10/2023   \n",
       "137  Business Insider  psyme@insider.com (Pete Syme)  10/11/2023   \n",
       "\n",
       "                                                 title  \\\n",
       "133  Partnership Has Mercedes Reimagining Space Tra...   \n",
       "134  Analysis: Why the SEC might win its latest bat...   \n",
       "135  News24 | A list of Elon Musk's legal entanglem...   \n",
       "136  Magnificent seven stocks are keeping indices a...   \n",
       "137  Tesla rejected a major union's claims of healt...   \n",
       "\n",
       "                                           description  \\\n",
       "133  A partnership between Mercedes-Maybach and Spa...   \n",
       "134  The U.S. Securities and Exchange Commission (S...   \n",
       "135  Here's a look at Elon Musk's growing legal cha...   \n",
       "136  While the S&P 500 is still up 11% this year, i...   \n",
       "137  Tesla workers at the Berlin Gigafactory have s...   \n",
       "\n",
       "                                               content  \\\n",
       "133  There's no Mercedes floating around in Space l...   \n",
       "134  WASHINGTON, Oct 9 (Reuters) - The U.S. Securit...   \n",
       "135  <ul><li>Below is a list of Elon Musk's legal e...   \n",
       "136  The so-called magnificent seven tech giants Ap...   \n",
       "137  Tesla has denied accusations from a German uni...   \n",
       "\n",
       "                                            title_desc  \n",
       "133  Partnership Has Mercedes Reimagining Space Tra...  \n",
       "134  Analysis: Why the SEC might win its latest bat...  \n",
       "135  News24 | A list of Elon Musk's legal entanglem...  \n",
       "136  Magnificent seven stocks are keeping indices a...  \n",
       "137  Tesla rejected a major union's claims of healt...  "
      ]
     },
     "execution_count": 18,
     "metadata": {},
     "output_type": "execute_result"
    }
   ],
   "source": [
    "# create `title_desc` col\n",
    "df_rest['title_desc'] = df_rest['title'].map(str) + ' ' + df_rest['description'].map(str)\n",
    "df_rest.tail()"
   ]
  },
  {
   "cell_type": "code",
   "execution_count": 19,
   "id": "fdc437ed-7101-46fe-83b5-27ea6763b1a8",
   "metadata": {},
   "outputs": [
    {
     "name": "stdout",
     "output_type": "stream",
     "text": [
      "<class 'pandas.core.frame.DataFrame'>\n",
      "Int64Index: 138 entries, 0 to 137\n",
      "Data columns (total 7 columns):\n",
      " #   Column       Non-Null Count  Dtype \n",
      "---  ------       --------------  ----- \n",
      " 0   source_name  138 non-null    object\n",
      " 1   author       135 non-null    object\n",
      " 2   date         138 non-null    object\n",
      " 3   title        138 non-null    object\n",
      " 4   description  138 non-null    object\n",
      " 5   content      138 non-null    object\n",
      " 6   title_desc   138 non-null    object\n",
      "dtypes: object(7)\n",
      "memory usage: 8.6+ KB\n"
     ]
    }
   ],
   "source": [
    "df_rest.info()"
   ]
  },
  {
   "cell_type": "code",
   "execution_count": 23,
   "id": "4a4de8d7-11da-4210-9879-b9fae2e85c2d",
   "metadata": {},
   "outputs": [
    {
     "data": {
      "text/html": [
       "<div>\n",
       "<style scoped>\n",
       "    .dataframe tbody tr th:only-of-type {\n",
       "        vertical-align: middle;\n",
       "    }\n",
       "\n",
       "    .dataframe tbody tr th {\n",
       "        vertical-align: top;\n",
       "    }\n",
       "\n",
       "    .dataframe thead th {\n",
       "        text-align: right;\n",
       "    }\n",
       "</style>\n",
       "<table border=\"1\" class=\"dataframe\">\n",
       "  <thead>\n",
       "    <tr style=\"text-align: right;\">\n",
       "      <th></th>\n",
       "      <th>source_name</th>\n",
       "      <th>author</th>\n",
       "      <th>date</th>\n",
       "      <th>title</th>\n",
       "      <th>description</th>\n",
       "      <th>content</th>\n",
       "      <th>title_desc</th>\n",
       "      <th>one_shot_class</th>\n",
       "    </tr>\n",
       "  </thead>\n",
       "  <tbody>\n",
       "    <tr>\n",
       "      <th>0</th>\n",
       "      <td>Business Insider</td>\n",
       "      <td>ssheth@businessinsider.com (Sonam Sheth)</td>\n",
       "      <td>9/12/2023</td>\n",
       "      <td>Elon Musk learned hypnosis as a child and mana...</td>\n",
       "      <td>Elon Musk learned magic tricks and hypnosis as...</td>\n",
       "      <td>When Elon Musk was a kid, he learned hypnosis ...</td>\n",
       "      <td>Elon Musk learned hypnosis as a child and mana...</td>\n",
       "      <td>Yes</td>\n",
       "    </tr>\n",
       "    <tr>\n",
       "      <th>1</th>\n",
       "      <td>Fortune</td>\n",
       "      <td>Paige Hagy</td>\n",
       "      <td>9/12/2023</td>\n",
       "      <td>Elon Musk lives life like hes playing a video...</td>\n",
       "      <td>\"Elon Musk,\" a biography that recounts the chi...</td>\n",
       "      <td>Elon Musk had just finished playing a video ga...</td>\n",
       "      <td>Elon Musk lives life like hes playing a video...</td>\n",
       "      <td>No</td>\n",
       "    </tr>\n",
       "    <tr>\n",
       "      <th>2</th>\n",
       "      <td>CNN</td>\n",
       "      <td>Paul Glader</td>\n",
       "      <td>9/12/2023</td>\n",
       "      <td>Four takeaways from Walter Isaacson's biograph...</td>\n",
       "      <td>\"You'll never be successful,\" Errol Musk in 19...</td>\n",
       "      <td>Youll never be successful, Errol Musk in 1989 ...</td>\n",
       "      <td>Four takeaways from Walter Isaacson's biograph...</td>\n",
       "      <td>No</td>\n",
       "    </tr>\n",
       "    <tr>\n",
       "      <th>3</th>\n",
       "      <td>Business Insider</td>\n",
       "      <td>Grace Dean</td>\n",
       "      <td>9/12/2023</td>\n",
       "      <td>After Elon Musk spoke to Neuralink director Sh...</td>\n",
       "      <td>Zilis said that choosing to have Musk as a spe...</td>\n",
       "      <td>nullChesnot/Getty Images\\n&lt;ul&gt;&lt;li&gt;Elon Musk an...</td>\n",
       "      <td>After Elon Musk spoke to Neuralink director Sh...</td>\n",
       "      <td>No</td>\n",
       "    </tr>\n",
       "    <tr>\n",
       "      <th>4</th>\n",
       "      <td>Financial Post</td>\n",
       "      <td>Bloomberg News</td>\n",
       "      <td>9/12/2023</td>\n",
       "      <td>Tesla gets $80-billion boost from analyst call...</td>\n",
       "      <td>Some investors find Tesla Inc.'s $500-billion ...</td>\n",
       "      <td>Some investors find the $500-billion projectio...</td>\n",
       "      <td>Tesla gets $80-billion boost from analyst call...</td>\n",
       "      <td>Yes</td>\n",
       "    </tr>\n",
       "  </tbody>\n",
       "</table>\n",
       "</div>"
      ],
      "text/plain": [
       "        source_name                                    author       date  \\\n",
       "0  Business Insider  ssheth@businessinsider.com (Sonam Sheth)  9/12/2023   \n",
       "1           Fortune                                Paige Hagy  9/12/2023   \n",
       "2               CNN                               Paul Glader  9/12/2023   \n",
       "3  Business Insider                                Grace Dean  9/12/2023   \n",
       "4    Financial Post                            Bloomberg News  9/12/2023   \n",
       "\n",
       "                                               title  \\\n",
       "0  Elon Musk learned hypnosis as a child and mana...   \n",
       "1  Elon Musk lives life like hes playing a video...   \n",
       "2  Four takeaways from Walter Isaacson's biograph...   \n",
       "3  After Elon Musk spoke to Neuralink director Sh...   \n",
       "4  Tesla gets $80-billion boost from analyst call...   \n",
       "\n",
       "                                         description  \\\n",
       "0  Elon Musk learned magic tricks and hypnosis as...   \n",
       "1  \"Elon Musk,\" a biography that recounts the chi...   \n",
       "2  \"You'll never be successful,\" Errol Musk in 19...   \n",
       "3  Zilis said that choosing to have Musk as a spe...   \n",
       "4  Some investors find Tesla Inc.'s $500-billion ...   \n",
       "\n",
       "                                             content  \\\n",
       "0  When Elon Musk was a kid, he learned hypnosis ...   \n",
       "1  Elon Musk had just finished playing a video ga...   \n",
       "2  Youll never be successful, Errol Musk in 1989 ...   \n",
       "3  nullChesnot/Getty Images\\n<ul><li>Elon Musk an...   \n",
       "4  Some investors find the $500-billion projectio...   \n",
       "\n",
       "                                          title_desc one_shot_class  \n",
       "0  Elon Musk learned hypnosis as a child and mana...            Yes  \n",
       "1  Elon Musk lives life like hes playing a video...             No  \n",
       "2  Four takeaways from Walter Isaacson's biograph...             No  \n",
       "3  After Elon Musk spoke to Neuralink director Sh...             No  \n",
       "4  Tesla gets $80-billion boost from analyst call...            Yes  "
      ]
     },
     "execution_count": 23,
     "metadata": {},
     "output_type": "execute_result"
    }
   ],
   "source": [
    "# get classification labels\n",
    "df_rest = one_shot_class_m(df_rest, example_shot)\n",
    "df_rest.head()"
   ]
  },
  {
   "cell_type": "code",
   "execution_count": 24,
   "id": "4915d308-574f-45a5-bbf7-a86009308939",
   "metadata": {},
   "outputs": [
    {
     "data": {
      "text/plain": [
       "Yes                              75\n",
       "No                               61\n",
       "Yes, it is related to Oracle.     1\n",
       "no                                1\n",
       "Name: one_shot_class, dtype: int64"
      ]
     },
     "execution_count": 24,
     "metadata": {},
     "output_type": "execute_result"
    }
   ],
   "source": [
    "df_rest.one_shot_class.value_counts()"
   ]
  },
  {
   "cell_type": "code",
   "execution_count": 25,
   "id": "b88897e5-27f4-4766-aae3-fbc3fb6284fe",
   "metadata": {},
   "outputs": [
    {
     "data": {
      "text/plain": [
       "yes    76\n",
       "no     62\n",
       "Name: one_shot_class, dtype: int64"
      ]
     },
     "execution_count": 25,
     "metadata": {},
     "output_type": "execute_result"
    }
   ],
   "source": [
    "# correct the outputs to 'yes' and 'no'\n",
    "df_rest['one_shot_class'] = df_rest['one_shot_class'].apply(lambda x: 'yes' if isinstance(x, str) and 'Yes' in x else ('no' if isinstance(x, str) and 'No' in x else x))\n",
    "df_rest.one_shot_class.value_counts()"
   ]
  },
  {
   "cell_type": "code",
   "execution_count": 26,
   "id": "3cca6aa0-03f0-4401-af53-d705fd4fc739",
   "metadata": {},
   "outputs": [
    {
     "data": {
      "text/html": [
       "<div>\n",
       "<style scoped>\n",
       "    .dataframe tbody tr th:only-of-type {\n",
       "        vertical-align: middle;\n",
       "    }\n",
       "\n",
       "    .dataframe tbody tr th {\n",
       "        vertical-align: top;\n",
       "    }\n",
       "\n",
       "    .dataframe thead th {\n",
       "        text-align: right;\n",
       "    }\n",
       "</style>\n",
       "<table border=\"1\" class=\"dataframe\">\n",
       "  <thead>\n",
       "    <tr style=\"text-align: right;\">\n",
       "      <th></th>\n",
       "      <th>source_name</th>\n",
       "      <th>author</th>\n",
       "      <th>date</th>\n",
       "      <th>title</th>\n",
       "      <th>description</th>\n",
       "      <th>content</th>\n",
       "      <th>title_desc</th>\n",
       "      <th>one_shot_class</th>\n",
       "      <th>tesla_related</th>\n",
       "      <th>label</th>\n",
       "    </tr>\n",
       "  </thead>\n",
       "  <tbody>\n",
       "    <tr>\n",
       "      <th>0</th>\n",
       "      <td>Fortune</td>\n",
       "      <td>Jane Thier</td>\n",
       "      <td>9/12/2023</td>\n",
       "      <td>How Elon Musk lost a friend over AI: Google co...</td>\n",
       "      <td>After Musk tried to sabotage Googles acquisit...</td>\n",
       "      <td>Teslas Elon Musk and Googles Larry Page dont t...</td>\n",
       "      <td>How Elon Musk lost a friend over AI: Google co...</td>\n",
       "      <td>yes</td>\n",
       "      <td>yes</td>\n",
       "      <td>neutral</td>\n",
       "    </tr>\n",
       "    <tr>\n",
       "      <th>1</th>\n",
       "      <td>Next Big Future</td>\n",
       "      <td>Brian Wang</td>\n",
       "      <td>9/12/2023</td>\n",
       "      <td>Bill Gates Tries to Profit by Driving Down Tes...</td>\n",
       "      <td>Bill Gates bet billions against Tesla in a met...</td>\n",
       "      <td>Bill Gates bet billions against Tesla in a met...</td>\n",
       "      <td>Bill Gates Tries to Profit by Driving Down Tes...</td>\n",
       "      <td>yes</td>\n",
       "      <td>yes</td>\n",
       "      <td>negative</td>\n",
       "    </tr>\n",
       "    <tr>\n",
       "      <th>2</th>\n",
       "      <td>The Jerusalem Post</td>\n",
       "      <td>By REUTERS</td>\n",
       "      <td>9/12/2023</td>\n",
       "      <td>Putin hails Elon Musk as an 'outstanding perso...</td>\n",
       "      <td>The Russian leader said Moscow planned to pers...</td>\n",
       "      <td>Russian President Vladimir Putin on Tuesday ha...</td>\n",
       "      <td>Putin hails Elon Musk as an 'outstanding perso...</td>\n",
       "      <td>no</td>\n",
       "      <td>no</td>\n",
       "      <td>neutral</td>\n",
       "    </tr>\n",
       "    <tr>\n",
       "      <th>3</th>\n",
       "      <td>Fortune</td>\n",
       "      <td>Rachyl Jones</td>\n",
       "      <td>9/12/2023</td>\n",
       "      <td>What do donkeys, dragons and Hawaii have in co...</td>\n",
       "      <td>Musks purchase of Twitter fed his constant ne...</td>\n",
       "      <td>Elon Musk lives for the drama. Thats evident i...</td>\n",
       "      <td>What do donkeys, dragons and Hawaii have in co...</td>\n",
       "      <td>no</td>\n",
       "      <td>no</td>\n",
       "      <td>neutral</td>\n",
       "    </tr>\n",
       "    <tr>\n",
       "      <th>4</th>\n",
       "      <td>Fortune</td>\n",
       "      <td>Christiaan Hetzner</td>\n",
       "      <td>9/12/2023</td>\n",
       "      <td>Elon Musks supercomputer Dojo added $70 billi...</td>\n",
       "      <td>Elon Musk's Tesla share price has jumped the e...</td>\n",
       "      <td>Teslas gonzo market cap is so enormous that it...</td>\n",
       "      <td>Elon Musks supercomputer Dojo added $70 billi...</td>\n",
       "      <td>yes</td>\n",
       "      <td>yes</td>\n",
       "      <td>positive</td>\n",
       "    </tr>\n",
       "  </tbody>\n",
       "</table>\n",
       "</div>"
      ],
      "text/plain": [
       "          source_name              author       date  \\\n",
       "0             Fortune          Jane Thier  9/12/2023   \n",
       "1     Next Big Future          Brian Wang  9/12/2023   \n",
       "2  The Jerusalem Post          By REUTERS  9/12/2023   \n",
       "3             Fortune        Rachyl Jones  9/12/2023   \n",
       "4             Fortune  Christiaan Hetzner  9/12/2023   \n",
       "\n",
       "                                               title  \\\n",
       "0  How Elon Musk lost a friend over AI: Google co...   \n",
       "1  Bill Gates Tries to Profit by Driving Down Tes...   \n",
       "2  Putin hails Elon Musk as an 'outstanding perso...   \n",
       "3  What do donkeys, dragons and Hawaii have in co...   \n",
       "4  Elon Musks supercomputer Dojo added $70 billi...   \n",
       "\n",
       "                                         description  \\\n",
       "0  After Musk tried to sabotage Googles acquisit...   \n",
       "1  Bill Gates bet billions against Tesla in a met...   \n",
       "2  The Russian leader said Moscow planned to pers...   \n",
       "3  Musks purchase of Twitter fed his constant ne...   \n",
       "4  Elon Musk's Tesla share price has jumped the e...   \n",
       "\n",
       "                                             content  \\\n",
       "0  Teslas Elon Musk and Googles Larry Page dont t...   \n",
       "1  Bill Gates bet billions against Tesla in a met...   \n",
       "2  Russian President Vladimir Putin on Tuesday ha...   \n",
       "3  Elon Musk lives for the drama. Thats evident i...   \n",
       "4  Teslas gonzo market cap is so enormous that it...   \n",
       "\n",
       "                                          title_desc one_shot_class  \\\n",
       "0  How Elon Musk lost a friend over AI: Google co...            yes   \n",
       "1  Bill Gates Tries to Profit by Driving Down Tes...            yes   \n",
       "2  Putin hails Elon Musk as an 'outstanding perso...             no   \n",
       "3  What do donkeys, dragons and Hawaii have in co...             no   \n",
       "4  Elon Musks supercomputer Dojo added $70 billi...            yes   \n",
       "\n",
       "  tesla_related     label  \n",
       "0           yes   neutral  \n",
       "1           yes  negative  \n",
       "2            no   neutral  \n",
       "3            no   neutral  \n",
       "4           yes  positive  "
      ]
     },
     "execution_count": 26,
     "metadata": {},
     "output_type": "execute_result"
    }
   ],
   "source": [
    "# combine the two datasets\n",
    "cols1 = ['source_name', 'author', 'date', 'title', 'description', 'content', 'title_desc', 'one_shot_class', 'tesla_related', 'label']\n",
    "cols2 = ['source_name', 'author', 'date', 'title', 'description', 'content', 'title_desc', 'one_shot_class']\n",
    "df_merge = pd.concat([df_one[cols1], df_rest[cols2]])\n",
    "df_merge.head()"
   ]
  },
  {
   "cell_type": "code",
   "execution_count": 27,
   "id": "e04791c4-9601-4758-bee2-4656185def66",
   "metadata": {},
   "outputs": [
    {
     "data": {
      "text/html": [
       "<div>\n",
       "<style scoped>\n",
       "    .dataframe tbody tr th:only-of-type {\n",
       "        vertical-align: middle;\n",
       "    }\n",
       "\n",
       "    .dataframe tbody tr th {\n",
       "        vertical-align: top;\n",
       "    }\n",
       "\n",
       "    .dataframe thead th {\n",
       "        text-align: right;\n",
       "    }\n",
       "</style>\n",
       "<table border=\"1\" class=\"dataframe\">\n",
       "  <thead>\n",
       "    <tr style=\"text-align: right;\">\n",
       "      <th></th>\n",
       "      <th>source_name</th>\n",
       "      <th>author</th>\n",
       "      <th>date</th>\n",
       "      <th>title</th>\n",
       "      <th>description</th>\n",
       "      <th>content</th>\n",
       "      <th>title_desc</th>\n",
       "      <th>one_shot_class</th>\n",
       "      <th>tesla_related</th>\n",
       "      <th>label</th>\n",
       "    </tr>\n",
       "  </thead>\n",
       "  <tbody>\n",
       "    <tr>\n",
       "      <th>0</th>\n",
       "      <td>Fortune</td>\n",
       "      <td>Jane Thier</td>\n",
       "      <td>2023-09-12</td>\n",
       "      <td>How Elon Musk lost a friend over AI: Google co...</td>\n",
       "      <td>After Musk tried to sabotage Googles acquisit...</td>\n",
       "      <td>Teslas Elon Musk and Googles Larry Page dont t...</td>\n",
       "      <td>How Elon Musk lost a friend over AI: Google co...</td>\n",
       "      <td>yes</td>\n",
       "      <td>yes</td>\n",
       "      <td>neutral</td>\n",
       "    </tr>\n",
       "    <tr>\n",
       "      <th>1</th>\n",
       "      <td>CNN</td>\n",
       "      <td>Paul Glader</td>\n",
       "      <td>2023-09-12</td>\n",
       "      <td>Four takeaways from Walter Isaacson's biograph...</td>\n",
       "      <td>\"You'll never be successful,\" Errol Musk in 19...</td>\n",
       "      <td>Youll never be successful, Errol Musk in 1989 ...</td>\n",
       "      <td>Four takeaways from Walter Isaacson's biograph...</td>\n",
       "      <td>no</td>\n",
       "      <td>NaN</td>\n",
       "      <td>NaN</td>\n",
       "    </tr>\n",
       "    <tr>\n",
       "      <th>2</th>\n",
       "      <td>Business Insider</td>\n",
       "      <td>Grace Dean</td>\n",
       "      <td>2023-09-12</td>\n",
       "      <td>After Elon Musk spoke to Neuralink director Sh...</td>\n",
       "      <td>Zilis said that choosing to have Musk as a spe...</td>\n",
       "      <td>nullChesnot/Getty Images\\n&lt;ul&gt;&lt;li&gt;Elon Musk an...</td>\n",
       "      <td>After Elon Musk spoke to Neuralink director Sh...</td>\n",
       "      <td>no</td>\n",
       "      <td>NaN</td>\n",
       "      <td>NaN</td>\n",
       "    </tr>\n",
       "    <tr>\n",
       "      <th>3</th>\n",
       "      <td>Financial Post</td>\n",
       "      <td>Bloomberg News</td>\n",
       "      <td>2023-09-12</td>\n",
       "      <td>Tesla gets $80-billion boost from analyst call...</td>\n",
       "      <td>Some investors find Tesla Inc.'s $500-billion ...</td>\n",
       "      <td>Some investors find the $500-billion projectio...</td>\n",
       "      <td>Tesla gets $80-billion boost from analyst call...</td>\n",
       "      <td>yes</td>\n",
       "      <td>NaN</td>\n",
       "      <td>NaN</td>\n",
       "    </tr>\n",
       "    <tr>\n",
       "      <th>4</th>\n",
       "      <td>CNN</td>\n",
       "      <td>Catherine Thorbecke, CNN</td>\n",
       "      <td>2023-09-12</td>\n",
       "      <td>Tesla shares jump after Morgan Stanley predict...</td>\n",
       "      <td>Teslas Dojo supercomputer could fuel a $500 b...</td>\n",
       "      <td>Teslas Dojo supercomputer could fuel a $500 bi...</td>\n",
       "      <td>Tesla shares jump after Morgan Stanley predict...</td>\n",
       "      <td>yes</td>\n",
       "      <td>NaN</td>\n",
       "      <td>NaN</td>\n",
       "    </tr>\n",
       "  </tbody>\n",
       "</table>\n",
       "</div>"
      ],
      "text/plain": [
       "        source_name                    author       date  \\\n",
       "0           Fortune                Jane Thier 2023-09-12   \n",
       "1               CNN               Paul Glader 2023-09-12   \n",
       "2  Business Insider                Grace Dean 2023-09-12   \n",
       "3    Financial Post            Bloomberg News 2023-09-12   \n",
       "4               CNN  Catherine Thorbecke, CNN 2023-09-12   \n",
       "\n",
       "                                               title  \\\n",
       "0  How Elon Musk lost a friend over AI: Google co...   \n",
       "1  Four takeaways from Walter Isaacson's biograph...   \n",
       "2  After Elon Musk spoke to Neuralink director Sh...   \n",
       "3  Tesla gets $80-billion boost from analyst call...   \n",
       "4  Tesla shares jump after Morgan Stanley predict...   \n",
       "\n",
       "                                         description  \\\n",
       "0  After Musk tried to sabotage Googles acquisit...   \n",
       "1  \"You'll never be successful,\" Errol Musk in 19...   \n",
       "2  Zilis said that choosing to have Musk as a spe...   \n",
       "3  Some investors find Tesla Inc.'s $500-billion ...   \n",
       "4  Teslas Dojo supercomputer could fuel a $500 b...   \n",
       "\n",
       "                                             content  \\\n",
       "0  Teslas Elon Musk and Googles Larry Page dont t...   \n",
       "1  Youll never be successful, Errol Musk in 1989 ...   \n",
       "2  nullChesnot/Getty Images\\n<ul><li>Elon Musk an...   \n",
       "3  Some investors find the $500-billion projectio...   \n",
       "4  Teslas Dojo supercomputer could fuel a $500 bi...   \n",
       "\n",
       "                                          title_desc one_shot_class  \\\n",
       "0  How Elon Musk lost a friend over AI: Google co...            yes   \n",
       "1  Four takeaways from Walter Isaacson's biograph...             no   \n",
       "2  After Elon Musk spoke to Neuralink director Sh...             no   \n",
       "3  Tesla gets $80-billion boost from analyst call...            yes   \n",
       "4  Tesla shares jump after Morgan Stanley predict...            yes   \n",
       "\n",
       "  tesla_related    label  \n",
       "0           yes  neutral  \n",
       "1           NaN      NaN  \n",
       "2           NaN      NaN  \n",
       "3           NaN      NaN  \n",
       "4           NaN      NaN  "
      ]
     },
     "execution_count": 27,
     "metadata": {},
     "output_type": "execute_result"
    }
   ],
   "source": [
    "# sort the merged data based on `date` and reset index\n",
    "df_merge['date'] = pd.to_datetime(df_merge['date'])\n",
    "df_merge = df_merge.sort_values(by = ['date'])\n",
    "df_merge = df_merge.reset_index(drop = True)\n",
    "df_merge.head()"
   ]
  },
  {
   "cell_type": "code",
   "execution_count": 28,
   "id": "b027da24-bcff-43db-a022-89677358597e",
   "metadata": {},
   "outputs": [
    {
     "data": {
      "text/html": [
       "<div>\n",
       "<style scoped>\n",
       "    .dataframe tbody tr th:only-of-type {\n",
       "        vertical-align: middle;\n",
       "    }\n",
       "\n",
       "    .dataframe tbody tr th {\n",
       "        vertical-align: top;\n",
       "    }\n",
       "\n",
       "    .dataframe thead th {\n",
       "        text-align: right;\n",
       "    }\n",
       "</style>\n",
       "<table border=\"1\" class=\"dataframe\">\n",
       "  <thead>\n",
       "    <tr style=\"text-align: right;\">\n",
       "      <th></th>\n",
       "      <th>source_name</th>\n",
       "      <th>author</th>\n",
       "      <th>date</th>\n",
       "      <th>title</th>\n",
       "      <th>description</th>\n",
       "      <th>content</th>\n",
       "      <th>title_desc</th>\n",
       "      <th>one_shot_class</th>\n",
       "      <th>tesla_related</th>\n",
       "      <th>label</th>\n",
       "    </tr>\n",
       "  </thead>\n",
       "  <tbody>\n",
       "    <tr>\n",
       "      <th>340</th>\n",
       "      <td>The Irish Times</td>\n",
       "      <td>Proinsias O'Mahony</td>\n",
       "      <td>2023-10-10</td>\n",
       "      <td>Magnificent seven stocks are keeping indices a...</td>\n",
       "      <td>While the S&amp;P 500 is still up 11% this year, i...</td>\n",
       "      <td>The so-called magnificent seven tech giants Ap...</td>\n",
       "      <td>Magnificent seven stocks are keeping indices a...</td>\n",
       "      <td>no</td>\n",
       "      <td>NaN</td>\n",
       "      <td>NaN</td>\n",
       "    </tr>\n",
       "    <tr>\n",
       "      <th>341</th>\n",
       "      <td>Fortune</td>\n",
       "      <td>Prarthana Prakash</td>\n",
       "      <td>2023-10-11</td>\n",
       "      <td>Bernard Arnault, the world's second richest ma...</td>\n",
       "      <td>LVMH boss Bernard Arnault's wealth topped $200...</td>\n",
       "      <td>Big gains in luxury spending helped LVMH boss ...</td>\n",
       "      <td>Bernard Arnault, the world's second richest ma...</td>\n",
       "      <td>no</td>\n",
       "      <td>no</td>\n",
       "      <td>neutral</td>\n",
       "    </tr>\n",
       "    <tr>\n",
       "      <th>342</th>\n",
       "      <td>Business Insider</td>\n",
       "      <td>Alexa St. John</td>\n",
       "      <td>2023-10-11</td>\n",
       "      <td>Rivian CEO says he wouldn't buy the Cybertruck...</td>\n",
       "      <td>Rivian CEO RJ Scaringe spoke with GQ magazine ...</td>\n",
       "      <td>Carlos Delgado/Associated Press\\n&lt;ul&gt;&lt;li&gt;Rivia...</td>\n",
       "      <td>Rivian CEO says he wouldn't buy the Cybertruck...</td>\n",
       "      <td>yes</td>\n",
       "      <td>yes</td>\n",
       "      <td>neutral</td>\n",
       "    </tr>\n",
       "    <tr>\n",
       "      <th>343</th>\n",
       "      <td>Reuters</td>\n",
       "      <td>Giulio Piovaccari</td>\n",
       "      <td>2023-10-11</td>\n",
       "      <td>Ford, Hyundai turn to Italian casting machine ...</td>\n",
       "      <td>Idra, an Italian aluminium casting machine mak...</td>\n",
       "      <td>TRAVAGLIATO, Italy, Oct 11 (Reuters) - Idra, a...</td>\n",
       "      <td>Ford, Hyundai turn to Italian casting machine ...</td>\n",
       "      <td>yes</td>\n",
       "      <td>yes</td>\n",
       "      <td>neutral</td>\n",
       "    </tr>\n",
       "    <tr>\n",
       "      <th>344</th>\n",
       "      <td>Business Insider</td>\n",
       "      <td>psyme@insider.com (Pete Syme)</td>\n",
       "      <td>2023-10-11</td>\n",
       "      <td>Tesla rejected a major union's claims of healt...</td>\n",
       "      <td>Tesla workers at the Berlin Gigafactory have s...</td>\n",
       "      <td>Tesla has denied accusations from a German uni...</td>\n",
       "      <td>Tesla rejected a major union's claims of healt...</td>\n",
       "      <td>yes</td>\n",
       "      <td>NaN</td>\n",
       "      <td>NaN</td>\n",
       "    </tr>\n",
       "  </tbody>\n",
       "</table>\n",
       "</div>"
      ],
      "text/plain": [
       "          source_name                         author       date  \\\n",
       "340   The Irish Times             Proinsias O'Mahony 2023-10-10   \n",
       "341           Fortune              Prarthana Prakash 2023-10-11   \n",
       "342  Business Insider                 Alexa St. John 2023-10-11   \n",
       "343           Reuters              Giulio Piovaccari 2023-10-11   \n",
       "344  Business Insider  psyme@insider.com (Pete Syme) 2023-10-11   \n",
       "\n",
       "                                                 title  \\\n",
       "340  Magnificent seven stocks are keeping indices a...   \n",
       "341  Bernard Arnault, the world's second richest ma...   \n",
       "342  Rivian CEO says he wouldn't buy the Cybertruck...   \n",
       "343  Ford, Hyundai turn to Italian casting machine ...   \n",
       "344  Tesla rejected a major union's claims of healt...   \n",
       "\n",
       "                                           description  \\\n",
       "340  While the S&P 500 is still up 11% this year, i...   \n",
       "341  LVMH boss Bernard Arnault's wealth topped $200...   \n",
       "342  Rivian CEO RJ Scaringe spoke with GQ magazine ...   \n",
       "343  Idra, an Italian aluminium casting machine mak...   \n",
       "344  Tesla workers at the Berlin Gigafactory have s...   \n",
       "\n",
       "                                               content  \\\n",
       "340  The so-called magnificent seven tech giants Ap...   \n",
       "341  Big gains in luxury spending helped LVMH boss ...   \n",
       "342  Carlos Delgado/Associated Press\\n<ul><li>Rivia...   \n",
       "343  TRAVAGLIATO, Italy, Oct 11 (Reuters) - Idra, a...   \n",
       "344  Tesla has denied accusations from a German uni...   \n",
       "\n",
       "                                            title_desc one_shot_class  \\\n",
       "340  Magnificent seven stocks are keeping indices a...             no   \n",
       "341  Bernard Arnault, the world's second richest ma...             no   \n",
       "342  Rivian CEO says he wouldn't buy the Cybertruck...            yes   \n",
       "343  Ford, Hyundai turn to Italian casting machine ...            yes   \n",
       "344  Tesla rejected a major union's claims of healt...            yes   \n",
       "\n",
       "    tesla_related    label  \n",
       "340           NaN      NaN  \n",
       "341            no  neutral  \n",
       "342           yes  neutral  \n",
       "343           yes  neutral  \n",
       "344           NaN      NaN  "
      ]
     },
     "execution_count": 28,
     "metadata": {},
     "output_type": "execute_result"
    }
   ],
   "source": [
    "df_merge.tail()"
   ]
  },
  {
   "cell_type": "code",
   "execution_count": 29,
   "id": "20246e6f-dbb8-4780-80d5-051739895fb7",
   "metadata": {},
   "outputs": [
    {
     "name": "stdout",
     "output_type": "stream",
     "text": [
      "<class 'pandas.core.frame.DataFrame'>\n",
      "RangeIndex: 345 entries, 0 to 344\n",
      "Data columns (total 10 columns):\n",
      " #   Column          Non-Null Count  Dtype         \n",
      "---  ------          --------------  -----         \n",
      " 0   source_name     345 non-null    object        \n",
      " 1   author          342 non-null    object        \n",
      " 2   date            345 non-null    datetime64[ns]\n",
      " 3   title           345 non-null    object        \n",
      " 4   description     345 non-null    object        \n",
      " 5   content         345 non-null    object        \n",
      " 6   title_desc      345 non-null    object        \n",
      " 7   one_shot_class  344 non-null    object        \n",
      " 8   tesla_related   207 non-null    object        \n",
      " 9   label           207 non-null    object        \n",
      "dtypes: datetime64[ns](1), object(9)\n",
      "memory usage: 27.1+ KB\n"
     ]
    }
   ],
   "source": [
    "# check for missing values\n",
    "df_merge.info()"
   ]
  },
  {
   "cell_type": "code",
   "execution_count": 30,
   "id": "7fa36b7d-9cce-4134-8858-04318d951ae5",
   "metadata": {},
   "outputs": [
    {
     "name": "stdout",
     "output_type": "stream",
     "text": [
      "<class 'pandas.core.frame.DataFrame'>\n",
      "RangeIndex: 345 entries, 0 to 344\n",
      "Data columns (total 10 columns):\n",
      " #   Column          Non-Null Count  Dtype         \n",
      "---  ------          --------------  -----         \n",
      " 0   source_name     345 non-null    object        \n",
      " 1   author          342 non-null    object        \n",
      " 2   date            345 non-null    datetime64[ns]\n",
      " 3   title           345 non-null    object        \n",
      " 4   description     345 non-null    object        \n",
      " 5   content         345 non-null    object        \n",
      " 6   title_desc      345 non-null    object        \n",
      " 7   one_shot_class  345 non-null    object        \n",
      " 8   tesla_related   207 non-null    object        \n",
      " 9   label           207 non-null    object        \n",
      "dtypes: datetime64[ns](1), object(9)\n",
      "memory usage: 27.1+ KB\n"
     ]
    }
   ],
   "source": [
    "# fillin the missing one for the example\n",
    "df_merge.loc[df_merge['one_shot_class'].isnull(), 'one_shot_class'] = df_merge.loc[df_merge['one_shot_class'].isnull(), 'tesla_related']\n",
    "df_merge.info()"
   ]
  },
  {
   "cell_type": "code",
   "execution_count": 31,
   "id": "b20783ff-339c-43ed-883d-1714a177d733",
   "metadata": {},
   "outputs": [
    {
     "data": {
      "image/png": "[encoded data removed]",
      "text/plain": [
       "<Figure size 900x400 with 1 Axes>"
      ]
     },
     "metadata": {},
     "output_type": "display_data"
    }
   ],
   "source": [
    "# plot the counts for each label\n",
    "plt.figure(figsize = (9, 4))\n",
    "\n",
    "ax = sns.countplot(data = df_merge, y = 'one_shot_class')\n",
    "\n",
    "for patch in ax.patches:\n",
    "    width = patch.get_width()\n",
    "    ax.text(width + 1,\n",
    "            patch.get_y() + patch.get_height() / 2,\n",
    "            format(width, '1.0f'),\n",
    "            va = 'center')\n",
    "\n",
    "plt.title('Tesla News and None-Tesla News Counts in ALL Data', pad = 10)    \n",
    "plt.yticks([0, 1], ['None-Tesla', 'Tesla'])\n",
    "plt.ylabel(None)\n",
    "plt.xlabel('Number of News')\n",
    "plt.show()"
   ]
  },
  {
   "cell_type": "code",
   "execution_count": 32,
   "id": "8b8c5837-bd56-4755-a130-f2d63c296456",
   "metadata": {},
   "outputs": [],
   "source": [
    "# save the output\n",
    "df_merge.to_csv('../data/News_Classification_One_Class.csv', index = False)"
   ]
  },
  {
   "cell_type": "code",
   "execution_count": 33,
   "id": "133a7e18-2dae-4e26-b1d9-c32576b8724e",
   "metadata": {},
   "outputs": [
    {
     "data": {
      "text/html": [
       "<div>\n",
       "<style scoped>\n",
       "    .dataframe tbody tr th:only-of-type {\n",
       "        vertical-align: middle;\n",
       "    }\n",
       "\n",
       "    .dataframe tbody tr th {\n",
       "        vertical-align: top;\n",
       "    }\n",
       "\n",
       "    .dataframe thead th {\n",
       "        text-align: right;\n",
       "    }\n",
       "</style>\n",
       "<table border=\"1\" class=\"dataframe\">\n",
       "  <thead>\n",
       "    <tr style=\"text-align: right;\">\n",
       "      <th></th>\n",
       "      <th>source_name</th>\n",
       "      <th>author</th>\n",
       "      <th>date</th>\n",
       "      <th>title</th>\n",
       "      <th>description</th>\n",
       "      <th>content</th>\n",
       "      <th>title_desc</th>\n",
       "      <th>one_shot_class</th>\n",
       "      <th>tesla_related</th>\n",
       "      <th>label</th>\n",
       "    </tr>\n",
       "  </thead>\n",
       "  <tbody>\n",
       "    <tr>\n",
       "      <th>0</th>\n",
       "      <td>Fortune</td>\n",
       "      <td>Jane Thier</td>\n",
       "      <td>2023-09-12</td>\n",
       "      <td>How Elon Musk lost a friend over AI: Google co...</td>\n",
       "      <td>After Musk tried to sabotage Googles acquisit...</td>\n",
       "      <td>Teslas Elon Musk and Googles Larry Page dont t...</td>\n",
       "      <td>How Elon Musk lost a friend over AI: Google co...</td>\n",
       "      <td>yes</td>\n",
       "      <td>yes</td>\n",
       "      <td>neutral</td>\n",
       "    </tr>\n",
       "    <tr>\n",
       "      <th>1</th>\n",
       "      <td>CNN</td>\n",
       "      <td>Paul Glader</td>\n",
       "      <td>2023-09-12</td>\n",
       "      <td>Four takeaways from Walter Isaacson's biograph...</td>\n",
       "      <td>\"You'll never be successful,\" Errol Musk in 19...</td>\n",
       "      <td>Youll never be successful, Errol Musk in 1989 ...</td>\n",
       "      <td>Four takeaways from Walter Isaacson's biograph...</td>\n",
       "      <td>no</td>\n",
       "      <td>NaN</td>\n",
       "      <td>NaN</td>\n",
       "    </tr>\n",
       "    <tr>\n",
       "      <th>2</th>\n",
       "      <td>Business Insider</td>\n",
       "      <td>Grace Dean</td>\n",
       "      <td>2023-09-12</td>\n",
       "      <td>After Elon Musk spoke to Neuralink director Sh...</td>\n",
       "      <td>Zilis said that choosing to have Musk as a spe...</td>\n",
       "      <td>nullChesnot/Getty Images\\n&lt;ul&gt;&lt;li&gt;Elon Musk an...</td>\n",
       "      <td>After Elon Musk spoke to Neuralink director Sh...</td>\n",
       "      <td>no</td>\n",
       "      <td>NaN</td>\n",
       "      <td>NaN</td>\n",
       "    </tr>\n",
       "    <tr>\n",
       "      <th>3</th>\n",
       "      <td>Financial Post</td>\n",
       "      <td>Bloomberg News</td>\n",
       "      <td>2023-09-12</td>\n",
       "      <td>Tesla gets $80-billion boost from analyst call...</td>\n",
       "      <td>Some investors find Tesla Inc.'s $500-billion ...</td>\n",
       "      <td>Some investors find the $500-billion projectio...</td>\n",
       "      <td>Tesla gets $80-billion boost from analyst call...</td>\n",
       "      <td>yes</td>\n",
       "      <td>NaN</td>\n",
       "      <td>NaN</td>\n",
       "    </tr>\n",
       "    <tr>\n",
       "      <th>4</th>\n",
       "      <td>CNN</td>\n",
       "      <td>Catherine Thorbecke, CNN</td>\n",
       "      <td>2023-09-12</td>\n",
       "      <td>Tesla shares jump after Morgan Stanley predict...</td>\n",
       "      <td>Teslas Dojo supercomputer could fuel a $500 b...</td>\n",
       "      <td>Teslas Dojo supercomputer could fuel a $500 bi...</td>\n",
       "      <td>Tesla shares jump after Morgan Stanley predict...</td>\n",
       "      <td>yes</td>\n",
       "      <td>NaN</td>\n",
       "      <td>NaN</td>\n",
       "    </tr>\n",
       "  </tbody>\n",
       "</table>\n",
       "</div>"
      ],
      "text/plain": [
       "        source_name                    author        date  \\\n",
       "0           Fortune                Jane Thier  2023-09-12   \n",
       "1               CNN               Paul Glader  2023-09-12   \n",
       "2  Business Insider                Grace Dean  2023-09-12   \n",
       "3    Financial Post            Bloomberg News  2023-09-12   \n",
       "4               CNN  Catherine Thorbecke, CNN  2023-09-12   \n",
       "\n",
       "                                               title  \\\n",
       "0  How Elon Musk lost a friend over AI: Google co...   \n",
       "1  Four takeaways from Walter Isaacson's biograph...   \n",
       "2  After Elon Musk spoke to Neuralink director Sh...   \n",
       "3  Tesla gets $80-billion boost from analyst call...   \n",
       "4  Tesla shares jump after Morgan Stanley predict...   \n",
       "\n",
       "                                         description  \\\n",
       "0  After Musk tried to sabotage Googles acquisit...   \n",
       "1  \"You'll never be successful,\" Errol Musk in 19...   \n",
       "2  Zilis said that choosing to have Musk as a spe...   \n",
       "3  Some investors find Tesla Inc.'s $500-billion ...   \n",
       "4  Teslas Dojo supercomputer could fuel a $500 b...   \n",
       "\n",
       "                                             content  \\\n",
       "0  Teslas Elon Musk and Googles Larry Page dont t...   \n",
       "1  Youll never be successful, Errol Musk in 1989 ...   \n",
       "2  nullChesnot/Getty Images\\n<ul><li>Elon Musk an...   \n",
       "3  Some investors find the $500-billion projectio...   \n",
       "4  Teslas Dojo supercomputer could fuel a $500 bi...   \n",
       "\n",
       "                                          title_desc one_shot_class  \\\n",
       "0  How Elon Musk lost a friend over AI: Google co...            yes   \n",
       "1  Four takeaways from Walter Isaacson's biograph...             no   \n",
       "2  After Elon Musk spoke to Neuralink director Sh...             no   \n",
       "3  Tesla gets $80-billion boost from analyst call...            yes   \n",
       "4  Tesla shares jump after Morgan Stanley predict...            yes   \n",
       "\n",
       "  tesla_related    label  \n",
       "0           yes  neutral  \n",
       "1           NaN      NaN  \n",
       "2           NaN      NaN  \n",
       "3           NaN      NaN  \n",
       "4           NaN      NaN  "
      ]
     },
     "execution_count": 33,
     "metadata": {},
     "output_type": "execute_result"
    }
   ],
   "source": [
    "# check the saved data\n",
    "df_check = pd.read_csv('../data/News_Classification_One_Class.csv')\n",
    "df_check.head()"
   ]
  },
  {
   "cell_type": "code",
   "execution_count": 34,
   "id": "2ed4fde1-0f1f-4c70-b6d1-bccfec4ae9aa",
   "metadata": {},
   "outputs": [
    {
     "name": "stdout",
     "output_type": "stream",
     "text": [
      "<class 'pandas.core.frame.DataFrame'>\n",
      "RangeIndex: 345 entries, 0 to 344\n",
      "Data columns (total 10 columns):\n",
      " #   Column          Non-Null Count  Dtype \n",
      "---  ------          --------------  ----- \n",
      " 0   source_name     345 non-null    object\n",
      " 1   author          342 non-null    object\n",
      " 2   date            345 non-null    object\n",
      " 3   title           345 non-null    object\n",
      " 4   description     345 non-null    object\n",
      " 5   content         345 non-null    object\n",
      " 6   title_desc      345 non-null    object\n",
      " 7   one_shot_class  345 non-null    object\n",
      " 8   tesla_related   207 non-null    object\n",
      " 9   label           207 non-null    object\n",
      "dtypes: object(10)\n",
      "memory usage: 27.1+ KB\n"
     ]
    }
   ],
   "source": [
    "df_check.info()"
   ]
  }
 ],
 "metadata": {
  "kernelspec": {
   "display_name": "Python 3 (ipykernel)",
   "language": "python",
   "name": "python3"
  },
  "language_info": {
   "codemirror_mode": {
    "name": "ipython",
    "version": 3
   },
   "file_extension": ".py",
   "mimetype": "text/x-python",
   "name": "python",
   "nbconvert_exporter": "python",
   "pygments_lexer": "ipython3",
   "version": "3.10.9"
  }
 },
 "nbformat": 4,
 "nbformat_minor": 5
}
